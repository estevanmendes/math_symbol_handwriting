{
 "cells": [
  {
   "cell_type": "code",
   "execution_count": 1,
   "metadata": {},
   "outputs": [],
   "source": [
    "import pandas as pd\n",
    "import numpy as np\n",
    "import matplotlib.pyplot as plt\n",
    "from os import walk\n",
    "import re\n",
    "from keras.preprocessing.image import load_img\n",
    "from PIL import Image\n",
    "import glob\n",
    "from sklearn.model_selection import train_test_split\n",
    "from tensorflow import keras\n",
    "from tensorflow_addons import optimizers\n",
    "\n",
    "from tensorflow.keras import layers\n",
    "import tensorflow_hub as hub"
   ]
  },
  {
   "cell_type": "markdown",
   "metadata": {},
   "source": [
    "## preparing the dataset"
   ]
  },
  {
   "cell_type": "code",
   "execution_count": 2,
   "metadata": {},
   "outputs": [],
   "source": [
    "folder_path=\"C:\\\\Users\\\\estevan.amazonas\\\\Desktop\\\\EAAM (1)\\\\programacao\\\\ML_PROJETOS\\\\math_symbol_handwriting\\\\extracted_images\""
   ]
  },
  {
   "cell_type": "code",
   "execution_count": 3,
   "metadata": {},
   "outputs": [],
   "source": [
    "\n",
    "files_path=glob.glob(folder_path+'/*/*')"
   ]
  },
  {
   "cell_type": "code",
   "execution_count": 4,
   "metadata": {},
   "outputs": [],
   "source": [
    "df=pd.DataFrame(files_path,columns=['path'])"
   ]
  },
  {
   "cell_type": "code",
   "execution_count": 6,
   "metadata": {},
   "outputs": [],
   "source": [
    "df['symbol']=df.path.str.slice(-5,-4)"
   ]
  },
  {
   "cell_type": "code",
   "execution_count": 6,
   "metadata": {},
   "outputs": [
    {
     "data": {
      "text/plain": [
       "'C:\\\\Users\\\\estevan.amazonas\\\\Desktop\\\\EAAM (1)\\\\programacao\\\\ML_PROJETOS\\\\math_symbol_handwriting\\\\extracted_images\\\\!\\\\!_100071.jpg'"
      ]
     },
     "execution_count": 6,
     "metadata": {},
     "output_type": "execute_result"
    }
   ],
   "source": [
    "df.path[0]"
   ]
  },
  {
   "cell_type": "code",
   "execution_count": 8,
   "metadata": {},
   "outputs": [],
   "source": [
    "df['symbol']=df.path.map(lambda x: x.split('\\\\')[-2])"
   ]
  },
  {
   "cell_type": "code",
   "execution_count": 9,
   "metadata": {},
   "outputs": [
    {
     "data": {
      "text/html": [
       "<div>\n",
       "<style scoped>\n",
       "    .dataframe tbody tr th:only-of-type {\n",
       "        vertical-align: middle;\n",
       "    }\n",
       "\n",
       "    .dataframe tbody tr th {\n",
       "        vertical-align: top;\n",
       "    }\n",
       "\n",
       "    .dataframe thead th {\n",
       "        text-align: right;\n",
       "    }\n",
       "</style>\n",
       "<table border=\"1\" class=\"dataframe\">\n",
       "  <thead>\n",
       "    <tr style=\"text-align: right;\">\n",
       "      <th></th>\n",
       "      <th>path</th>\n",
       "    </tr>\n",
       "    <tr>\n",
       "      <th>symbol</th>\n",
       "      <th></th>\n",
       "    </tr>\n",
       "  </thead>\n",
       "  <tbody>\n",
       "    <tr>\n",
       "      <th>!</th>\n",
       "      <td>1300</td>\n",
       "    </tr>\n",
       "    <tr>\n",
       "      <th>(</th>\n",
       "      <td>14294</td>\n",
       "    </tr>\n",
       "    <tr>\n",
       "      <th>)</th>\n",
       "      <td>14355</td>\n",
       "    </tr>\n",
       "    <tr>\n",
       "      <th>+</th>\n",
       "      <td>25112</td>\n",
       "    </tr>\n",
       "    <tr>\n",
       "      <th>,</th>\n",
       "      <td>1906</td>\n",
       "    </tr>\n",
       "    <tr>\n",
       "      <th>...</th>\n",
       "      <td>...</td>\n",
       "    </tr>\n",
       "    <tr>\n",
       "      <th>w</th>\n",
       "      <td>556</td>\n",
       "    </tr>\n",
       "    <tr>\n",
       "      <th>y</th>\n",
       "      <td>9340</td>\n",
       "    </tr>\n",
       "    <tr>\n",
       "      <th>z</th>\n",
       "      <td>5870</td>\n",
       "    </tr>\n",
       "    <tr>\n",
       "      <th>{</th>\n",
       "      <td>376</td>\n",
       "    </tr>\n",
       "    <tr>\n",
       "      <th>}</th>\n",
       "      <td>377</td>\n",
       "    </tr>\n",
       "  </tbody>\n",
       "</table>\n",
       "<p>82 rows × 1 columns</p>\n",
       "</div>"
      ],
      "text/plain": [
       "         path\n",
       "symbol       \n",
       "!        1300\n",
       "(       14294\n",
       ")       14355\n",
       "+       25112\n",
       ",        1906\n",
       "...       ...\n",
       "w         556\n",
       "y        9340\n",
       "z        5870\n",
       "{         376\n",
       "}         377\n",
       "\n",
       "[82 rows x 1 columns]"
      ]
     },
     "execution_count": 9,
     "metadata": {},
     "output_type": "execute_result"
    }
   ],
   "source": [
    "df.groupby('symbol').count()"
   ]
  },
  {
   "cell_type": "code",
   "execution_count": 14,
   "metadata": {},
   "outputs": [
    {
     "data": {
      "text/html": [
       "<div>\n",
       "<style scoped>\n",
       "    .dataframe tbody tr th:only-of-type {\n",
       "        vertical-align: middle;\n",
       "    }\n",
       "\n",
       "    .dataframe tbody tr th {\n",
       "        vertical-align: top;\n",
       "    }\n",
       "\n",
       "    .dataframe thead th {\n",
       "        text-align: right;\n",
       "    }\n",
       "</style>\n",
       "<table border=\"1\" class=\"dataframe\">\n",
       "  <thead>\n",
       "    <tr style=\"text-align: right;\">\n",
       "      <th></th>\n",
       "      <th>path</th>\n",
       "    </tr>\n",
       "    <tr>\n",
       "      <th>symbol</th>\n",
       "      <th></th>\n",
       "    </tr>\n",
       "  </thead>\n",
       "  <tbody>\n",
       "    <tr>\n",
       "      <th>exists</th>\n",
       "      <td>21</td>\n",
       "    </tr>\n",
       "    <tr>\n",
       "      <th>forall</th>\n",
       "      <td>45</td>\n",
       "    </tr>\n",
       "    <tr>\n",
       "      <th>in</th>\n",
       "      <td>47</td>\n",
       "    </tr>\n",
       "    <tr>\n",
       "      <th>lambda</th>\n",
       "      <td>109</td>\n",
       "    </tr>\n",
       "    <tr>\n",
       "      <th>Delta</th>\n",
       "      <td>137</td>\n",
       "    </tr>\n",
       "    <tr>\n",
       "      <th>...</th>\n",
       "      <td>...</td>\n",
       "    </tr>\n",
       "    <tr>\n",
       "      <th>+</th>\n",
       "      <td>25112</td>\n",
       "    </tr>\n",
       "    <tr>\n",
       "      <th>2</th>\n",
       "      <td>26141</td>\n",
       "    </tr>\n",
       "    <tr>\n",
       "      <th>1</th>\n",
       "      <td>26520</td>\n",
       "    </tr>\n",
       "    <tr>\n",
       "      <th>X</th>\n",
       "      <td>26594</td>\n",
       "    </tr>\n",
       "    <tr>\n",
       "      <th>-</th>\n",
       "      <td>33997</td>\n",
       "    </tr>\n",
       "  </tbody>\n",
       "</table>\n",
       "<p>82 rows × 1 columns</p>\n",
       "</div>"
      ],
      "text/plain": [
       "         path\n",
       "symbol       \n",
       "exists     21\n",
       "forall     45\n",
       "in         47\n",
       "lambda    109\n",
       "Delta     137\n",
       "...       ...\n",
       "+       25112\n",
       "2       26141\n",
       "1       26520\n",
       "X       26594\n",
       "-       33997\n",
       "\n",
       "[82 rows x 1 columns]"
      ]
     },
     "execution_count": 14,
     "metadata": {},
     "output_type": "execute_result"
    }
   ],
   "source": [
    "df.groupby('symbol').count().sort_values('path')"
   ]
  },
  {
   "cell_type": "code",
   "execution_count": 10,
   "metadata": {},
   "outputs": [
    {
     "data": {
      "text/html": [
       "<div>\n",
       "<style scoped>\n",
       "    .dataframe tbody tr th:only-of-type {\n",
       "        vertical-align: middle;\n",
       "    }\n",
       "\n",
       "    .dataframe tbody tr th {\n",
       "        vertical-align: top;\n",
       "    }\n",
       "\n",
       "    .dataframe thead th {\n",
       "        text-align: right;\n",
       "    }\n",
       "</style>\n",
       "<table border=\"1\" class=\"dataframe\">\n",
       "  <thead>\n",
       "    <tr style=\"text-align: right;\">\n",
       "      <th></th>\n",
       "      <th>path</th>\n",
       "    </tr>\n",
       "    <tr>\n",
       "      <th>symbol</th>\n",
       "      <th></th>\n",
       "    </tr>\n",
       "  </thead>\n",
       "  <tbody>\n",
       "    <tr>\n",
       "      <th>exists</th>\n",
       "      <td>0.005585</td>\n",
       "    </tr>\n",
       "    <tr>\n",
       "      <th>forall</th>\n",
       "      <td>0.011969</td>\n",
       "    </tr>\n",
       "    <tr>\n",
       "      <th>in</th>\n",
       "      <td>0.012501</td>\n",
       "    </tr>\n",
       "    <tr>\n",
       "      <th>lambda</th>\n",
       "      <td>0.028991</td>\n",
       "    </tr>\n",
       "    <tr>\n",
       "      <th>Delta</th>\n",
       "      <td>0.036439</td>\n",
       "    </tr>\n",
       "    <tr>\n",
       "      <th>...</th>\n",
       "      <td>...</td>\n",
       "    </tr>\n",
       "    <tr>\n",
       "      <th>+</th>\n",
       "      <td>6.679185</td>\n",
       "    </tr>\n",
       "    <tr>\n",
       "      <th>2</th>\n",
       "      <td>6.952874</td>\n",
       "    </tr>\n",
       "    <tr>\n",
       "      <th>1</th>\n",
       "      <td>7.053679</td>\n",
       "    </tr>\n",
       "    <tr>\n",
       "      <th>X</th>\n",
       "      <td>7.073361</td>\n",
       "    </tr>\n",
       "    <tr>\n",
       "      <th>-</th>\n",
       "      <td>9.042381</td>\n",
       "    </tr>\n",
       "  </tbody>\n",
       "</table>\n",
       "<p>82 rows × 1 columns</p>\n",
       "</div>"
      ],
      "text/plain": [
       "            path\n",
       "symbol          \n",
       "exists  0.005585\n",
       "forall  0.011969\n",
       "in      0.012501\n",
       "lambda  0.028991\n",
       "Delta   0.036439\n",
       "...          ...\n",
       "+       6.679185\n",
       "2       6.952874\n",
       "1       7.053679\n",
       "X       7.073361\n",
       "-       9.042381\n",
       "\n",
       "[82 rows x 1 columns]"
      ]
     },
     "execution_count": 10,
     "metadata": {},
     "output_type": "execute_result"
    }
   ],
   "source": [
    "df.groupby('symbol').count().sort_values('path')/len(df)*100"
   ]
  },
  {
   "cell_type": "code",
   "execution_count": 11,
   "metadata": {},
   "outputs": [],
   "source": [
    "df.symbol=pd.Categorical(df.symbol)\n"
   ]
  },
  {
   "cell_type": "code",
   "execution_count": 12,
   "metadata": {},
   "outputs": [],
   "source": [
    "df['code_symbol']=df.symbol.cat.codes"
   ]
  },
  {
   "cell_type": "code",
   "execution_count": 13,
   "metadata": {},
   "outputs": [
    {
     "data": {
      "text/html": [
       "<div>\n",
       "<style scoped>\n",
       "    .dataframe tbody tr th:only-of-type {\n",
       "        vertical-align: middle;\n",
       "    }\n",
       "\n",
       "    .dataframe tbody tr th {\n",
       "        vertical-align: top;\n",
       "    }\n",
       "\n",
       "    .dataframe thead th {\n",
       "        text-align: right;\n",
       "    }\n",
       "</style>\n",
       "<table border=\"1\" class=\"dataframe\">\n",
       "  <thead>\n",
       "    <tr style=\"text-align: right;\">\n",
       "      <th></th>\n",
       "      <th>path</th>\n",
       "      <th>symbol</th>\n",
       "      <th>code_symbol</th>\n",
       "    </tr>\n",
       "  </thead>\n",
       "  <tbody>\n",
       "    <tr>\n",
       "      <th>0</th>\n",
       "      <td>C:\\Users\\estevan.amazonas\\Desktop\\EAAM (1)\\pro...</td>\n",
       "      <td>!</td>\n",
       "      <td>0</td>\n",
       "    </tr>\n",
       "    <tr>\n",
       "      <th>1</th>\n",
       "      <td>C:\\Users\\estevan.amazonas\\Desktop\\EAAM (1)\\pro...</td>\n",
       "      <td>!</td>\n",
       "      <td>0</td>\n",
       "    </tr>\n",
       "    <tr>\n",
       "      <th>2</th>\n",
       "      <td>C:\\Users\\estevan.amazonas\\Desktop\\EAAM (1)\\pro...</td>\n",
       "      <td>!</td>\n",
       "      <td>0</td>\n",
       "    </tr>\n",
       "    <tr>\n",
       "      <th>3</th>\n",
       "      <td>C:\\Users\\estevan.amazonas\\Desktop\\EAAM (1)\\pro...</td>\n",
       "      <td>!</td>\n",
       "      <td>0</td>\n",
       "    </tr>\n",
       "    <tr>\n",
       "      <th>4</th>\n",
       "      <td>C:\\Users\\estevan.amazonas\\Desktop\\EAAM (1)\\pro...</td>\n",
       "      <td>!</td>\n",
       "      <td>0</td>\n",
       "    </tr>\n",
       "  </tbody>\n",
       "</table>\n",
       "</div>"
      ],
      "text/plain": [
       "                                                path symbol  code_symbol\n",
       "0  C:\\Users\\estevan.amazonas\\Desktop\\EAAM (1)\\pro...      !            0\n",
       "1  C:\\Users\\estevan.amazonas\\Desktop\\EAAM (1)\\pro...      !            0\n",
       "2  C:\\Users\\estevan.amazonas\\Desktop\\EAAM (1)\\pro...      !            0\n",
       "3  C:\\Users\\estevan.amazonas\\Desktop\\EAAM (1)\\pro...      !            0\n",
       "4  C:\\Users\\estevan.amazonas\\Desktop\\EAAM (1)\\pro...      !            0"
      ]
     },
     "execution_count": 13,
     "metadata": {},
     "output_type": "execute_result"
    }
   ],
   "source": [
    "df.head()"
   ]
  },
  {
   "cell_type": "code",
   "execution_count": 68,
   "metadata": {},
   "outputs": [
    {
     "data": {
      "text/plain": [
       "375974"
      ]
     },
     "execution_count": 68,
     "metadata": {},
     "output_type": "execute_result"
    }
   ],
   "source": [
    "len(df)"
   ]
  },
  {
   "cell_type": "markdown",
   "metadata": {},
   "source": [
    "## Exploring the dataset"
   ]
  },
  {
   "cell_type": "code",
   "execution_count": 69,
   "metadata": {},
   "outputs": [
    {
     "data": {
      "text/plain": [
       "<matplotlib.image.AxesImage at 0x1d5d8d1db88>"
      ]
     },
     "execution_count": 69,
     "metadata": {},
     "output_type": "execute_result"
    },
    {
     "data": {
      "image/png": "[encoded data removed]",
      "text/plain": [
       "<Figure size 576x576 with 1 Axes>"
      ]
     },
     "metadata": {
      "needs_background": "light"
     },
     "output_type": "display_data"
    }
   ],
   "source": [
    "img=Image.open(df.path[0])\n",
    "plt.figure(figsize=(8,8))\n",
    "plt.imshow(img,cmap='gray')\n"
   ]
  },
  {
   "cell_type": "code",
   "execution_count": 31,
   "metadata": {},
   "outputs": [
    {
     "name": "stdout",
     "output_type": "stream",
     "text": [
      "(45, 45)\n"
     ]
    }
   ],
   "source": [
    "img=Image.open(df.path[0])\n",
    "print(img.size)"
   ]
  },
  {
   "cell_type": "code",
   "execution_count": 32,
   "metadata": {},
   "outputs": [
    {
     "data": {
      "text/plain": [
       "(45, 45)"
      ]
     },
     "execution_count": 32,
     "metadata": {},
     "output_type": "execute_result"
    }
   ],
   "source": [
    "Image.open(df.path[0]).size"
   ]
  },
  {
   "cell_type": "code",
   "execution_count": 37,
   "metadata": {},
   "outputs": [
    {
     "name": "stdout",
     "output_type": "stream",
     "text": [
      "(45, 45)\n",
      "(45, 45)\n",
      "(45, 45)\n",
      "(45, 45)\n",
      "(45, 45)\n",
      "(45, 45)\n",
      "(45, 45)\n",
      "(45, 45)\n",
      "(45, 45)\n",
      "(45, 45)\n",
      "(45, 45)\n",
      "(45, 45)\n",
      "(45, 45)\n",
      "(45, 45)\n",
      "(45, 45)\n",
      "(45, 45)\n",
      "(45, 45)\n",
      "(45, 45)\n",
      "(45, 45)\n",
      "(45, 45)\n",
      "(45, 45)\n",
      "(45, 45)\n",
      "(45, 45)\n",
      "(45, 45)\n",
      "(45, 45)\n",
      "(45, 45)\n",
      "(45, 45)\n",
      "(45, 45)\n",
      "(45, 45)\n",
      "(45, 45)\n",
      "(45, 45)\n",
      "(45, 45)\n",
      "(45, 45)\n",
      "(45, 45)\n",
      "(45, 45)\n",
      "(45, 45)\n",
      "(45, 45)\n",
      "(45, 45)\n",
      "(45, 45)\n",
      "(45, 45)\n",
      "(45, 45)\n",
      "(45, 45)\n",
      "(45, 45)\n",
      "(45, 45)\n",
      "(45, 45)\n",
      "(45, 45)\n",
      "(45, 45)\n",
      "(45, 45)\n",
      "(45, 45)\n",
      "(45, 45)\n",
      "(45, 45)\n",
      "(45, 45)\n",
      "(45, 45)\n",
      "(45, 45)\n",
      "(45, 45)\n",
      "(45, 45)\n",
      "(45, 45)\n",
      "(45, 45)\n",
      "(45, 45)\n",
      "(45, 45)\n",
      "(45, 45)\n",
      "(45, 45)\n",
      "(45, 45)\n",
      "(45, 45)\n",
      "(45, 45)\n",
      "(45, 45)\n",
      "(45, 45)\n",
      "(45, 45)\n",
      "(45, 45)\n",
      "(45, 45)\n",
      "(45, 45)\n",
      "(45, 45)\n",
      "(45, 45)\n",
      "(45, 45)\n",
      "(45, 45)\n",
      "(45, 45)\n",
      "(45, 45)\n",
      "(45, 45)\n",
      "(45, 45)\n",
      "(45, 45)\n",
      "(45, 45)\n",
      "(45, 45)\n",
      "(45, 45)\n",
      "(45, 45)\n",
      "(45, 45)\n",
      "(45, 45)\n",
      "(45, 45)\n",
      "(45, 45)\n",
      "(45, 45)\n",
      "(45, 45)\n",
      "(45, 45)\n",
      "(45, 45)\n",
      "(45, 45)\n",
      "(45, 45)\n",
      "(45, 45)\n",
      "(45, 45)\n",
      "(45, 45)\n",
      "(45, 45)\n",
      "(45, 45)\n",
      "(45, 45)\n"
     ]
    }
   ],
   "source": [
    "for path in df.path.sample(100):\n",
    "    print(Image.open(path).size)"
   ]
  },
  {
   "cell_type": "code",
   "execution_count": 215,
   "metadata": {},
   "outputs": [],
   "source": [
    "def load_img(path):\n",
    "    return Image.open(path)\n",
    "\n",
    "def img_to_flatten_array(img):\n",
    "    return np.array(img)\n",
    "\n",
    "def something(paths):\n",
    "    array_list=[]\n",
    "    for path in paths:\n",
    "        img=load_img(path)\n",
    "        array=img_to_flatten_array(img)\n",
    "        array_list.append(array)\n",
    "    return np.array(array_list)\n",
    "\n"
   ]
  },
  {
   "cell_type": "code",
   "execution_count": 88,
   "metadata": {},
   "outputs": [],
   "source": [
    "img=load_img(df.path[0])\n",
    "array=img_to_flatten_array(img)"
   ]
  },
  {
   "cell_type": "code",
   "execution_count": 77,
   "metadata": {},
   "outputs": [
    {
     "data": {
      "text/plain": [
       "(2025,)"
      ]
     },
     "execution_count": 77,
     "metadata": {},
     "output_type": "execute_result"
    }
   ],
   "source": [
    "array.shape"
   ]
  },
  {
   "cell_type": "code",
   "execution_count": 275,
   "metadata": {},
   "outputs": [],
   "source": [
    "x_train_path,x_test_path,y_train_code,y_test_code=train_test_split(df.index.values,df.code_symbol.values, test_size=0.05,train_size=0.50,random_state=123,stratify=df.code_symbol)"
   ]
  },
  {
   "cell_type": "code",
   "execution_count": 258,
   "metadata": {},
   "outputs": [],
   "source": [
    "N=len(y_train_code)\n",
    "teste=np.zeros((N,82))\n",
    "teste[np.arange(N),y_train_code]=10\n",
    "\n",
    "def y_label(data,dim=82):\n",
    "    N=len(data)\n",
    "    array=np.zeros((N,dim))\n",
    "    array[np.arange(N),data]=1\n",
    "    return array\n"
   ]
  },
  {
   "cell_type": "code",
   "execution_count": 276,
   "metadata": {},
   "outputs": [],
   "source": [
    "y_train=y_label(y_train_code)"
   ]
  },
  {
   "cell_type": "code",
   "execution_count": 277,
   "metadata": {},
   "outputs": [
    {
     "data": {
      "text/plain": [
       "(187987,)"
      ]
     },
     "execution_count": 277,
     "metadata": {},
     "output_type": "execute_result"
    }
   ],
   "source": [
    "df.path.loc[x_train_path].values.shape"
   ]
  },
  {
   "cell_type": "code",
   "execution_count": 278,
   "metadata": {},
   "outputs": [],
   "source": [
    "x_train=something(df.path.loc[x_train_path].values)"
   ]
  },
  {
   "cell_type": "code",
   "execution_count": 282,
   "metadata": {},
   "outputs": [
    {
     "name": "stdout",
     "output_type": "stream",
     "text": [
      "187987 187987 187987\n"
     ]
    }
   ],
   "source": [
    "print(len(x_train_path),len(y_train),len(x_train))"
   ]
  },
  {
   "cell_type": "markdown",
   "metadata": {},
   "source": [
    "## Fist Try\n"
   ]
  },
  {
   "cell_type": "code",
   "execution_count": 352,
   "metadata": {},
   "outputs": [],
   "source": [
    "model=keras.Sequential()\n",
    "model.add(layers.Flatten(input_shape=(45,45)))\n",
    "model.add(layers.Dense(30,activation='relu'))\n",
    "model.add(layers.Dense(82,activation='softmax'))\n",
    "opt=keras.optimizers.Adam(learning_rate=0.01)\n",
    "\n",
    "model.compile(loss='categorical_crossentropy',optimizer=opt,metrics=['accuracy'])"
   ]
  },
  {
   "cell_type": "code",
   "execution_count": 284,
   "metadata": {},
   "outputs": [
    {
     "name": "stdout",
     "output_type": "stream",
     "text": [
      "Model: \"sequential_12\"\n",
      "_________________________________________________________________\n",
      " Layer (type)                Output Shape              Param #   \n",
      "=================================================================\n",
      " flatten_6 (Flatten)         (None, 2025)              0         \n",
      "                                                                 \n",
      " dense_17 (Dense)            (None, 30)                60780     \n",
      "                                                                 \n",
      " dense_18 (Dense)            (None, 82)                2542      \n",
      "                                                                 \n",
      "=================================================================\n",
      "Total params: 63,322\n",
      "Trainable params: 63,322\n",
      "Non-trainable params: 0\n",
      "_________________________________________________________________\n"
     ]
    }
   ],
   "source": [
    "model.summary()"
   ]
  },
  {
   "cell_type": "code",
   "execution_count": 285,
   "metadata": {},
   "outputs": [
    {
     "data": {
      "text/plain": [
       "(187987, 45, 45)"
      ]
     },
     "execution_count": 285,
     "metadata": {},
     "output_type": "execute_result"
    }
   ],
   "source": [
    "x_train.shape"
   ]
  },
  {
   "cell_type": "code",
   "execution_count": 286,
   "metadata": {},
   "outputs": [
    {
     "name": "stdout",
     "output_type": "stream",
     "text": [
      "Epoch 1/20\n",
      "38/38 [==============================] - 2s 34ms/step - loss: 292.3219 - accuracy: 0.0668\n",
      "Epoch 2/20\n",
      "38/38 [==============================] - 1s 32ms/step - loss: 4.0770 - accuracy: 0.0789\n",
      "Epoch 3/20\n",
      "38/38 [==============================] - 1s 33ms/step - loss: 3.9153 - accuracy: 0.0904\n",
      "Epoch 4/20\n",
      "38/38 [==============================] - 1s 33ms/step - loss: 3.8193 - accuracy: 0.0904\n",
      "Epoch 5/20\n",
      "38/38 [==============================] - 1s 33ms/step - loss: 3.7638 - accuracy: 0.0904\n",
      "Epoch 6/20\n",
      "38/38 [==============================] - 1s 34ms/step - loss: 3.7314 - accuracy: 0.0904\n",
      "Epoch 7/20\n",
      "38/38 [==============================] - 1s 33ms/step - loss: 3.7115 - accuracy: 0.0904\n",
      "Epoch 8/20\n",
      "38/38 [==============================] - 1s 34ms/step - loss: 3.6984 - accuracy: 0.0904\n",
      "Epoch 9/20\n",
      "38/38 [==============================] - 1s 34ms/step - loss: 3.6895 - accuracy: 0.0904\n",
      "Epoch 10/20\n",
      "38/38 [==============================] - 1s 33ms/step - loss: 3.6833 - accuracy: 0.0904\n",
      "Epoch 11/20\n",
      "38/38 [==============================] - 1s 33ms/step - loss: 3.6789 - accuracy: 0.0904\n",
      "Epoch 12/20\n",
      "38/38 [==============================] - 1s 34ms/step - loss: 3.6757 - accuracy: 0.0904\n",
      "Epoch 13/20\n",
      "38/38 [==============================] - 1s 34ms/step - loss: 3.6734 - accuracy: 0.0904\n",
      "Epoch 14/20\n",
      "38/38 [==============================] - 1s 33ms/step - loss: 3.6716 - accuracy: 0.0904\n",
      "Epoch 15/20\n",
      "38/38 [==============================] - 1s 33ms/step - loss: 3.6701 - accuracy: 0.0904\n",
      "Epoch 16/20\n",
      "38/38 [==============================] - 1s 34ms/step - loss: 3.6690 - accuracy: 0.0904\n",
      "Epoch 17/20\n",
      "38/38 [==============================] - 1s 33ms/step - loss: 3.6681 - accuracy: 0.0904\n",
      "Epoch 18/20\n",
      "38/38 [==============================] - 1s 34ms/step - loss: 3.6673 - accuracy: 0.0904\n",
      "Epoch 19/20\n",
      "38/38 [==============================] - 1s 34ms/step - loss: 3.6668 - accuracy: 0.0904\n",
      "Epoch 20/20\n",
      "38/38 [==============================] - 1s 36ms/step - loss: 3.6662 - accuracy: 0.0904 1s -\n"
     ]
    }
   ],
   "source": [
    "\n",
    "history=model.fit(x_train,y_train,batch_size=5000,epochs=20)"
   ]
  },
  {
   "cell_type": "code",
   "execution_count": 287,
   "metadata": {},
   "outputs": [
    {
     "data": {
      "text/plain": [
       "[0.06677057594060898,\n",
       " 0.07894162833690643,\n",
       " 0.0904211476445198,\n",
       " 0.0904211476445198,\n",
       " 0.0904211476445198,\n",
       " 0.0904211476445198,\n",
       " 0.0904211476445198,\n",
       " 0.0904211476445198,\n",
       " 0.0904211476445198,\n",
       " 0.0904211476445198,\n",
       " 0.0904211476445198,\n",
       " 0.0904211476445198,\n",
       " 0.0904211476445198,\n",
       " 0.0904211476445198,\n",
       " 0.0904211476445198,\n",
       " 0.0904211476445198,\n",
       " 0.0904211476445198,\n",
       " 0.0904211476445198,\n",
       " 0.0904211476445198,\n",
       " 0.0904211476445198]"
      ]
     },
     "execution_count": 287,
     "metadata": {},
     "output_type": "execute_result"
    }
   ],
   "source": [
    "history.history['accuracy']"
   ]
  },
  {
   "cell_type": "code",
   "execution_count": 323,
   "metadata": {},
   "outputs": [
    {
     "data": {
      "text/html": [
       "<div>\n",
       "<style scoped>\n",
       "    .dataframe tbody tr th:only-of-type {\n",
       "        vertical-align: middle;\n",
       "    }\n",
       "\n",
       "    .dataframe tbody tr th {\n",
       "        vertical-align: top;\n",
       "    }\n",
       "\n",
       "    .dataframe thead th {\n",
       "        text-align: right;\n",
       "    }\n",
       "</style>\n",
       "<table border=\"1\" class=\"dataframe\">\n",
       "  <thead>\n",
       "    <tr style=\"text-align: right;\">\n",
       "      <th></th>\n",
       "      <th>path</th>\n",
       "      <th>symbol</th>\n",
       "    </tr>\n",
       "    <tr>\n",
       "      <th>code_symbol</th>\n",
       "      <th></th>\n",
       "      <th></th>\n",
       "    </tr>\n",
       "  </thead>\n",
       "  <tbody>\n",
       "    <tr>\n",
       "      <th>5</th>\n",
       "      <td>16998</td>\n",
       "      <td>16998</td>\n",
       "    </tr>\n",
       "    <tr>\n",
       "      <th>27</th>\n",
       "      <td>13297</td>\n",
       "      <td>13297</td>\n",
       "    </tr>\n",
       "    <tr>\n",
       "      <th>7</th>\n",
       "      <td>13260</td>\n",
       "      <td>13260</td>\n",
       "    </tr>\n",
       "    <tr>\n",
       "      <th>8</th>\n",
       "      <td>13070</td>\n",
       "      <td>13070</td>\n",
       "    </tr>\n",
       "    <tr>\n",
       "      <th>3</th>\n",
       "      <td>12556</td>\n",
       "      <td>12556</td>\n",
       "    </tr>\n",
       "    <tr>\n",
       "      <th>...</th>\n",
       "      <td>...</td>\n",
       "      <td>...</td>\n",
       "    </tr>\n",
       "    <tr>\n",
       "      <th>19</th>\n",
       "      <td>69</td>\n",
       "      <td>69</td>\n",
       "    </tr>\n",
       "    <tr>\n",
       "      <th>52</th>\n",
       "      <td>55</td>\n",
       "      <td>55</td>\n",
       "    </tr>\n",
       "    <tr>\n",
       "      <th>46</th>\n",
       "      <td>23</td>\n",
       "      <td>23</td>\n",
       "    </tr>\n",
       "    <tr>\n",
       "      <th>40</th>\n",
       "      <td>23</td>\n",
       "      <td>23</td>\n",
       "    </tr>\n",
       "    <tr>\n",
       "      <th>38</th>\n",
       "      <td>10</td>\n",
       "      <td>10</td>\n",
       "    </tr>\n",
       "  </tbody>\n",
       "</table>\n",
       "<p>82 rows × 2 columns</p>\n",
       "</div>"
      ],
      "text/plain": [
       "              path  symbol\n",
       "code_symbol               \n",
       "5            16998   16998\n",
       "27           13297   13297\n",
       "7            13260   13260\n",
       "8            13070   13070\n",
       "3            12556   12556\n",
       "...            ...     ...\n",
       "19              69      69\n",
       "52              55      55\n",
       "46              23      23\n",
       "40              23      23\n",
       "38              10      10\n",
       "\n",
       "[82 rows x 2 columns]"
      ]
     },
     "execution_count": 323,
     "metadata": {},
     "output_type": "execute_result"
    }
   ],
   "source": [
    "df.iloc[x_train_path].groupby('code_symbol').count().sort_values('path', ascending=False)"
   ]
  },
  {
   "cell_type": "code",
   "execution_count": 324,
   "metadata": {},
   "outputs": [
    {
     "data": {
      "text/plain": [
       "0.09042114614308436"
      ]
     },
     "execution_count": 324,
     "metadata": {},
     "output_type": "execute_result"
    }
   ],
   "source": [
    "16998/187987"
   ]
  },
  {
   "cell_type": "code",
   "execution_count": 306,
   "metadata": {},
   "outputs": [
    {
     "data": {
      "text/plain": [
       "(45, 45)"
      ]
     },
     "execution_count": 306,
     "metadata": {},
     "output_type": "execute_result"
    }
   ],
   "source": [
    "x_train[0].shape"
   ]
  },
  {
   "cell_type": "markdown",
   "metadata": {},
   "source": [
    "## improving the preprocessing step and using transfer learning techniques"
   ]
  },
  {
   "cell_type": "code",
   "execution_count": 154,
   "metadata": {},
   "outputs": [],
   "source": [
    "def load_img(path):\n",
    "    return Image.open(path)\n",
    "\n",
    "def to_array(img):\n",
    "    return np.array(img)\n",
    "\n",
    "def resize_img(img,new_size):\n",
    "    return img.resize(new_size)\n",
    "\n",
    "def load_paths(indexs):\n",
    "    return df.path.loc[indexs]\n",
    "\n",
    "def preprocessing(indexs):\n",
    "    paths=load_paths(indexs)\n",
    "    array_list=[]\n",
    "    for path in paths:\n",
    "        img=load_img(path)\n",
    "        img=resize_img(img,(28,28))\n",
    "        array=to_array(img)\n",
    "        array_list.append(array)\n",
    "\n",
    "        \n",
    "    return np.array(array_list)"
   ]
  },
  {
   "cell_type": "code",
   "execution_count": 17,
   "metadata": {},
   "outputs": [],
   "source": [
    "hub_url='https://tfhub.dev/tensorflow/tfgan/eval/mnist/logits/1'"
   ]
  },
  {
   "cell_type": "code",
   "execution_count": 19,
   "metadata": {},
   "outputs": [
    {
     "name": "stdout",
     "output_type": "stream",
     "text": [
      "Model: \"hand_writing\"\n",
      "_________________________________________________________________\n",
      " Layer (type)                Output Shape              Param #   \n",
      "=================================================================\n",
      " images (KerasLayer)         (None, 10)                0         \n",
      "                                                                 \n",
      " dense (Dense)               (None, 20)                220       \n",
      "                                                                 \n",
      " dense_1 (Dense)             (None, 82)                1722      \n",
      "                                                                 \n",
      "=================================================================\n",
      "Total params: 1,942\n",
      "Trainable params: 1,942\n",
      "Non-trainable params: 0\n",
      "_________________________________________________________________\n",
      "None\n"
     ]
    }
   ],
   "source": [
    "hub_url='https://tfhub.dev/tensorflow/tfgan/eval/mnist/logits/1'\n",
    "model_layers=[hub.KerasLayer( handle=hub_url,input_shape=[28, 28, 1], trainable=False, name='images'), \n",
    "layers.Dense(20, activation='relu'),\n",
    "layers.Dense(82, activation='softmax')]\n",
    "\n",
    "\n",
    "\n",
    "model=keras.Sequential(model_layers,name='hand_writing')\n",
    "\n",
    "model.compile(loss='sparse_categorical_crossentropy',optimizer='adam',metrics=['accuracy'])\n",
    "print(model.summary())\n",
    "\n",
    "\n"
   ]
  },
  {
   "cell_type": "code",
   "execution_count": 22,
   "metadata": {},
   "outputs": [],
   "source": [
    "x_train_path,x_test_path,y_train,y_test=train_test_split(df.index.values,df.code_symbol.values, test_size=0.05,train_size=0.50,random_state=123,stratify=df.code_symbol)"
   ]
  },
  {
   "cell_type": "code",
   "execution_count": 23,
   "metadata": {},
   "outputs": [],
   "source": [
    "x_train=preprocessing(x_train_path)\n",
    "x_test=preprocessing(x_test_path)\n"
   ]
  },
  {
   "cell_type": "code",
   "execution_count": 84,
   "metadata": {},
   "outputs": [
    {
     "data": {
      "text/html": [
       "<div>\n",
       "<style scoped>\n",
       "    .dataframe tbody tr th:only-of-type {\n",
       "        vertical-align: middle;\n",
       "    }\n",
       "\n",
       "    .dataframe tbody tr th {\n",
       "        vertical-align: top;\n",
       "    }\n",
       "\n",
       "    .dataframe thead th {\n",
       "        text-align: right;\n",
       "    }\n",
       "</style>\n",
       "<table border=\"1\" class=\"dataframe\">\n",
       "  <thead>\n",
       "    <tr style=\"text-align: right;\">\n",
       "      <th></th>\n",
       "      <th>path</th>\n",
       "      <th>code_symbol</th>\n",
       "    </tr>\n",
       "    <tr>\n",
       "      <th>symbol</th>\n",
       "      <th></th>\n",
       "      <th></th>\n",
       "    </tr>\n",
       "  </thead>\n",
       "  <tbody>\n",
       "    <tr>\n",
       "      <th>!</th>\n",
       "      <td>1300</td>\n",
       "      <td>1300</td>\n",
       "    </tr>\n",
       "    <tr>\n",
       "      <th>(</th>\n",
       "      <td>14294</td>\n",
       "      <td>14294</td>\n",
       "    </tr>\n",
       "    <tr>\n",
       "      <th>)</th>\n",
       "      <td>14355</td>\n",
       "      <td>14355</td>\n",
       "    </tr>\n",
       "    <tr>\n",
       "      <th>+</th>\n",
       "      <td>25112</td>\n",
       "      <td>25112</td>\n",
       "    </tr>\n",
       "    <tr>\n",
       "      <th>,</th>\n",
       "      <td>1906</td>\n",
       "      <td>1906</td>\n",
       "    </tr>\n",
       "    <tr>\n",
       "      <th>...</th>\n",
       "      <td>...</td>\n",
       "      <td>...</td>\n",
       "    </tr>\n",
       "    <tr>\n",
       "      <th>w</th>\n",
       "      <td>556</td>\n",
       "      <td>556</td>\n",
       "    </tr>\n",
       "    <tr>\n",
       "      <th>y</th>\n",
       "      <td>9340</td>\n",
       "      <td>9340</td>\n",
       "    </tr>\n",
       "    <tr>\n",
       "      <th>z</th>\n",
       "      <td>5870</td>\n",
       "      <td>5870</td>\n",
       "    </tr>\n",
       "    <tr>\n",
       "      <th>{</th>\n",
       "      <td>376</td>\n",
       "      <td>376</td>\n",
       "    </tr>\n",
       "    <tr>\n",
       "      <th>}</th>\n",
       "      <td>377</td>\n",
       "      <td>377</td>\n",
       "    </tr>\n",
       "  </tbody>\n",
       "</table>\n",
       "<p>82 rows × 2 columns</p>\n",
       "</div>"
      ],
      "text/plain": [
       "         path  code_symbol\n",
       "symbol                    \n",
       "!        1300         1300\n",
       "(       14294        14294\n",
       ")       14355        14355\n",
       "+       25112        25112\n",
       ",        1906         1906\n",
       "...       ...          ...\n",
       "w         556          556\n",
       "y        9340         9340\n",
       "z        5870         5870\n",
       "{         376          376\n",
       "}         377          377\n",
       "\n",
       "[82 rows x 2 columns]"
      ]
     },
     "execution_count": 84,
     "metadata": {},
     "output_type": "execute_result"
    }
   ],
   "source": [
    "df.groupby('symbol').count()\n"
   ]
  },
  {
   "cell_type": "code",
   "execution_count": 126,
   "metadata": {},
   "outputs": [],
   "source": [
    "number_digits=np.array(np.arange(10),dtype=str)"
   ]
  },
  {
   "cell_type": "code",
   "execution_count": 133,
   "metadata": {},
   "outputs": [
    {
     "name": "stderr",
     "output_type": "stream",
     "text": [
      "C:\\Users\\estevan.amazonas\\AppData\\Local\\Programs\\Python\\Python37\\lib\\site-packages\\ipykernel_launcher.py:1: UserWarning: Boolean Series key will be reindexed to match DataFrame index.\n",
      "  \"\"\"Entry point for launching an IPython kernel.\n"
     ]
    },
    {
     "data": {
      "text/html": [
       "<div>\n",
       "<style scoped>\n",
       "    .dataframe tbody tr th:only-of-type {\n",
       "        vertical-align: middle;\n",
       "    }\n",
       "\n",
       "    .dataframe tbody tr th {\n",
       "        vertical-align: top;\n",
       "    }\n",
       "\n",
       "    .dataframe thead th {\n",
       "        text-align: right;\n",
       "    }\n",
       "</style>\n",
       "<table border=\"1\" class=\"dataframe\">\n",
       "  <thead>\n",
       "    <tr style=\"text-align: right;\">\n",
       "      <th></th>\n",
       "      <th>symbol</th>\n",
       "      <th>code_symbol</th>\n",
       "    </tr>\n",
       "  </thead>\n",
       "  <tbody>\n",
       "    <tr>\n",
       "      <th>90964</th>\n",
       "      <td>0</td>\n",
       "      <td>6</td>\n",
       "    </tr>\n",
       "    <tr>\n",
       "      <th>97878</th>\n",
       "      <td>1</td>\n",
       "      <td>7</td>\n",
       "    </tr>\n",
       "    <tr>\n",
       "      <th>124398</th>\n",
       "      <td>2</td>\n",
       "      <td>8</td>\n",
       "    </tr>\n",
       "    <tr>\n",
       "      <th>150539</th>\n",
       "      <td>3</td>\n",
       "      <td>9</td>\n",
       "    </tr>\n",
       "    <tr>\n",
       "      <th>161448</th>\n",
       "      <td>4</td>\n",
       "      <td>10</td>\n",
       "    </tr>\n",
       "    <tr>\n",
       "      <th>168844</th>\n",
       "      <td>5</td>\n",
       "      <td>11</td>\n",
       "    </tr>\n",
       "    <tr>\n",
       "      <th>172389</th>\n",
       "      <td>6</td>\n",
       "      <td>12</td>\n",
       "    </tr>\n",
       "    <tr>\n",
       "      <th>175507</th>\n",
       "      <td>7</td>\n",
       "      <td>13</td>\n",
       "    </tr>\n",
       "    <tr>\n",
       "      <th>178416</th>\n",
       "      <td>8</td>\n",
       "      <td>14</td>\n",
       "    </tr>\n",
       "    <tr>\n",
       "      <th>181484</th>\n",
       "      <td>9</td>\n",
       "      <td>15</td>\n",
       "    </tr>\n",
       "  </tbody>\n",
       "</table>\n",
       "</div>"
      ],
      "text/plain": [
       "       symbol  code_symbol\n",
       "90964       0            6\n",
       "97878       1            7\n",
       "124398      2            8\n",
       "150539      3            9\n",
       "161448      4           10\n",
       "168844      5           11\n",
       "172389      6           12\n",
       "175507      7           13\n",
       "178416      8           14\n",
       "181484      9           15"
      ]
     },
     "execution_count": 133,
     "metadata": {},
     "output_type": "execute_result"
    }
   ],
   "source": [
    "df[['symbol','code_symbol']].drop_duplicates()[df.symbol.isin(number_digits)]"
   ]
  },
  {
   "cell_type": "code",
   "execution_count": 137,
   "metadata": {},
   "outputs": [],
   "source": [
    "df_train=df.loc[x_train_path]"
   ]
  },
  {
   "cell_type": "code",
   "execution_count": null,
   "metadata": {},
   "outputs": [
    {
     "data": {
      "text/plain": [
       "0.25070350609350645"
      ]
     },
     "execution_count": 140,
     "metadata": {},
     "output_type": "execute_result"
    }
   ],
   "source": [
    "#baseline\n",
    "print(len(df_train[df_train.symbol.isin(number_digits)])/len(df_train))"
   ]
  },
  {
   "cell_type": "markdown",
   "metadata": {},
   "source": [
    "## First results"
   ]
  },
  {
   "cell_type": "code",
   "execution_count": 117,
   "metadata": {},
   "outputs": [
    {
     "name": "stdout",
     "output_type": "stream",
     "text": [
      "Epoch 1/20\n",
      "376/376 [==============================] - 33s 87ms/step - loss: 40.5635 - accuracy: 0.1530\n",
      "Epoch 2/20\n",
      "376/376 [==============================] - 34s 90ms/step - loss: 5.4453 - accuracy: 0.2950\n",
      "Epoch 3/20\n",
      "376/376 [==============================] - 31s 82ms/step - loss: 3.2128 - accuracy: 0.3561\n",
      "Epoch 4/20\n",
      "376/376 [==============================] - 32s 85ms/step - loss: 2.7531 - accuracy: 0.3881\n",
      "Epoch 5/20\n",
      "376/376 [==============================] - 32s 84ms/step - loss: 2.5550 - accuracy: 0.4071\n",
      "Epoch 6/20\n",
      "376/376 [==============================] - 31s 81ms/step - loss: 2.4503 - accuracy: 0.4188\n",
      "Epoch 7/20\n",
      "376/376 [==============================] - 31s 83ms/step - loss: 2.3791 - accuracy: 0.4265\n",
      "Epoch 8/20\n",
      "376/376 [==============================] - 30s 79ms/step - loss: 2.3345 - accuracy: 0.4325\n",
      "Epoch 9/20\n",
      "376/376 [==============================] - 30s 79ms/step - loss: 2.3027 - accuracy: 0.4395\n",
      "Epoch 10/20\n",
      "376/376 [==============================] - 28s 73ms/step - loss: 2.2751 - accuracy: 0.4425\n",
      "Epoch 11/20\n",
      "376/376 [==============================] - 28s 73ms/step - loss: 2.2537 - accuracy: 0.4457\n",
      "Epoch 12/20\n",
      "376/376 [==============================] - 27s 73ms/step - loss: 2.2510 - accuracy: 0.4457\n",
      "Epoch 13/20\n",
      "376/376 [==============================] - 28s 73ms/step - loss: 2.2343 - accuracy: 0.4491\n",
      "Epoch 14/20\n",
      "376/376 [==============================] - 28s 73ms/step - loss: 2.2225 - accuracy: 0.4505\n",
      "Epoch 15/20\n",
      "376/376 [==============================] - 28s 73ms/step - loss: 2.2115 - accuracy: 0.4520\n",
      "Epoch 16/20\n",
      "376/376 [==============================] - 28s 75ms/step - loss: 2.1838 - accuracy: 0.4589\n",
      "Epoch 17/20\n",
      "376/376 [==============================] - 28s 76ms/step - loss: 2.1634 - accuracy: 0.4629\n",
      "Epoch 18/20\n",
      "376/376 [==============================] - 28s 75ms/step - loss: 2.1519 - accuracy: 0.4645\n",
      "Epoch 19/20\n",
      "376/376 [==============================] - 28s 73ms/step - loss: 2.1370 - accuracy: 0.4681\n",
      "Epoch 20/20\n",
      "376/376 [==============================] - 28s 73ms/step - loss: 2.1248 - accuracy: 0.4716\n"
     ]
    }
   ],
   "source": [
    "history=model.fit(x_train,y_train,batch_size=500,epochs=20)"
   ]
  },
  {
   "cell_type": "code",
   "execution_count": 118,
   "metadata": {},
   "outputs": [
    {
     "name": "stdout",
     "output_type": "stream",
     "text": [
      "Epoch 1/20\n",
      "376/376 [==============================] - 29s 78ms/step - loss: 2.1185 - accuracy: 0.4723\n",
      "Epoch 2/20\n",
      "376/376 [==============================] - 30s 79ms/step - loss: 2.1048 - accuracy: 0.4732\n",
      "Epoch 3/20\n",
      "376/376 [==============================] - 31s 82ms/step - loss: 2.0975 - accuracy: 0.4752\n",
      "Epoch 4/20\n",
      "376/376 [==============================] - 30s 80ms/step - loss: 2.0971 - accuracy: 0.4752\n",
      "Epoch 5/20\n",
      "376/376 [==============================] - 30s 81ms/step - loss: 2.0860 - accuracy: 0.4769\n",
      "Epoch 6/20\n",
      "376/376 [==============================] - 30s 80ms/step - loss: 2.0733 - accuracy: 0.4789\n",
      "Epoch 7/20\n",
      "376/376 [==============================] - 31s 81ms/step - loss: 2.0693 - accuracy: 0.4797\n",
      "Epoch 8/20\n",
      "376/376 [==============================] - 31s 82ms/step - loss: 2.0580 - accuracy: 0.4818\n",
      "Epoch 9/20\n",
      "376/376 [==============================] - 31s 82ms/step - loss: 2.0496 - accuracy: 0.4825\n",
      "Epoch 10/20\n",
      "376/376 [==============================] - 32s 84ms/step - loss: 2.0411 - accuracy: 0.4843\n",
      "Epoch 11/20\n",
      "376/376 [==============================] - 31s 82ms/step - loss: 2.0344 - accuracy: 0.4868\n",
      "Epoch 12/20\n",
      "376/376 [==============================] - 31s 82ms/step - loss: 2.0355 - accuracy: 0.4856\n",
      "Epoch 13/20\n",
      "376/376 [==============================] - 31s 83ms/step - loss: 2.0203 - accuracy: 0.4882\n",
      "Epoch 14/20\n",
      "376/376 [==============================] - 31s 82ms/step - loss: 2.0178 - accuracy: 0.4890\n",
      "Epoch 15/20\n",
      "376/376 [==============================] - 31s 82ms/step - loss: 2.0083 - accuracy: 0.4909\n",
      "Epoch 16/20\n",
      "376/376 [==============================] - 31s 82ms/step - loss: 2.0007 - accuracy: 0.4911\n",
      "Epoch 17/20\n",
      "376/376 [==============================] - 31s 82ms/step - loss: 1.9962 - accuracy: 0.4931\n",
      "Epoch 18/20\n",
      "376/376 [==============================] - 32s 86ms/step - loss: 1.9863 - accuracy: 0.4950\n",
      "Epoch 19/20\n",
      "376/376 [==============================] - 30s 80ms/step - loss: 1.9885 - accuracy: 0.4949\n",
      "Epoch 20/20\n",
      "376/376 [==============================] - 28s 74ms/step - loss: 1.9750 - accuracy: 0.4968\n"
     ]
    }
   ],
   "source": [
    "history2=model.fit(x_train,y_train,batch_size=500,epochs=20)"
   ]
  },
  {
   "cell_type": "code",
   "execution_count": 119,
   "metadata": {},
   "outputs": [
    {
     "name": "stdout",
     "output_type": "stream",
     "text": [
      "Epoch 1/40\n",
      "376/376 [==============================] - 30s 81ms/step - loss: 1.9738 - accuracy: 0.4967\n",
      "Epoch 2/40\n",
      "376/376 [==============================] - 32s 86ms/step - loss: 1.9665 - accuracy: 0.4982\n",
      "Epoch 3/40\n",
      "376/376 [==============================] - 33s 87ms/step - loss: 1.9568 - accuracy: 0.4999\n",
      "Epoch 4/40\n",
      "376/376 [==============================] - 30s 79ms/step - loss: 1.9523 - accuracy: 0.5012\n",
      "Epoch 5/40\n",
      "376/376 [==============================] - 30s 79ms/step - loss: 1.9507 - accuracy: 0.5005\n",
      "Epoch 6/40\n",
      "376/376 [==============================] - 31s 84ms/step - loss: 1.9416 - accuracy: 0.5027\n",
      "Epoch 7/40\n",
      "376/376 [==============================] - 31s 82ms/step - loss: 1.9381 - accuracy: 0.5035\n",
      "Epoch 8/40\n",
      "376/376 [==============================] - 28s 74ms/step - loss: 1.9316 - accuracy: 0.5045\n",
      "Epoch 9/40\n",
      "376/376 [==============================] - 28s 74ms/step - loss: 1.9251 - accuracy: 0.5058\n",
      "Epoch 10/40\n",
      "376/376 [==============================] - 32s 85ms/step - loss: 1.9211 - accuracy: 0.5068\n",
      "Epoch 11/40\n",
      "376/376 [==============================] - 31s 81ms/step - loss: 1.9159 - accuracy: 0.5075\n",
      "Epoch 12/40\n",
      "376/376 [==============================] - 30s 79ms/step - loss: 1.9122 - accuracy: 0.5092\n",
      "Epoch 13/40\n",
      "376/376 [==============================] - 31s 81ms/step - loss: 1.9081 - accuracy: 0.5100\n",
      "Epoch 14/40\n",
      "376/376 [==============================] - 30s 80ms/step - loss: 1.9079 - accuracy: 0.5095\n",
      "Epoch 15/40\n",
      "376/376 [==============================] - 32s 84ms/step - loss: 1.9018 - accuracy: 0.5108\n",
      "Epoch 16/40\n",
      "376/376 [==============================] - 29s 78ms/step - loss: 1.8972 - accuracy: 0.5109\n",
      "Epoch 17/40\n",
      "376/376 [==============================] - 28s 73ms/step - loss: 1.8942 - accuracy: 0.5123\n",
      "Epoch 18/40\n",
      "376/376 [==============================] - 32s 85ms/step - loss: 1.8896 - accuracy: 0.5130\n",
      "Epoch 19/40\n",
      "376/376 [==============================] - 30s 79ms/step - loss: 1.8829 - accuracy: 0.5146\n",
      "Epoch 20/40\n",
      "376/376 [==============================] - 31s 82ms/step - loss: 1.8867 - accuracy: 0.5129\n",
      "Epoch 21/40\n",
      "376/376 [==============================] - 29s 77ms/step - loss: 1.8757 - accuracy: 0.5159\n",
      "Epoch 22/40\n",
      "376/376 [==============================] - 29s 77ms/step - loss: 1.8753 - accuracy: 0.5157\n",
      "Epoch 23/40\n",
      "376/376 [==============================] - 28s 75ms/step - loss: 1.8720 - accuracy: 0.5166\n",
      "Epoch 24/40\n",
      "376/376 [==============================] - 28s 73ms/step - loss: 1.8669 - accuracy: 0.5172\n",
      "Epoch 25/40\n",
      "376/376 [==============================] - 28s 74ms/step - loss: 1.8653 - accuracy: 0.5170\n",
      "Epoch 26/40\n",
      "376/376 [==============================] - 28s 74ms/step - loss: 1.8616 - accuracy: 0.5173\n",
      "Epoch 27/40\n",
      "376/376 [==============================] - 28s 74ms/step - loss: 1.8569 - accuracy: 0.5187\n",
      "Epoch 28/40\n",
      "376/376 [==============================] - 28s 74ms/step - loss: 1.8510 - accuracy: 0.5193\n",
      "Epoch 29/40\n",
      "376/376 [==============================] - 27s 73ms/step - loss: 1.8500 - accuracy: 0.5201\n",
      "Epoch 30/40\n",
      "376/376 [==============================] - 28s 74ms/step - loss: 1.8478 - accuracy: 0.5205\n",
      "Epoch 31/40\n",
      "376/376 [==============================] - 28s 74ms/step - loss: 1.8431 - accuracy: 0.5209\n",
      "Epoch 32/40\n",
      "376/376 [==============================] - 28s 74ms/step - loss: 1.8406 - accuracy: 0.5218\n",
      "Epoch 33/40\n",
      "376/376 [==============================] - 27s 73ms/step - loss: 1.8375 - accuracy: 0.5224\n",
      "Epoch 34/40\n",
      "376/376 [==============================] - 28s 73ms/step - loss: 1.8329 - accuracy: 0.5246\n",
      "Epoch 35/40\n",
      "376/376 [==============================] - 27s 73ms/step - loss: 1.8298 - accuracy: 0.5252\n",
      "Epoch 36/40\n",
      "376/376 [==============================] - 28s 73ms/step - loss: 1.8287 - accuracy: 0.5247\n",
      "Epoch 37/40\n",
      "376/376 [==============================] - 28s 74ms/step - loss: 1.8248 - accuracy: 0.5257\n",
      "Epoch 38/40\n",
      "376/376 [==============================] - 28s 74ms/step - loss: 1.8238 - accuracy: 0.5262\n",
      "Epoch 39/40\n",
      "376/376 [==============================] - 28s 74ms/step - loss: 1.8218 - accuracy: 0.5278\n",
      "Epoch 40/40\n",
      "376/376 [==============================] - 28s 75ms/step - loss: 1.8198 - accuracy: 0.5275\n"
     ]
    }
   ],
   "source": [
    "history3=model.fit(x_train,y_train,batch_size=500,epochs=40)"
   ]
  },
  {
   "cell_type": "code",
   "execution_count": 120,
   "metadata": {},
   "outputs": [
    {
     "name": "stdout",
     "output_type": "stream",
     "text": [
      "Epoch 1/10\n",
      "376/376 [==============================] - 30s 80ms/step - loss: 1.8158 - accuracy: 0.5280\n",
      "Epoch 2/10\n",
      "376/376 [==============================] - 30s 81ms/step - loss: 1.8114 - accuracy: 0.5292\n",
      "Epoch 3/10\n",
      "376/376 [==============================] - 32s 85ms/step - loss: 1.8104 - accuracy: 0.5285\n",
      "Epoch 4/10\n",
      "376/376 [==============================] - 30s 81ms/step - loss: 1.8071 - accuracy: 0.5299\n",
      "Epoch 5/10\n",
      "376/376 [==============================] - 31s 82ms/step - loss: 1.8048 - accuracy: 0.5301\n",
      "Epoch 6/10\n",
      "376/376 [==============================] - 33s 87ms/step - loss: 1.8024 - accuracy: 0.5314\n",
      "Epoch 7/10\n",
      "376/376 [==============================] - 32s 85ms/step - loss: 1.8018 - accuracy: 0.5306\n",
      "Epoch 8/10\n",
      "376/376 [==============================] - 33s 87ms/step - loss: 1.7986 - accuracy: 0.5317\n",
      "Epoch 9/10\n",
      "376/376 [==============================] - 34s 91ms/step - loss: 1.7952 - accuracy: 0.5317\n",
      "Epoch 10/10\n",
      "376/376 [==============================] - 30s 80ms/step - loss: 1.7934 - accuracy: 0.5324\n"
     ]
    }
   ],
   "source": [
    "history3=model.fit(x_train,y_train,batch_size=500,epochs=10)"
   ]
  },
  {
   "cell_type": "code",
   "execution_count": 124,
   "metadata": {},
   "outputs": [
    {
     "name": "stdout",
     "output_type": "stream",
     "text": [
      "INFO:tensorflow:Assets written to: transfer_learning_model\\assets\n"
     ]
    },
    {
     "name": "stderr",
     "output_type": "stream",
     "text": [
      "INFO:tensorflow:Assets written to: transfer_learning_model\\assets\n"
     ]
    }
   ],
   "source": [
    "model.save('transfer_learning_model')"
   ]
  },
  {
   "cell_type": "code",
   "execution_count": 141,
   "metadata": {},
   "outputs": [
    {
     "name": "stdout",
     "output_type": "stream",
     "text": [
      "Epoch 1/40\n",
      "376/376 [==============================] - 29s 78ms/step - loss: 1.7928 - accuracy: 0.5314\n",
      "Epoch 2/40\n",
      "376/376 [==============================] - 29s 78ms/step - loss: 1.7917 - accuracy: 0.5331\n",
      "Epoch 3/40\n",
      "376/376 [==============================] - 30s 80ms/step - loss: 1.7878 - accuracy: 0.5342\n",
      "Epoch 4/40\n",
      "376/376 [==============================] - 31s 81ms/step - loss: 1.7860 - accuracy: 0.5340\n",
      "Epoch 5/40\n",
      "376/376 [==============================] - 33s 89ms/step - loss: 1.7841 - accuracy: 0.5342\n",
      "Epoch 6/40\n",
      "376/376 [==============================] - 32s 85ms/step - loss: 1.7817 - accuracy: 0.5356\n",
      "Epoch 7/40\n",
      "376/376 [==============================] - 34s 89ms/step - loss: 1.7811 - accuracy: 0.5354\n",
      "Epoch 8/40\n",
      "376/376 [==============================] - 31s 82ms/step - loss: 1.7783 - accuracy: 0.5362\n",
      "Epoch 9/40\n",
      "376/376 [==============================] - 29s 77ms/step - loss: 1.7779 - accuracy: 0.5363\n",
      "Epoch 10/40\n",
      "376/376 [==============================] - 27s 73ms/step - loss: 1.7756 - accuracy: 0.5373\n",
      "Epoch 11/40\n",
      "376/376 [==============================] - 27s 73ms/step - loss: 1.7724 - accuracy: 0.5377\n",
      "Epoch 12/40\n",
      "376/376 [==============================] - 27s 72ms/step - loss: 1.7736 - accuracy: 0.5363\n",
      "Epoch 13/40\n",
      "376/376 [==============================] - 27s 73ms/step - loss: 1.7684 - accuracy: 0.5387\n",
      "Epoch 14/40\n",
      "376/376 [==============================] - 27s 73ms/step - loss: 1.7662 - accuracy: 0.5387\n",
      "Epoch 15/40\n",
      "376/376 [==============================] - 27s 73ms/step - loss: 1.7647 - accuracy: 0.5395\n",
      "Epoch 16/40\n",
      "376/376 [==============================] - 27s 73ms/step - loss: 1.7640 - accuracy: 0.5391\n",
      "Epoch 17/40\n",
      "376/376 [==============================] - 28s 74ms/step - loss: 1.7602 - accuracy: 0.5407\n",
      "Epoch 18/40\n",
      "376/376 [==============================] - 28s 73ms/step - loss: 1.7602 - accuracy: 0.5399\n",
      "Epoch 19/40\n",
      "376/376 [==============================] - 27s 73ms/step - loss: 1.7575 - accuracy: 0.5415\n",
      "Epoch 20/40\n",
      "376/376 [==============================] - 28s 74ms/step - loss: 1.7567 - accuracy: 0.5400\n",
      "Epoch 21/40\n",
      "376/376 [==============================] - 27s 73ms/step - loss: 1.7540 - accuracy: 0.5414\n",
      "Epoch 22/40\n",
      "376/376 [==============================] - 28s 74ms/step - loss: 1.7503 - accuracy: 0.5418\n",
      "Epoch 23/40\n",
      "376/376 [==============================] - 27s 73ms/step - loss: 1.7503 - accuracy: 0.5422\n",
      "Epoch 24/40\n",
      "376/376 [==============================] - 28s 73ms/step - loss: 1.7495 - accuracy: 0.5413\n",
      "Epoch 25/40\n",
      "376/376 [==============================] - 27s 73ms/step - loss: 1.7485 - accuracy: 0.5423\n",
      "Epoch 26/40\n",
      "376/376 [==============================] - 27s 73ms/step - loss: 1.7461 - accuracy: 0.54330s - loss: 1.747\n",
      "Epoch 27/40\n",
      "376/376 [==============================] - 28s 74ms/step - loss: 1.7440 - accuracy: 0.5433\n",
      "Epoch 28/40\n",
      "376/376 [==============================] - 28s 73ms/step - loss: 1.7418 - accuracy: 0.5437\n",
      "Epoch 29/40\n",
      "376/376 [==============================] - 27s 73ms/step - loss: 1.7414 - accuracy: 0.5442\n",
      "Epoch 30/40\n",
      "376/376 [==============================] - 27s 73ms/step - loss: 1.7378 - accuracy: 0.5441\n",
      "Epoch 31/40\n",
      "376/376 [==============================] - 28s 74ms/step - loss: 1.7365 - accuracy: 0.54450s - loss: 1.7\n",
      "Epoch 32/40\n",
      "376/376 [==============================] - 27s 73ms/step - loss: 1.7363 - accuracy: 0.5440\n",
      "Epoch 33/40\n",
      "376/376 [==============================] - 27s 71ms/step - loss: 1.7342 - accuracy: 0.5449\n",
      "Epoch 34/40\n",
      "376/376 [==============================] - 27s 71ms/step - loss: 1.7339 - accuracy: 0.5446\n",
      "Epoch 35/40\n",
      "376/376 [==============================] - 27s 72ms/step - loss: 1.7319 - accuracy: 0.5446\n",
      "Epoch 36/40\n",
      "376/376 [==============================] - 27s 71ms/step - loss: 1.7306 - accuracy: 0.5451\n",
      "Epoch 37/40\n",
      "376/376 [==============================] - 27s 72ms/step - loss: 1.7301 - accuracy: 0.5453\n",
      "Epoch 38/40\n",
      "376/376 [==============================] - 27s 71ms/step - loss: 1.7290 - accuracy: 0.5459\n",
      "Epoch 39/40\n",
      "376/376 [==============================] - 27s 71ms/step - loss: 1.7266 - accuracy: 0.5461\n",
      "Epoch 40/40\n",
      "376/376 [==============================] - 27s 71ms/step - loss: 1.7257 - accuracy: 0.5466\n"
     ]
    }
   ],
   "source": [
    "history4=model.fit(x_train,y_train,batch_size=500,epochs=40)"
   ]
  },
  {
   "cell_type": "code",
   "execution_count": 142,
   "metadata": {},
   "outputs": [
    {
     "name": "stdout",
     "output_type": "stream",
     "text": [
      "Epoch 1/40\n",
      "376/376 [==============================] - 27s 73ms/step - loss: 1.7273 - accuracy: 0.5461\n",
      "Epoch 2/40\n",
      "376/376 [==============================] - 28s 74ms/step - loss: 1.7249 - accuracy: 0.5473\n",
      "Epoch 3/40\n",
      "376/376 [==============================] - 28s 74ms/step - loss: 1.7230 - accuracy: 0.5472\n",
      "Epoch 4/40\n",
      "376/376 [==============================] - 28s 75ms/step - loss: 1.7221 - accuracy: 0.5476\n",
      "Epoch 5/40\n",
      "376/376 [==============================] - 28s 75ms/step - loss: 1.7209 - accuracy: 0.5477\n",
      "Epoch 6/40\n",
      "376/376 [==============================] - 28s 75ms/step - loss: 1.7216 - accuracy: 0.5475\n",
      "Epoch 7/40\n",
      "376/376 [==============================] - 28s 75ms/step - loss: 1.7208 - accuracy: 0.5481\n",
      "Epoch 8/40\n",
      "376/376 [==============================] - 28s 76ms/step - loss: 1.7190 - accuracy: 0.5486\n",
      "Epoch 9/40\n",
      "376/376 [==============================] - 29s 76ms/step - loss: 1.7170 - accuracy: 0.5488\n",
      "Epoch 10/40\n",
      "376/376 [==============================] - 29s 76ms/step - loss: 1.7179 - accuracy: 0.5486\n",
      "Epoch 11/40\n",
      "376/376 [==============================] - 28s 76ms/step - loss: 1.7173 - accuracy: 0.5477\n",
      "Epoch 12/40\n",
      "376/376 [==============================] - 28s 75ms/step - loss: 1.7181 - accuracy: 0.5487\n",
      "Epoch 13/40\n",
      "376/376 [==============================] - 28s 76ms/step - loss: 1.7165 - accuracy: 0.5492\n",
      "Epoch 14/40\n",
      "376/376 [==============================] - 28s 76ms/step - loss: 1.7159 - accuracy: 0.5498\n",
      "Epoch 15/40\n",
      "376/376 [==============================] - 29s 76ms/step - loss: 1.7150 - accuracy: 0.5501\n",
      "Epoch 16/40\n",
      "376/376 [==============================] - 29s 76ms/step - loss: 1.7121 - accuracy: 0.5503\n",
      "Epoch 17/40\n",
      "376/376 [==============================] - 29s 77ms/step - loss: 1.7144 - accuracy: 0.5498\n",
      "Epoch 18/40\n",
      "376/376 [==============================] - 29s 77ms/step - loss: 1.7120 - accuracy: 0.5509\n",
      "Epoch 19/40\n",
      "376/376 [==============================] - 30s 79ms/step - loss: 1.7120 - accuracy: 0.5504\n",
      "Epoch 20/40\n",
      "376/376 [==============================] - 29s 77ms/step - loss: 1.7125 - accuracy: 0.5497\n",
      "Epoch 21/40\n",
      "376/376 [==============================] - 29s 77ms/step - loss: 1.7131 - accuracy: 0.5498\n",
      "Epoch 22/40\n",
      "376/376 [==============================] - 29s 77ms/step - loss: 1.7114 - accuracy: 0.5506\n",
      "Epoch 23/40\n",
      "376/376 [==============================] - 28s 73ms/step - loss: 1.7120 - accuracy: 0.5511\n",
      "Epoch 24/40\n",
      "376/376 [==============================] - 27s 72ms/step - loss: 1.7108 - accuracy: 0.5509\n",
      "Epoch 25/40\n",
      "376/376 [==============================] - 27s 72ms/step - loss: 1.7113 - accuracy: 0.5510\n",
      "Epoch 26/40\n",
      "376/376 [==============================] - 27s 72ms/step - loss: 1.7071 - accuracy: 0.5515\n",
      "Epoch 27/40\n",
      "376/376 [==============================] - 26s 70ms/step - loss: 1.7098 - accuracy: 0.5515\n",
      "Epoch 28/40\n",
      "376/376 [==============================] - 26s 69ms/step - loss: 1.7085 - accuracy: 0.5521\n",
      "Epoch 29/40\n",
      "376/376 [==============================] - 26s 69ms/step - loss: 1.7092 - accuracy: 0.5513\n",
      "Epoch 30/40\n",
      "376/376 [==============================] - 26s 69ms/step - loss: 1.7077 - accuracy: 0.5516\n",
      "Epoch 31/40\n",
      "376/376 [==============================] - 26s 69ms/step - loss: 1.7084 - accuracy: 0.5514\n",
      "Epoch 32/40\n",
      "376/376 [==============================] - 26s 68ms/step - loss: 1.7071 - accuracy: 0.5517\n",
      "Epoch 33/40\n",
      "376/376 [==============================] - 26s 70ms/step - loss: 1.7056 - accuracy: 0.5535\n",
      "Epoch 34/40\n",
      "376/376 [==============================] - 26s 69ms/step - loss: 1.7105 - accuracy: 0.5513\n",
      "Epoch 35/40\n",
      "376/376 [==============================] - 26s 69ms/step - loss: 1.7064 - accuracy: 0.5519\n",
      "Epoch 36/40\n",
      "376/376 [==============================] - 26s 68ms/step - loss: 1.7053 - accuracy: 0.5523\n",
      "Epoch 37/40\n",
      "376/376 [==============================] - 26s 68ms/step - loss: 1.7058 - accuracy: 0.5522\n",
      "Epoch 38/40\n",
      "376/376 [==============================] - 26s 68ms/step - loss: 1.7052 - accuracy: 0.5524\n",
      "Epoch 39/40\n",
      "376/376 [==============================] - 26s 69ms/step - loss: 1.7058 - accuracy: 0.5526\n",
      "Epoch 40/40\n",
      "376/376 [==============================] - 26s 69ms/step - loss: 1.7029 - accuracy: 0.5529\n"
     ]
    }
   ],
   "source": [
    "history5=model.fit(x_train,y_train,batch_size=500,epochs=40)"
   ]
  },
  {
   "cell_type": "code",
   "execution_count": 160,
   "metadata": {},
   "outputs": [
    {
     "data": {
      "image/png": "[encoded data removed]",
      "text/plain": [
       "<Figure size 864x576 with 1 Axes>"
      ]
     },
     "metadata": {
      "needs_background": "dark"
     },
     "output_type": "display_data"
    }
   ],
   "source": [
    "plt.figure(figsize=(12,8))\n",
    "plt.plot(np.hstack((history.history['accuracy'],history2.history['accuracy'],history3.history['accuracy'],history4.history['accuracy'],history5.history['accuracy'])))\n",
    "plt.tick_params(axis='both',color='white')\n",
    "plt.xticks(color='white')\n",
    "plt.yticks(color='white')\n",
    "plt.show()"
   ]
  },
  {
   "cell_type": "code",
   "execution_count": 159,
   "metadata": {},
   "outputs": [
    {
     "data": {
      "image/png": "[encoded data removed]",
      "text/plain": [
       "<Figure size 864x576 with 1 Axes>"
      ]
     },
     "metadata": {
      "needs_background": "dark"
     },
     "output_type": "display_data"
    }
   ],
   "source": [
    "plt.figure(figsize=(12,8))\n",
    "plt.plot(np.hstack((history.history['loss'],history2.history['loss'],history3.history['loss'],history4.history['loss'],history5.history['loss'])))\n",
    "plt.xticks(color='white')\n",
    "plt.yticks(color='white')\n",
    "plt.yscale('log')\n",
    "\n",
    "plt.show()"
   ]
  },
  {
   "cell_type": "code",
   "execution_count": 161,
   "metadata": {},
   "outputs": [
    {
     "name": "stdout",
     "output_type": "stream",
     "text": [
      "INFO:tensorflow:Assets written to: transfer_learning_model_120_epochs_of_training_batch_500\\assets\n"
     ]
    },
    {
     "name": "stderr",
     "output_type": "stream",
     "text": [
      "INFO:tensorflow:Assets written to: transfer_learning_model_120_epochs_of_training_batch_500\\assets\n"
     ]
    }
   ],
   "source": [
    "model.save('transfer_learning_model_120_epochs_of_training_batch_500')"
   ]
  },
  {
   "cell_type": "code",
   "execution_count": 162,
   "metadata": {},
   "outputs": [
    {
     "name": "stdout",
     "output_type": "stream",
     "text": [
      "Epoch 1/60\n",
      "376/376 [==============================] - 27s 73ms/step - loss: 1.7064 - accuracy: 0.5521\n",
      "Epoch 2/60\n",
      "376/376 [==============================] - 27s 73ms/step - loss: 1.7045 - accuracy: 0.5524\n",
      "Epoch 3/60\n",
      "376/376 [==============================] - 27s 72ms/step - loss: 1.7051 - accuracy: 0.5525\n",
      "Epoch 4/60\n",
      "376/376 [==============================] - 28s 73ms/step - loss: 1.7017 - accuracy: 0.5530\n",
      "Epoch 5/60\n",
      "376/376 [==============================] - 27s 73ms/step - loss: 1.7035 - accuracy: 0.5529\n",
      "Epoch 6/60\n",
      "376/376 [==============================] - 28s 74ms/step - loss: 1.7022 - accuracy: 0.5534\n",
      "Epoch 7/60\n",
      "376/376 [==============================] - 29s 76ms/step - loss: 1.7021 - accuracy: 0.5529\n",
      "Epoch 8/60\n",
      "376/376 [==============================] - 29s 77ms/step - loss: 1.7019 - accuracy: 0.5531\n",
      "Epoch 9/60\n",
      "376/376 [==============================] - 26s 68ms/step - loss: 1.7006 - accuracy: 0.55350s - loss: 1.7005 - accuracy: \n",
      "Epoch 10/60\n",
      "376/376 [==============================] - 26s 69ms/step - loss: 1.7033 - accuracy: 0.5535\n",
      "Epoch 11/60\n",
      "376/376 [==============================] - 26s 69ms/step - loss: 1.7026 - accuracy: 0.5534\n",
      "Epoch 12/60\n",
      "376/376 [==============================] - 26s 68ms/step - loss: 1.7012 - accuracy: 0.5538\n",
      "Epoch 13/60\n",
      "376/376 [==============================] - 26s 69ms/step - loss: 1.7013 - accuracy: 0.5547\n",
      "Epoch 14/60\n",
      "376/376 [==============================] - 26s 68ms/step - loss: 1.6982 - accuracy: 0.5533\n",
      "Epoch 15/60\n",
      "376/376 [==============================] - 26s 69ms/step - loss: 1.6995 - accuracy: 0.5542\n",
      "Epoch 16/60\n",
      "376/376 [==============================] - 27s 72ms/step - loss: 1.6981 - accuracy: 0.5542\n",
      "Epoch 17/60\n",
      "168/376 [============>.................] - ETA: 15s - loss: 1.7012 - accuracy: 0.5533"
     ]
    },
    {
     "ename": "KeyboardInterrupt",
     "evalue": "",
     "output_type": "error",
     "traceback": [
      "\u001b[1;31m---------------------------------------------------------------------------\u001b[0m",
      "\u001b[1;31mKeyboardInterrupt\u001b[0m                         Traceback (most recent call last)",
      "\u001b[1;32mC:\\Users\\ESTEVA~1.AMA\\AppData\\Local\\Temp/ipykernel_200460/2208795144.py\u001b[0m in \u001b[0;36m<module>\u001b[1;34m\u001b[0m\n\u001b[1;32m----> 1\u001b[1;33m \u001b[0mhistory5\u001b[0m\u001b[1;33m=\u001b[0m\u001b[0mmodel\u001b[0m\u001b[1;33m.\u001b[0m\u001b[0mfit\u001b[0m\u001b[1;33m(\u001b[0m\u001b[0mx_train\u001b[0m\u001b[1;33m,\u001b[0m\u001b[0my_train\u001b[0m\u001b[1;33m,\u001b[0m\u001b[0mbatch_size\u001b[0m\u001b[1;33m=\u001b[0m\u001b[1;36m500\u001b[0m\u001b[1;33m,\u001b[0m\u001b[0mepochs\u001b[0m\u001b[1;33m=\u001b[0m\u001b[1;36m60\u001b[0m\u001b[1;33m)\u001b[0m\u001b[1;33m\u001b[0m\u001b[1;33m\u001b[0m\u001b[0m\n\u001b[0m",
      "\u001b[1;32m~\\AppData\\Local\\Programs\\Python\\Python37\\lib\\site-packages\\keras\\utils\\traceback_utils.py\u001b[0m in \u001b[0;36merror_handler\u001b[1;34m(*args, **kwargs)\u001b[0m\n\u001b[0;32m     62\u001b[0m     \u001b[0mfiltered_tb\u001b[0m \u001b[1;33m=\u001b[0m \u001b[1;32mNone\u001b[0m\u001b[1;33m\u001b[0m\u001b[1;33m\u001b[0m\u001b[0m\n\u001b[0;32m     63\u001b[0m     \u001b[1;32mtry\u001b[0m\u001b[1;33m:\u001b[0m\u001b[1;33m\u001b[0m\u001b[1;33m\u001b[0m\u001b[0m\n\u001b[1;32m---> 64\u001b[1;33m       \u001b[1;32mreturn\u001b[0m \u001b[0mfn\u001b[0m\u001b[1;33m(\u001b[0m\u001b[1;33m*\u001b[0m\u001b[0margs\u001b[0m\u001b[1;33m,\u001b[0m \u001b[1;33m**\u001b[0m\u001b[0mkwargs\u001b[0m\u001b[1;33m)\u001b[0m\u001b[1;33m\u001b[0m\u001b[1;33m\u001b[0m\u001b[0m\n\u001b[0m\u001b[0;32m     65\u001b[0m     \u001b[1;32mexcept\u001b[0m \u001b[0mException\u001b[0m \u001b[1;32mas\u001b[0m \u001b[0me\u001b[0m\u001b[1;33m:\u001b[0m  \u001b[1;31m# pylint: disable=broad-except\u001b[0m\u001b[1;33m\u001b[0m\u001b[1;33m\u001b[0m\u001b[0m\n\u001b[0;32m     66\u001b[0m       \u001b[0mfiltered_tb\u001b[0m \u001b[1;33m=\u001b[0m \u001b[0m_process_traceback_frames\u001b[0m\u001b[1;33m(\u001b[0m\u001b[0me\u001b[0m\u001b[1;33m.\u001b[0m\u001b[0m__traceback__\u001b[0m\u001b[1;33m)\u001b[0m\u001b[1;33m\u001b[0m\u001b[1;33m\u001b[0m\u001b[0m\n",
      "\u001b[1;32m~\\AppData\\Local\\Programs\\Python\\Python37\\lib\\site-packages\\keras\\engine\\training.py\u001b[0m in \u001b[0;36mfit\u001b[1;34m(self, x, y, batch_size, epochs, verbose, callbacks, validation_split, validation_data, shuffle, class_weight, sample_weight, initial_epoch, steps_per_epoch, validation_steps, validation_batch_size, validation_freq, max_queue_size, workers, use_multiprocessing)\u001b[0m\n\u001b[0;32m   1214\u001b[0m                 _r=1):\n\u001b[0;32m   1215\u001b[0m               \u001b[0mcallbacks\u001b[0m\u001b[1;33m.\u001b[0m\u001b[0mon_train_batch_begin\u001b[0m\u001b[1;33m(\u001b[0m\u001b[0mstep\u001b[0m\u001b[1;33m)\u001b[0m\u001b[1;33m\u001b[0m\u001b[1;33m\u001b[0m\u001b[0m\n\u001b[1;32m-> 1216\u001b[1;33m               \u001b[0mtmp_logs\u001b[0m \u001b[1;33m=\u001b[0m \u001b[0mself\u001b[0m\u001b[1;33m.\u001b[0m\u001b[0mtrain_function\u001b[0m\u001b[1;33m(\u001b[0m\u001b[0miterator\u001b[0m\u001b[1;33m)\u001b[0m\u001b[1;33m\u001b[0m\u001b[1;33m\u001b[0m\u001b[0m\n\u001b[0m\u001b[0;32m   1217\u001b[0m               \u001b[1;32mif\u001b[0m \u001b[0mdata_handler\u001b[0m\u001b[1;33m.\u001b[0m\u001b[0mshould_sync\u001b[0m\u001b[1;33m:\u001b[0m\u001b[1;33m\u001b[0m\u001b[1;33m\u001b[0m\u001b[0m\n\u001b[0;32m   1218\u001b[0m                 \u001b[0mcontext\u001b[0m\u001b[1;33m.\u001b[0m\u001b[0masync_wait\u001b[0m\u001b[1;33m(\u001b[0m\u001b[1;33m)\u001b[0m\u001b[1;33m\u001b[0m\u001b[1;33m\u001b[0m\u001b[0m\n",
      "\u001b[1;32m~\\AppData\\Local\\Programs\\Python\\Python37\\lib\\site-packages\\tensorflow\\python\\util\\traceback_utils.py\u001b[0m in \u001b[0;36merror_handler\u001b[1;34m(*args, **kwargs)\u001b[0m\n\u001b[0;32m    148\u001b[0m     \u001b[0mfiltered_tb\u001b[0m \u001b[1;33m=\u001b[0m \u001b[1;32mNone\u001b[0m\u001b[1;33m\u001b[0m\u001b[1;33m\u001b[0m\u001b[0m\n\u001b[0;32m    149\u001b[0m     \u001b[1;32mtry\u001b[0m\u001b[1;33m:\u001b[0m\u001b[1;33m\u001b[0m\u001b[1;33m\u001b[0m\u001b[0m\n\u001b[1;32m--> 150\u001b[1;33m       \u001b[1;32mreturn\u001b[0m \u001b[0mfn\u001b[0m\u001b[1;33m(\u001b[0m\u001b[1;33m*\u001b[0m\u001b[0margs\u001b[0m\u001b[1;33m,\u001b[0m \u001b[1;33m**\u001b[0m\u001b[0mkwargs\u001b[0m\u001b[1;33m)\u001b[0m\u001b[1;33m\u001b[0m\u001b[1;33m\u001b[0m\u001b[0m\n\u001b[0m\u001b[0;32m    151\u001b[0m     \u001b[1;32mexcept\u001b[0m \u001b[0mException\u001b[0m \u001b[1;32mas\u001b[0m \u001b[0me\u001b[0m\u001b[1;33m:\u001b[0m\u001b[1;33m\u001b[0m\u001b[1;33m\u001b[0m\u001b[0m\n\u001b[0;32m    152\u001b[0m       \u001b[0mfiltered_tb\u001b[0m \u001b[1;33m=\u001b[0m \u001b[0m_process_traceback_frames\u001b[0m\u001b[1;33m(\u001b[0m\u001b[0me\u001b[0m\u001b[1;33m.\u001b[0m\u001b[0m__traceback__\u001b[0m\u001b[1;33m)\u001b[0m\u001b[1;33m\u001b[0m\u001b[1;33m\u001b[0m\u001b[0m\n",
      "\u001b[1;32m~\\AppData\\Local\\Programs\\Python\\Python37\\lib\\site-packages\\tensorflow\\python\\eager\\def_function.py\u001b[0m in \u001b[0;36m__call__\u001b[1;34m(self, *args, **kwds)\u001b[0m\n\u001b[0;32m    908\u001b[0m \u001b[1;33m\u001b[0m\u001b[0m\n\u001b[0;32m    909\u001b[0m       \u001b[1;32mwith\u001b[0m \u001b[0mOptionalXlaContext\u001b[0m\u001b[1;33m(\u001b[0m\u001b[0mself\u001b[0m\u001b[1;33m.\u001b[0m\u001b[0m_jit_compile\u001b[0m\u001b[1;33m)\u001b[0m\u001b[1;33m:\u001b[0m\u001b[1;33m\u001b[0m\u001b[1;33m\u001b[0m\u001b[0m\n\u001b[1;32m--> 910\u001b[1;33m         \u001b[0mresult\u001b[0m \u001b[1;33m=\u001b[0m \u001b[0mself\u001b[0m\u001b[1;33m.\u001b[0m\u001b[0m_call\u001b[0m\u001b[1;33m(\u001b[0m\u001b[1;33m*\u001b[0m\u001b[0margs\u001b[0m\u001b[1;33m,\u001b[0m \u001b[1;33m**\u001b[0m\u001b[0mkwds\u001b[0m\u001b[1;33m)\u001b[0m\u001b[1;33m\u001b[0m\u001b[1;33m\u001b[0m\u001b[0m\n\u001b[0m\u001b[0;32m    911\u001b[0m \u001b[1;33m\u001b[0m\u001b[0m\n\u001b[0;32m    912\u001b[0m       \u001b[0mnew_tracing_count\u001b[0m \u001b[1;33m=\u001b[0m \u001b[0mself\u001b[0m\u001b[1;33m.\u001b[0m\u001b[0mexperimental_get_tracing_count\u001b[0m\u001b[1;33m(\u001b[0m\u001b[1;33m)\u001b[0m\u001b[1;33m\u001b[0m\u001b[1;33m\u001b[0m\u001b[0m\n",
      "\u001b[1;32m~\\AppData\\Local\\Programs\\Python\\Python37\\lib\\site-packages\\tensorflow\\python\\eager\\def_function.py\u001b[0m in \u001b[0;36m_call\u001b[1;34m(self, *args, **kwds)\u001b[0m\n\u001b[0;32m    940\u001b[0m       \u001b[1;31m# In this case we have created variables on the first call, so we run the\u001b[0m\u001b[1;33m\u001b[0m\u001b[1;33m\u001b[0m\u001b[1;33m\u001b[0m\u001b[0m\n\u001b[0;32m    941\u001b[0m       \u001b[1;31m# defunned version which is guaranteed to never create variables.\u001b[0m\u001b[1;33m\u001b[0m\u001b[1;33m\u001b[0m\u001b[1;33m\u001b[0m\u001b[0m\n\u001b[1;32m--> 942\u001b[1;33m       \u001b[1;32mreturn\u001b[0m \u001b[0mself\u001b[0m\u001b[1;33m.\u001b[0m\u001b[0m_stateless_fn\u001b[0m\u001b[1;33m(\u001b[0m\u001b[1;33m*\u001b[0m\u001b[0margs\u001b[0m\u001b[1;33m,\u001b[0m \u001b[1;33m**\u001b[0m\u001b[0mkwds\u001b[0m\u001b[1;33m)\u001b[0m  \u001b[1;31m# pylint: disable=not-callable\u001b[0m\u001b[1;33m\u001b[0m\u001b[1;33m\u001b[0m\u001b[0m\n\u001b[0m\u001b[0;32m    943\u001b[0m     \u001b[1;32melif\u001b[0m \u001b[0mself\u001b[0m\u001b[1;33m.\u001b[0m\u001b[0m_stateful_fn\u001b[0m \u001b[1;32mis\u001b[0m \u001b[1;32mnot\u001b[0m \u001b[1;32mNone\u001b[0m\u001b[1;33m:\u001b[0m\u001b[1;33m\u001b[0m\u001b[1;33m\u001b[0m\u001b[0m\n\u001b[0;32m    944\u001b[0m       \u001b[1;31m# Release the lock early so that multiple threads can perform the call\u001b[0m\u001b[1;33m\u001b[0m\u001b[1;33m\u001b[0m\u001b[1;33m\u001b[0m\u001b[0m\n",
      "\u001b[1;32m~\\AppData\\Local\\Programs\\Python\\Python37\\lib\\site-packages\\tensorflow\\python\\eager\\function.py\u001b[0m in \u001b[0;36m__call__\u001b[1;34m(self, *args, **kwargs)\u001b[0m\n\u001b[0;32m   3129\u001b[0m        filtered_flat_args) = self._maybe_define_function(args, kwargs)\n\u001b[0;32m   3130\u001b[0m     return graph_function._call_flat(\n\u001b[1;32m-> 3131\u001b[1;33m         filtered_flat_args, captured_inputs=graph_function.captured_inputs)  # pylint: disable=protected-access\n\u001b[0m\u001b[0;32m   3132\u001b[0m \u001b[1;33m\u001b[0m\u001b[0m\n\u001b[0;32m   3133\u001b[0m   \u001b[1;33m@\u001b[0m\u001b[0mproperty\u001b[0m\u001b[1;33m\u001b[0m\u001b[1;33m\u001b[0m\u001b[0m\n",
      "\u001b[1;32m~\\AppData\\Local\\Programs\\Python\\Python37\\lib\\site-packages\\tensorflow\\python\\eager\\function.py\u001b[0m in \u001b[0;36m_call_flat\u001b[1;34m(self, args, captured_inputs, cancellation_manager)\u001b[0m\n\u001b[0;32m   1958\u001b[0m       \u001b[1;31m# No tape is watching; skip to running the function.\u001b[0m\u001b[1;33m\u001b[0m\u001b[1;33m\u001b[0m\u001b[1;33m\u001b[0m\u001b[0m\n\u001b[0;32m   1959\u001b[0m       return self._build_call_outputs(self._inference_function.call(\n\u001b[1;32m-> 1960\u001b[1;33m           ctx, args, cancellation_manager=cancellation_manager))\n\u001b[0m\u001b[0;32m   1961\u001b[0m     forward_backward = self._select_forward_and_backward_functions(\n\u001b[0;32m   1962\u001b[0m         \u001b[0margs\u001b[0m\u001b[1;33m,\u001b[0m\u001b[1;33m\u001b[0m\u001b[1;33m\u001b[0m\u001b[0m\n",
      "\u001b[1;32m~\\AppData\\Local\\Programs\\Python\\Python37\\lib\\site-packages\\tensorflow\\python\\eager\\function.py\u001b[0m in \u001b[0;36mcall\u001b[1;34m(self, ctx, args, cancellation_manager)\u001b[0m\n\u001b[0;32m    601\u001b[0m               \u001b[0minputs\u001b[0m\u001b[1;33m=\u001b[0m\u001b[0margs\u001b[0m\u001b[1;33m,\u001b[0m\u001b[1;33m\u001b[0m\u001b[1;33m\u001b[0m\u001b[0m\n\u001b[0;32m    602\u001b[0m               \u001b[0mattrs\u001b[0m\u001b[1;33m=\u001b[0m\u001b[0mattrs\u001b[0m\u001b[1;33m,\u001b[0m\u001b[1;33m\u001b[0m\u001b[1;33m\u001b[0m\u001b[0m\n\u001b[1;32m--> 603\u001b[1;33m               ctx=ctx)\n\u001b[0m\u001b[0;32m    604\u001b[0m         \u001b[1;32melse\u001b[0m\u001b[1;33m:\u001b[0m\u001b[1;33m\u001b[0m\u001b[1;33m\u001b[0m\u001b[0m\n\u001b[0;32m    605\u001b[0m           outputs = execute.execute_with_cancellation(\n",
      "\u001b[1;32m~\\AppData\\Local\\Programs\\Python\\Python37\\lib\\site-packages\\tensorflow\\python\\eager\\execute.py\u001b[0m in \u001b[0;36mquick_execute\u001b[1;34m(op_name, num_outputs, inputs, attrs, ctx, name)\u001b[0m\n\u001b[0;32m     57\u001b[0m     \u001b[0mctx\u001b[0m\u001b[1;33m.\u001b[0m\u001b[0mensure_initialized\u001b[0m\u001b[1;33m(\u001b[0m\u001b[1;33m)\u001b[0m\u001b[1;33m\u001b[0m\u001b[1;33m\u001b[0m\u001b[0m\n\u001b[0;32m     58\u001b[0m     tensors = pywrap_tfe.TFE_Py_Execute(ctx._handle, device_name, op_name,\n\u001b[1;32m---> 59\u001b[1;33m                                         inputs, attrs, num_outputs)\n\u001b[0m\u001b[0;32m     60\u001b[0m   \u001b[1;32mexcept\u001b[0m \u001b[0mcore\u001b[0m\u001b[1;33m.\u001b[0m\u001b[0m_NotOkStatusException\u001b[0m \u001b[1;32mas\u001b[0m \u001b[0me\u001b[0m\u001b[1;33m:\u001b[0m\u001b[1;33m\u001b[0m\u001b[1;33m\u001b[0m\u001b[0m\n\u001b[0;32m     61\u001b[0m     \u001b[1;32mif\u001b[0m \u001b[0mname\u001b[0m \u001b[1;32mis\u001b[0m \u001b[1;32mnot\u001b[0m \u001b[1;32mNone\u001b[0m\u001b[1;33m:\u001b[0m\u001b[1;33m\u001b[0m\u001b[1;33m\u001b[0m\u001b[0m\n",
      "\u001b[1;31mKeyboardInterrupt\u001b[0m: "
     ]
    }
   ],
   "source": [
    "history5=model.fit(x_train,y_train,batch_size=500,epochs=6 0)"
   ]
  },
  {
   "cell_type": "markdown",
   "metadata": {},
   "source": [
    "### Adding a validation split"
   ]
  },
  {
   "cell_type": "code",
   "execution_count": 25,
   "metadata": {},
   "outputs": [
    {
     "name": "stdout",
     "output_type": "stream",
     "text": [
      "Epoch 1/50\n",
      "301/301 [==============================] - 30s 97ms/step - loss: 46.0738 - accuracy: 0.1615 - val_loss: 9.7615 - val_accuracy: 0.2360\n",
      "Epoch 2/50\n",
      "301/301 [==============================] - 29s 97ms/step - loss: 5.9630 - accuracy: 0.2863 - val_loss: 3.9811 - val_accuracy: 0.3121\n",
      "Epoch 3/50\n",
      "301/301 [==============================] - 32s 106ms/step - loss: 3.2973 - accuracy: 0.3388 - val_loss: 2.9369 - val_accuracy: 0.3654\n",
      "Epoch 4/50\n",
      "301/301 [==============================] - 34s 115ms/step - loss: 2.7500 - accuracy: 0.3736 - val_loss: 2.6452 - val_accuracy: 0.3957\n",
      "Epoch 5/50\n",
      "301/301 [==============================] - 34s 112ms/step - loss: 2.5328 - accuracy: 0.3981 - val_loss: 2.4916 - val_accuracy: 0.4103\n",
      "Epoch 6/50\n",
      "301/301 [==============================] - 34s 112ms/step - loss: 2.4186 - accuracy: 0.4146 - val_loss: 2.3740 - val_accuracy: 0.4258\n",
      "Epoch 7/50\n",
      "301/301 [==============================] - 33s 111ms/step - loss: 2.3391 - accuracy: 0.4273 - val_loss: 2.3503 - val_accuracy: 0.4264\n",
      "Epoch 8/50\n",
      "301/301 [==============================] - 33s 110ms/step - loss: 2.2746 - accuracy: 0.4382 - val_loss: 2.2429 - val_accuracy: 0.4464\n",
      "Epoch 9/50\n",
      "301/301 [==============================] - 33s 111ms/step - loss: 2.2256 - accuracy: 0.4467 - val_loss: 2.2111 - val_accuracy: 0.4517\n",
      "Epoch 10/50\n",
      "301/301 [==============================] - 33s 109ms/step - loss: 2.1926 - accuracy: 0.4542 - val_loss: 2.1831 - val_accuracy: 0.4610\n",
      "Epoch 11/50\n",
      "301/301 [==============================] - 30s 99ms/step - loss: 2.1667 - accuracy: 0.4583 - val_loss: 2.1777 - val_accuracy: 0.4554\n",
      "Epoch 12/50\n",
      "301/301 [==============================] - 31s 103ms/step - loss: 2.1424 - accuracy: 0.4631 - val_loss: 2.1415 - val_accuracy: 0.4691\n",
      "Epoch 13/50\n",
      "301/301 [==============================] - 30s 101ms/step - loss: 2.1240 - accuracy: 0.4675 - val_loss: 2.1029 - val_accuracy: 0.4762\n",
      "Epoch 14/50\n",
      "301/301 [==============================] - 30s 98ms/step - loss: 2.0956 - accuracy: 0.4714 - val_loss: 2.0849 - val_accuracy: 0.4783\n",
      "Epoch 15/50\n",
      "301/301 [==============================] - 28s 94ms/step - loss: 2.0764 - accuracy: 0.4775 - val_loss: 2.0763 - val_accuracy: 0.4768\n",
      "Epoch 16/50\n",
      "301/301 [==============================] - 28s 94ms/step - loss: 2.0648 - accuracy: 0.4781 - val_loss: 2.0745 - val_accuracy: 0.4781\n",
      "Epoch 17/50\n",
      "301/301 [==============================] - 28s 93ms/step - loss: 2.0553 - accuracy: 0.4809 - val_loss: 2.0686 - val_accuracy: 0.4776\n",
      "Epoch 18/50\n",
      "301/301 [==============================] - 28s 93ms/step - loss: 2.0463 - accuracy: 0.4825 - val_loss: 2.0616 - val_accuracy: 0.4794\n",
      "Epoch 19/50\n",
      "301/301 [==============================] - 28s 92ms/step - loss: 2.0394 - accuracy: 0.4827 - val_loss: 2.0437 - val_accuracy: 0.4861\n",
      "Epoch 20/50\n",
      "301/301 [==============================] - 27s 91ms/step - loss: 2.0287 - accuracy: 0.4871 - val_loss: 2.0272 - val_accuracy: 0.4864\n",
      "Epoch 21/50\n",
      "301/301 [==============================] - 28s 94ms/step - loss: 2.0249 - accuracy: 0.4866 - val_loss: 2.0202 - val_accuracy: 0.4924\n",
      "Epoch 22/50\n",
      "301/301 [==============================] - ETA: 0s - loss: 2.0206 - accuracy: 0.4883"
     ]
    },
    {
     "ename": "KeyboardInterrupt",
     "evalue": "",
     "output_type": "error",
     "traceback": [
      "\u001b[1;31m---------------------------------------------------------------------------\u001b[0m",
      "\u001b[1;31mKeyboardInterrupt\u001b[0m                         Traceback (most recent call last)",
      "\u001b[1;32mC:\\Users\\ESTEVA~1.AMA\\AppData\\Local\\Temp/ipykernel_21776/12739616.py\u001b[0m in \u001b[0;36m<module>\u001b[1;34m\u001b[0m\n\u001b[1;32m----> 1\u001b[1;33m \u001b[0mhistory\u001b[0m\u001b[1;33m=\u001b[0m\u001b[0mmodel\u001b[0m\u001b[1;33m.\u001b[0m\u001b[0mfit\u001b[0m\u001b[1;33m(\u001b[0m\u001b[0mx_train\u001b[0m\u001b[1;33m,\u001b[0m\u001b[0my_train\u001b[0m\u001b[1;33m,\u001b[0m\u001b[0mbatch_size\u001b[0m\u001b[1;33m=\u001b[0m\u001b[1;36m500\u001b[0m\u001b[1;33m,\u001b[0m\u001b[0mepochs\u001b[0m\u001b[1;33m=\u001b[0m\u001b[1;36m50\u001b[0m\u001b[1;33m,\u001b[0m\u001b[0mvalidation_split\u001b[0m\u001b[1;33m=\u001b[0m\u001b[1;36m0.2\u001b[0m\u001b[1;33m)\u001b[0m\u001b[1;33m\u001b[0m\u001b[1;33m\u001b[0m\u001b[0m\n\u001b[0m",
      "\u001b[1;32m~\\AppData\\Local\\Programs\\Python\\Python37\\lib\\site-packages\\keras\\utils\\traceback_utils.py\u001b[0m in \u001b[0;36merror_handler\u001b[1;34m(*args, **kwargs)\u001b[0m\n\u001b[0;32m     62\u001b[0m     \u001b[0mfiltered_tb\u001b[0m \u001b[1;33m=\u001b[0m \u001b[1;32mNone\u001b[0m\u001b[1;33m\u001b[0m\u001b[1;33m\u001b[0m\u001b[0m\n\u001b[0;32m     63\u001b[0m     \u001b[1;32mtry\u001b[0m\u001b[1;33m:\u001b[0m\u001b[1;33m\u001b[0m\u001b[1;33m\u001b[0m\u001b[0m\n\u001b[1;32m---> 64\u001b[1;33m       \u001b[1;32mreturn\u001b[0m \u001b[0mfn\u001b[0m\u001b[1;33m(\u001b[0m\u001b[1;33m*\u001b[0m\u001b[0margs\u001b[0m\u001b[1;33m,\u001b[0m \u001b[1;33m**\u001b[0m\u001b[0mkwargs\u001b[0m\u001b[1;33m)\u001b[0m\u001b[1;33m\u001b[0m\u001b[1;33m\u001b[0m\u001b[0m\n\u001b[0m\u001b[0;32m     65\u001b[0m     \u001b[1;32mexcept\u001b[0m \u001b[0mException\u001b[0m \u001b[1;32mas\u001b[0m \u001b[0me\u001b[0m\u001b[1;33m:\u001b[0m  \u001b[1;31m# pylint: disable=broad-except\u001b[0m\u001b[1;33m\u001b[0m\u001b[1;33m\u001b[0m\u001b[0m\n\u001b[0;32m     66\u001b[0m       \u001b[0mfiltered_tb\u001b[0m \u001b[1;33m=\u001b[0m \u001b[0m_process_traceback_frames\u001b[0m\u001b[1;33m(\u001b[0m\u001b[0me\u001b[0m\u001b[1;33m.\u001b[0m\u001b[0m__traceback__\u001b[0m\u001b[1;33m)\u001b[0m\u001b[1;33m\u001b[0m\u001b[1;33m\u001b[0m\u001b[0m\n",
      "\u001b[1;32m~\\AppData\\Local\\Programs\\Python\\Python37\\lib\\site-packages\\keras\\engine\\training.py\u001b[0m in \u001b[0;36mfit\u001b[1;34m(self, x, y, batch_size, epochs, verbose, callbacks, validation_split, validation_data, shuffle, class_weight, sample_weight, initial_epoch, steps_per_epoch, validation_steps, validation_batch_size, validation_freq, max_queue_size, workers, use_multiprocessing)\u001b[0m\n\u001b[0;32m   1261\u001b[0m               \u001b[0muse_multiprocessing\u001b[0m\u001b[1;33m=\u001b[0m\u001b[0muse_multiprocessing\u001b[0m\u001b[1;33m,\u001b[0m\u001b[1;33m\u001b[0m\u001b[1;33m\u001b[0m\u001b[0m\n\u001b[0;32m   1262\u001b[0m               \u001b[0mreturn_dict\u001b[0m\u001b[1;33m=\u001b[0m\u001b[1;32mTrue\u001b[0m\u001b[1;33m,\u001b[0m\u001b[1;33m\u001b[0m\u001b[1;33m\u001b[0m\u001b[0m\n\u001b[1;32m-> 1263\u001b[1;33m               _use_cached_eval_dataset=True)\n\u001b[0m\u001b[0;32m   1264\u001b[0m           \u001b[0mval_logs\u001b[0m \u001b[1;33m=\u001b[0m \u001b[1;33m{\u001b[0m\u001b[1;34m'val_'\u001b[0m \u001b[1;33m+\u001b[0m \u001b[0mname\u001b[0m\u001b[1;33m:\u001b[0m \u001b[0mval\u001b[0m \u001b[1;32mfor\u001b[0m \u001b[0mname\u001b[0m\u001b[1;33m,\u001b[0m \u001b[0mval\u001b[0m \u001b[1;32min\u001b[0m \u001b[0mval_logs\u001b[0m\u001b[1;33m.\u001b[0m\u001b[0mitems\u001b[0m\u001b[1;33m(\u001b[0m\u001b[1;33m)\u001b[0m\u001b[1;33m}\u001b[0m\u001b[1;33m\u001b[0m\u001b[1;33m\u001b[0m\u001b[0m\n\u001b[0;32m   1265\u001b[0m           \u001b[0mepoch_logs\u001b[0m\u001b[1;33m.\u001b[0m\u001b[0mupdate\u001b[0m\u001b[1;33m(\u001b[0m\u001b[0mval_logs\u001b[0m\u001b[1;33m)\u001b[0m\u001b[1;33m\u001b[0m\u001b[1;33m\u001b[0m\u001b[0m\n",
      "\u001b[1;32m~\\AppData\\Local\\Programs\\Python\\Python37\\lib\\site-packages\\keras\\utils\\traceback_utils.py\u001b[0m in \u001b[0;36merror_handler\u001b[1;34m(*args, **kwargs)\u001b[0m\n\u001b[0;32m     62\u001b[0m     \u001b[0mfiltered_tb\u001b[0m \u001b[1;33m=\u001b[0m \u001b[1;32mNone\u001b[0m\u001b[1;33m\u001b[0m\u001b[1;33m\u001b[0m\u001b[0m\n\u001b[0;32m     63\u001b[0m     \u001b[1;32mtry\u001b[0m\u001b[1;33m:\u001b[0m\u001b[1;33m\u001b[0m\u001b[1;33m\u001b[0m\u001b[0m\n\u001b[1;32m---> 64\u001b[1;33m       \u001b[1;32mreturn\u001b[0m \u001b[0mfn\u001b[0m\u001b[1;33m(\u001b[0m\u001b[1;33m*\u001b[0m\u001b[0margs\u001b[0m\u001b[1;33m,\u001b[0m \u001b[1;33m**\u001b[0m\u001b[0mkwargs\u001b[0m\u001b[1;33m)\u001b[0m\u001b[1;33m\u001b[0m\u001b[1;33m\u001b[0m\u001b[0m\n\u001b[0m\u001b[0;32m     65\u001b[0m     \u001b[1;32mexcept\u001b[0m \u001b[0mException\u001b[0m \u001b[1;32mas\u001b[0m \u001b[0me\u001b[0m\u001b[1;33m:\u001b[0m  \u001b[1;31m# pylint: disable=broad-except\u001b[0m\u001b[1;33m\u001b[0m\u001b[1;33m\u001b[0m\u001b[0m\n\u001b[0;32m     66\u001b[0m       \u001b[0mfiltered_tb\u001b[0m \u001b[1;33m=\u001b[0m \u001b[0m_process_traceback_frames\u001b[0m\u001b[1;33m(\u001b[0m\u001b[0me\u001b[0m\u001b[1;33m.\u001b[0m\u001b[0m__traceback__\u001b[0m\u001b[1;33m)\u001b[0m\u001b[1;33m\u001b[0m\u001b[1;33m\u001b[0m\u001b[0m\n",
      "\u001b[1;32m~\\AppData\\Local\\Programs\\Python\\Python37\\lib\\site-packages\\keras\\engine\\training.py\u001b[0m in \u001b[0;36mevaluate\u001b[1;34m(self, x, y, batch_size, verbose, sample_weight, steps, callbacks, max_queue_size, workers, use_multiprocessing, return_dict, **kwargs)\u001b[0m\n\u001b[0;32m   1535\u001b[0m             \u001b[1;32mwith\u001b[0m \u001b[0mtf\u001b[0m\u001b[1;33m.\u001b[0m\u001b[0mprofiler\u001b[0m\u001b[1;33m.\u001b[0m\u001b[0mexperimental\u001b[0m\u001b[1;33m.\u001b[0m\u001b[0mTrace\u001b[0m\u001b[1;33m(\u001b[0m\u001b[1;34m'test'\u001b[0m\u001b[1;33m,\u001b[0m \u001b[0mstep_num\u001b[0m\u001b[1;33m=\u001b[0m\u001b[0mstep\u001b[0m\u001b[1;33m,\u001b[0m \u001b[0m_r\u001b[0m\u001b[1;33m=\u001b[0m\u001b[1;36m1\u001b[0m\u001b[1;33m)\u001b[0m\u001b[1;33m:\u001b[0m\u001b[1;33m\u001b[0m\u001b[1;33m\u001b[0m\u001b[0m\n\u001b[0;32m   1536\u001b[0m               \u001b[0mcallbacks\u001b[0m\u001b[1;33m.\u001b[0m\u001b[0mon_test_batch_begin\u001b[0m\u001b[1;33m(\u001b[0m\u001b[0mstep\u001b[0m\u001b[1;33m)\u001b[0m\u001b[1;33m\u001b[0m\u001b[1;33m\u001b[0m\u001b[0m\n\u001b[1;32m-> 1537\u001b[1;33m               \u001b[0mtmp_logs\u001b[0m \u001b[1;33m=\u001b[0m \u001b[0mself\u001b[0m\u001b[1;33m.\u001b[0m\u001b[0mtest_function\u001b[0m\u001b[1;33m(\u001b[0m\u001b[0miterator\u001b[0m\u001b[1;33m)\u001b[0m\u001b[1;33m\u001b[0m\u001b[1;33m\u001b[0m\u001b[0m\n\u001b[0m\u001b[0;32m   1538\u001b[0m               \u001b[1;32mif\u001b[0m \u001b[0mdata_handler\u001b[0m\u001b[1;33m.\u001b[0m\u001b[0mshould_sync\u001b[0m\u001b[1;33m:\u001b[0m\u001b[1;33m\u001b[0m\u001b[1;33m\u001b[0m\u001b[0m\n\u001b[0;32m   1539\u001b[0m                 \u001b[0mcontext\u001b[0m\u001b[1;33m.\u001b[0m\u001b[0masync_wait\u001b[0m\u001b[1;33m(\u001b[0m\u001b[1;33m)\u001b[0m\u001b[1;33m\u001b[0m\u001b[1;33m\u001b[0m\u001b[0m\n",
      "\u001b[1;32m~\\AppData\\Local\\Programs\\Python\\Python37\\lib\\site-packages\\tensorflow\\python\\util\\traceback_utils.py\u001b[0m in \u001b[0;36merror_handler\u001b[1;34m(*args, **kwargs)\u001b[0m\n\u001b[0;32m    148\u001b[0m     \u001b[0mfiltered_tb\u001b[0m \u001b[1;33m=\u001b[0m \u001b[1;32mNone\u001b[0m\u001b[1;33m\u001b[0m\u001b[1;33m\u001b[0m\u001b[0m\n\u001b[0;32m    149\u001b[0m     \u001b[1;32mtry\u001b[0m\u001b[1;33m:\u001b[0m\u001b[1;33m\u001b[0m\u001b[1;33m\u001b[0m\u001b[0m\n\u001b[1;32m--> 150\u001b[1;33m       \u001b[1;32mreturn\u001b[0m \u001b[0mfn\u001b[0m\u001b[1;33m(\u001b[0m\u001b[1;33m*\u001b[0m\u001b[0margs\u001b[0m\u001b[1;33m,\u001b[0m \u001b[1;33m**\u001b[0m\u001b[0mkwargs\u001b[0m\u001b[1;33m)\u001b[0m\u001b[1;33m\u001b[0m\u001b[1;33m\u001b[0m\u001b[0m\n\u001b[0m\u001b[0;32m    151\u001b[0m     \u001b[1;32mexcept\u001b[0m \u001b[0mException\u001b[0m \u001b[1;32mas\u001b[0m \u001b[0me\u001b[0m\u001b[1;33m:\u001b[0m\u001b[1;33m\u001b[0m\u001b[1;33m\u001b[0m\u001b[0m\n\u001b[0;32m    152\u001b[0m       \u001b[0mfiltered_tb\u001b[0m \u001b[1;33m=\u001b[0m \u001b[0m_process_traceback_frames\u001b[0m\u001b[1;33m(\u001b[0m\u001b[0me\u001b[0m\u001b[1;33m.\u001b[0m\u001b[0m__traceback__\u001b[0m\u001b[1;33m)\u001b[0m\u001b[1;33m\u001b[0m\u001b[1;33m\u001b[0m\u001b[0m\n",
      "\u001b[1;32m~\\AppData\\Local\\Programs\\Python\\Python37\\lib\\site-packages\\tensorflow\\python\\eager\\def_function.py\u001b[0m in \u001b[0;36m__call__\u001b[1;34m(self, *args, **kwds)\u001b[0m\n\u001b[0;32m    908\u001b[0m \u001b[1;33m\u001b[0m\u001b[0m\n\u001b[0;32m    909\u001b[0m       \u001b[1;32mwith\u001b[0m \u001b[0mOptionalXlaContext\u001b[0m\u001b[1;33m(\u001b[0m\u001b[0mself\u001b[0m\u001b[1;33m.\u001b[0m\u001b[0m_jit_compile\u001b[0m\u001b[1;33m)\u001b[0m\u001b[1;33m:\u001b[0m\u001b[1;33m\u001b[0m\u001b[1;33m\u001b[0m\u001b[0m\n\u001b[1;32m--> 910\u001b[1;33m         \u001b[0mresult\u001b[0m \u001b[1;33m=\u001b[0m \u001b[0mself\u001b[0m\u001b[1;33m.\u001b[0m\u001b[0m_call\u001b[0m\u001b[1;33m(\u001b[0m\u001b[1;33m*\u001b[0m\u001b[0margs\u001b[0m\u001b[1;33m,\u001b[0m \u001b[1;33m**\u001b[0m\u001b[0mkwds\u001b[0m\u001b[1;33m)\u001b[0m\u001b[1;33m\u001b[0m\u001b[1;33m\u001b[0m\u001b[0m\n\u001b[0m\u001b[0;32m    911\u001b[0m \u001b[1;33m\u001b[0m\u001b[0m\n\u001b[0;32m    912\u001b[0m       \u001b[0mnew_tracing_count\u001b[0m \u001b[1;33m=\u001b[0m \u001b[0mself\u001b[0m\u001b[1;33m.\u001b[0m\u001b[0mexperimental_get_tracing_count\u001b[0m\u001b[1;33m(\u001b[0m\u001b[1;33m)\u001b[0m\u001b[1;33m\u001b[0m\u001b[1;33m\u001b[0m\u001b[0m\n",
      "\u001b[1;32m~\\AppData\\Local\\Programs\\Python\\Python37\\lib\\site-packages\\tensorflow\\python\\eager\\def_function.py\u001b[0m in \u001b[0;36m_call\u001b[1;34m(self, *args, **kwds)\u001b[0m\n\u001b[0;32m    947\u001b[0m       \u001b[1;31m# In this case we have not created variables on the first call. So we can\u001b[0m\u001b[1;33m\u001b[0m\u001b[1;33m\u001b[0m\u001b[1;33m\u001b[0m\u001b[0m\n\u001b[0;32m    948\u001b[0m       \u001b[1;31m# run the first trace but we should fail if variables are created.\u001b[0m\u001b[1;33m\u001b[0m\u001b[1;33m\u001b[0m\u001b[1;33m\u001b[0m\u001b[0m\n\u001b[1;32m--> 949\u001b[1;33m       \u001b[0mresults\u001b[0m \u001b[1;33m=\u001b[0m \u001b[0mself\u001b[0m\u001b[1;33m.\u001b[0m\u001b[0m_stateful_fn\u001b[0m\u001b[1;33m(\u001b[0m\u001b[1;33m*\u001b[0m\u001b[0margs\u001b[0m\u001b[1;33m,\u001b[0m \u001b[1;33m**\u001b[0m\u001b[0mkwds\u001b[0m\u001b[1;33m)\u001b[0m\u001b[1;33m\u001b[0m\u001b[1;33m\u001b[0m\u001b[0m\n\u001b[0m\u001b[0;32m    950\u001b[0m       \u001b[1;32mif\u001b[0m \u001b[0mself\u001b[0m\u001b[1;33m.\u001b[0m\u001b[0m_created_variables\u001b[0m \u001b[1;32mand\u001b[0m \u001b[1;32mnot\u001b[0m \u001b[0mALLOW_DYNAMIC_VARIABLE_CREATION\u001b[0m\u001b[1;33m:\u001b[0m\u001b[1;33m\u001b[0m\u001b[1;33m\u001b[0m\u001b[0m\n\u001b[0;32m    951\u001b[0m         raise ValueError(\"Creating variables on a non-first call to a function\"\n",
      "\u001b[1;32m~\\AppData\\Local\\Programs\\Python\\Python37\\lib\\site-packages\\tensorflow\\python\\eager\\function.py\u001b[0m in \u001b[0;36m__call__\u001b[1;34m(self, *args, **kwargs)\u001b[0m\n\u001b[0;32m   3129\u001b[0m        filtered_flat_args) = self._maybe_define_function(args, kwargs)\n\u001b[0;32m   3130\u001b[0m     return graph_function._call_flat(\n\u001b[1;32m-> 3131\u001b[1;33m         filtered_flat_args, captured_inputs=graph_function.captured_inputs)  # pylint: disable=protected-access\n\u001b[0m\u001b[0;32m   3132\u001b[0m \u001b[1;33m\u001b[0m\u001b[0m\n\u001b[0;32m   3133\u001b[0m   \u001b[1;33m@\u001b[0m\u001b[0mproperty\u001b[0m\u001b[1;33m\u001b[0m\u001b[1;33m\u001b[0m\u001b[0m\n",
      "\u001b[1;32m~\\AppData\\Local\\Programs\\Python\\Python37\\lib\\site-packages\\tensorflow\\python\\eager\\function.py\u001b[0m in \u001b[0;36m_call_flat\u001b[1;34m(self, args, captured_inputs, cancellation_manager)\u001b[0m\n\u001b[0;32m   1958\u001b[0m       \u001b[1;31m# No tape is watching; skip to running the function.\u001b[0m\u001b[1;33m\u001b[0m\u001b[1;33m\u001b[0m\u001b[1;33m\u001b[0m\u001b[0m\n\u001b[0;32m   1959\u001b[0m       return self._build_call_outputs(self._inference_function.call(\n\u001b[1;32m-> 1960\u001b[1;33m           ctx, args, cancellation_manager=cancellation_manager))\n\u001b[0m\u001b[0;32m   1961\u001b[0m     forward_backward = self._select_forward_and_backward_functions(\n\u001b[0;32m   1962\u001b[0m         \u001b[0margs\u001b[0m\u001b[1;33m,\u001b[0m\u001b[1;33m\u001b[0m\u001b[1;33m\u001b[0m\u001b[0m\n",
      "\u001b[1;32m~\\AppData\\Local\\Programs\\Python\\Python37\\lib\\site-packages\\tensorflow\\python\\eager\\function.py\u001b[0m in \u001b[0;36mcall\u001b[1;34m(self, ctx, args, cancellation_manager)\u001b[0m\n\u001b[0;32m    601\u001b[0m               \u001b[0minputs\u001b[0m\u001b[1;33m=\u001b[0m\u001b[0margs\u001b[0m\u001b[1;33m,\u001b[0m\u001b[1;33m\u001b[0m\u001b[1;33m\u001b[0m\u001b[0m\n\u001b[0;32m    602\u001b[0m               \u001b[0mattrs\u001b[0m\u001b[1;33m=\u001b[0m\u001b[0mattrs\u001b[0m\u001b[1;33m,\u001b[0m\u001b[1;33m\u001b[0m\u001b[1;33m\u001b[0m\u001b[0m\n\u001b[1;32m--> 603\u001b[1;33m               ctx=ctx)\n\u001b[0m\u001b[0;32m    604\u001b[0m         \u001b[1;32melse\u001b[0m\u001b[1;33m:\u001b[0m\u001b[1;33m\u001b[0m\u001b[1;33m\u001b[0m\u001b[0m\n\u001b[0;32m    605\u001b[0m           outputs = execute.execute_with_cancellation(\n",
      "\u001b[1;32m~\\AppData\\Local\\Programs\\Python\\Python37\\lib\\site-packages\\tensorflow\\python\\eager\\execute.py\u001b[0m in \u001b[0;36mquick_execute\u001b[1;34m(op_name, num_outputs, inputs, attrs, ctx, name)\u001b[0m\n\u001b[0;32m     57\u001b[0m     \u001b[0mctx\u001b[0m\u001b[1;33m.\u001b[0m\u001b[0mensure_initialized\u001b[0m\u001b[1;33m(\u001b[0m\u001b[1;33m)\u001b[0m\u001b[1;33m\u001b[0m\u001b[1;33m\u001b[0m\u001b[0m\n\u001b[0;32m     58\u001b[0m     tensors = pywrap_tfe.TFE_Py_Execute(ctx._handle, device_name, op_name,\n\u001b[1;32m---> 59\u001b[1;33m                                         inputs, attrs, num_outputs)\n\u001b[0m\u001b[0;32m     60\u001b[0m   \u001b[1;32mexcept\u001b[0m \u001b[0mcore\u001b[0m\u001b[1;33m.\u001b[0m\u001b[0m_NotOkStatusException\u001b[0m \u001b[1;32mas\u001b[0m \u001b[0me\u001b[0m\u001b[1;33m:\u001b[0m\u001b[1;33m\u001b[0m\u001b[1;33m\u001b[0m\u001b[0m\n\u001b[0;32m     61\u001b[0m     \u001b[1;32mif\u001b[0m \u001b[0mname\u001b[0m \u001b[1;32mis\u001b[0m \u001b[1;32mnot\u001b[0m \u001b[1;32mNone\u001b[0m\u001b[1;33m:\u001b[0m\u001b[1;33m\u001b[0m\u001b[1;33m\u001b[0m\u001b[0m\n",
      "\u001b[1;31mKeyboardInterrupt\u001b[0m: "
     ]
    }
   ],
   "source": [
    "history=model.fit(x_train,y_train,batch_size=500,epochs=50,validation_split=0.2)"
   ]
  },
  {
   "cell_type": "code",
   "execution_count": 29,
   "metadata": {},
   "outputs": [
    {
     "name": "stdout",
     "output_type": "stream",
     "text": [
      "Epoch 1/29\n",
      "301/301 [==============================] - 29s 95ms/step - loss: 2.0112 - accuracy: 0.4892 - val_loss: 2.0336 - val_accuracy: 0.4837\n",
      "Epoch 2/29\n",
      "301/301 [==============================] - 28s 94ms/step - loss: 2.0045 - accuracy: 0.4912 - val_loss: 2.0275 - val_accuracy: 0.4873\n",
      "Epoch 3/29\n",
      "301/301 [==============================] - 28s 94ms/step - loss: 1.9993 - accuracy: 0.4931 - val_loss: 1.9992 - val_accuracy: 0.4962\n",
      "Epoch 4/29\n",
      "301/301 [==============================] - 28s 93ms/step - loss: 1.9976 - accuracy: 0.4920 - val_loss: 2.0137 - val_accuracy: 0.4912\n",
      "Epoch 5/29\n",
      "301/301 [==============================] - 32s 107ms/step - loss: 1.9870 - accuracy: 0.4951 - val_loss: 1.9869 - val_accuracy: 0.4965\n",
      "Epoch 6/29\n",
      "301/301 [==============================] - ETA: 0s - loss: 1.9822 - accuracy: 0.4961"
     ]
    },
    {
     "ename": "KeyboardInterrupt",
     "evalue": "",
     "output_type": "error",
     "traceback": [
      "\u001b[1;31m---------------------------------------------------------------------------\u001b[0m",
      "\u001b[1;31mKeyboardInterrupt\u001b[0m                         Traceback (most recent call last)",
      "\u001b[1;32mC:\\Users\\ESTEVA~1.AMA\\AppData\\Local\\Temp/ipykernel_21776/3712421076.py\u001b[0m in \u001b[0;36m<module>\u001b[1;34m\u001b[0m\n\u001b[0;32m      1\u001b[0m \u001b[0mnp\u001b[0m\u001b[1;33m.\u001b[0m\u001b[0mrandom\u001b[0m\u001b[1;33m.\u001b[0m\u001b[0mseed\u001b[0m\u001b[1;33m(\u001b[0m\u001b[1;36m123\u001b[0m\u001b[1;33m)\u001b[0m\u001b[1;33m\u001b[0m\u001b[1;33m\u001b[0m\u001b[0m\n\u001b[1;32m----> 2\u001b[1;33m \u001b[0mhistory2\u001b[0m\u001b[1;33m=\u001b[0m\u001b[0mmodel\u001b[0m\u001b[1;33m.\u001b[0m\u001b[0mfit\u001b[0m\u001b[1;33m(\u001b[0m\u001b[0mx_train\u001b[0m\u001b[1;33m,\u001b[0m\u001b[0my_train\u001b[0m\u001b[1;33m,\u001b[0m\u001b[0mbatch_size\u001b[0m\u001b[1;33m=\u001b[0m\u001b[1;36m500\u001b[0m\u001b[1;33m,\u001b[0m\u001b[0mepochs\u001b[0m\u001b[1;33m=\u001b[0m\u001b[1;36m29\u001b[0m\u001b[1;33m,\u001b[0m\u001b[0mvalidation_split\u001b[0m\u001b[1;33m=\u001b[0m\u001b[1;36m0.2\u001b[0m\u001b[1;33m)\u001b[0m\u001b[1;33m\u001b[0m\u001b[1;33m\u001b[0m\u001b[0m\n\u001b[0m",
      "\u001b[1;32m~\\AppData\\Local\\Programs\\Python\\Python37\\lib\\site-packages\\keras\\utils\\traceback_utils.py\u001b[0m in \u001b[0;36merror_handler\u001b[1;34m(*args, **kwargs)\u001b[0m\n\u001b[0;32m     62\u001b[0m     \u001b[0mfiltered_tb\u001b[0m \u001b[1;33m=\u001b[0m \u001b[1;32mNone\u001b[0m\u001b[1;33m\u001b[0m\u001b[1;33m\u001b[0m\u001b[0m\n\u001b[0;32m     63\u001b[0m     \u001b[1;32mtry\u001b[0m\u001b[1;33m:\u001b[0m\u001b[1;33m\u001b[0m\u001b[1;33m\u001b[0m\u001b[0m\n\u001b[1;32m---> 64\u001b[1;33m       \u001b[1;32mreturn\u001b[0m \u001b[0mfn\u001b[0m\u001b[1;33m(\u001b[0m\u001b[1;33m*\u001b[0m\u001b[0margs\u001b[0m\u001b[1;33m,\u001b[0m \u001b[1;33m**\u001b[0m\u001b[0mkwargs\u001b[0m\u001b[1;33m)\u001b[0m\u001b[1;33m\u001b[0m\u001b[1;33m\u001b[0m\u001b[0m\n\u001b[0m\u001b[0;32m     65\u001b[0m     \u001b[1;32mexcept\u001b[0m \u001b[0mException\u001b[0m \u001b[1;32mas\u001b[0m \u001b[0me\u001b[0m\u001b[1;33m:\u001b[0m  \u001b[1;31m# pylint: disable=broad-except\u001b[0m\u001b[1;33m\u001b[0m\u001b[1;33m\u001b[0m\u001b[0m\n\u001b[0;32m     66\u001b[0m       \u001b[0mfiltered_tb\u001b[0m \u001b[1;33m=\u001b[0m \u001b[0m_process_traceback_frames\u001b[0m\u001b[1;33m(\u001b[0m\u001b[0me\u001b[0m\u001b[1;33m.\u001b[0m\u001b[0m__traceback__\u001b[0m\u001b[1;33m)\u001b[0m\u001b[1;33m\u001b[0m\u001b[1;33m\u001b[0m\u001b[0m\n",
      "\u001b[1;32m~\\AppData\\Local\\Programs\\Python\\Python37\\lib\\site-packages\\keras\\engine\\training.py\u001b[0m in \u001b[0;36mfit\u001b[1;34m(self, x, y, batch_size, epochs, verbose, callbacks, validation_split, validation_data, shuffle, class_weight, sample_weight, initial_epoch, steps_per_epoch, validation_steps, validation_batch_size, validation_freq, max_queue_size, workers, use_multiprocessing)\u001b[0m\n\u001b[0;32m   1261\u001b[0m               \u001b[0muse_multiprocessing\u001b[0m\u001b[1;33m=\u001b[0m\u001b[0muse_multiprocessing\u001b[0m\u001b[1;33m,\u001b[0m\u001b[1;33m\u001b[0m\u001b[1;33m\u001b[0m\u001b[0m\n\u001b[0;32m   1262\u001b[0m               \u001b[0mreturn_dict\u001b[0m\u001b[1;33m=\u001b[0m\u001b[1;32mTrue\u001b[0m\u001b[1;33m,\u001b[0m\u001b[1;33m\u001b[0m\u001b[1;33m\u001b[0m\u001b[0m\n\u001b[1;32m-> 1263\u001b[1;33m               _use_cached_eval_dataset=True)\n\u001b[0m\u001b[0;32m   1264\u001b[0m           \u001b[0mval_logs\u001b[0m \u001b[1;33m=\u001b[0m \u001b[1;33m{\u001b[0m\u001b[1;34m'val_'\u001b[0m \u001b[1;33m+\u001b[0m \u001b[0mname\u001b[0m\u001b[1;33m:\u001b[0m \u001b[0mval\u001b[0m \u001b[1;32mfor\u001b[0m \u001b[0mname\u001b[0m\u001b[1;33m,\u001b[0m \u001b[0mval\u001b[0m \u001b[1;32min\u001b[0m \u001b[0mval_logs\u001b[0m\u001b[1;33m.\u001b[0m\u001b[0mitems\u001b[0m\u001b[1;33m(\u001b[0m\u001b[1;33m)\u001b[0m\u001b[1;33m}\u001b[0m\u001b[1;33m\u001b[0m\u001b[1;33m\u001b[0m\u001b[0m\n\u001b[0;32m   1265\u001b[0m           \u001b[0mepoch_logs\u001b[0m\u001b[1;33m.\u001b[0m\u001b[0mupdate\u001b[0m\u001b[1;33m(\u001b[0m\u001b[0mval_logs\u001b[0m\u001b[1;33m)\u001b[0m\u001b[1;33m\u001b[0m\u001b[1;33m\u001b[0m\u001b[0m\n",
      "\u001b[1;32m~\\AppData\\Local\\Programs\\Python\\Python37\\lib\\site-packages\\keras\\utils\\traceback_utils.py\u001b[0m in \u001b[0;36merror_handler\u001b[1;34m(*args, **kwargs)\u001b[0m\n\u001b[0;32m     62\u001b[0m     \u001b[0mfiltered_tb\u001b[0m \u001b[1;33m=\u001b[0m \u001b[1;32mNone\u001b[0m\u001b[1;33m\u001b[0m\u001b[1;33m\u001b[0m\u001b[0m\n\u001b[0;32m     63\u001b[0m     \u001b[1;32mtry\u001b[0m\u001b[1;33m:\u001b[0m\u001b[1;33m\u001b[0m\u001b[1;33m\u001b[0m\u001b[0m\n\u001b[1;32m---> 64\u001b[1;33m       \u001b[1;32mreturn\u001b[0m \u001b[0mfn\u001b[0m\u001b[1;33m(\u001b[0m\u001b[1;33m*\u001b[0m\u001b[0margs\u001b[0m\u001b[1;33m,\u001b[0m \u001b[1;33m**\u001b[0m\u001b[0mkwargs\u001b[0m\u001b[1;33m)\u001b[0m\u001b[1;33m\u001b[0m\u001b[1;33m\u001b[0m\u001b[0m\n\u001b[0m\u001b[0;32m     65\u001b[0m     \u001b[1;32mexcept\u001b[0m \u001b[0mException\u001b[0m \u001b[1;32mas\u001b[0m \u001b[0me\u001b[0m\u001b[1;33m:\u001b[0m  \u001b[1;31m# pylint: disable=broad-except\u001b[0m\u001b[1;33m\u001b[0m\u001b[1;33m\u001b[0m\u001b[0m\n\u001b[0;32m     66\u001b[0m       \u001b[0mfiltered_tb\u001b[0m \u001b[1;33m=\u001b[0m \u001b[0m_process_traceback_frames\u001b[0m\u001b[1;33m(\u001b[0m\u001b[0me\u001b[0m\u001b[1;33m.\u001b[0m\u001b[0m__traceback__\u001b[0m\u001b[1;33m)\u001b[0m\u001b[1;33m\u001b[0m\u001b[1;33m\u001b[0m\u001b[0m\n",
      "\u001b[1;32m~\\AppData\\Local\\Programs\\Python\\Python37\\lib\\site-packages\\keras\\engine\\training.py\u001b[0m in \u001b[0;36mevaluate\u001b[1;34m(self, x, y, batch_size, verbose, sample_weight, steps, callbacks, max_queue_size, workers, use_multiprocessing, return_dict, **kwargs)\u001b[0m\n\u001b[0;32m   1535\u001b[0m             \u001b[1;32mwith\u001b[0m \u001b[0mtf\u001b[0m\u001b[1;33m.\u001b[0m\u001b[0mprofiler\u001b[0m\u001b[1;33m.\u001b[0m\u001b[0mexperimental\u001b[0m\u001b[1;33m.\u001b[0m\u001b[0mTrace\u001b[0m\u001b[1;33m(\u001b[0m\u001b[1;34m'test'\u001b[0m\u001b[1;33m,\u001b[0m \u001b[0mstep_num\u001b[0m\u001b[1;33m=\u001b[0m\u001b[0mstep\u001b[0m\u001b[1;33m,\u001b[0m \u001b[0m_r\u001b[0m\u001b[1;33m=\u001b[0m\u001b[1;36m1\u001b[0m\u001b[1;33m)\u001b[0m\u001b[1;33m:\u001b[0m\u001b[1;33m\u001b[0m\u001b[1;33m\u001b[0m\u001b[0m\n\u001b[0;32m   1536\u001b[0m               \u001b[0mcallbacks\u001b[0m\u001b[1;33m.\u001b[0m\u001b[0mon_test_batch_begin\u001b[0m\u001b[1;33m(\u001b[0m\u001b[0mstep\u001b[0m\u001b[1;33m)\u001b[0m\u001b[1;33m\u001b[0m\u001b[1;33m\u001b[0m\u001b[0m\n\u001b[1;32m-> 1537\u001b[1;33m               \u001b[0mtmp_logs\u001b[0m \u001b[1;33m=\u001b[0m \u001b[0mself\u001b[0m\u001b[1;33m.\u001b[0m\u001b[0mtest_function\u001b[0m\u001b[1;33m(\u001b[0m\u001b[0miterator\u001b[0m\u001b[1;33m)\u001b[0m\u001b[1;33m\u001b[0m\u001b[1;33m\u001b[0m\u001b[0m\n\u001b[0m\u001b[0;32m   1538\u001b[0m               \u001b[1;32mif\u001b[0m \u001b[0mdata_handler\u001b[0m\u001b[1;33m.\u001b[0m\u001b[0mshould_sync\u001b[0m\u001b[1;33m:\u001b[0m\u001b[1;33m\u001b[0m\u001b[1;33m\u001b[0m\u001b[0m\n\u001b[0;32m   1539\u001b[0m                 \u001b[0mcontext\u001b[0m\u001b[1;33m.\u001b[0m\u001b[0masync_wait\u001b[0m\u001b[1;33m(\u001b[0m\u001b[1;33m)\u001b[0m\u001b[1;33m\u001b[0m\u001b[1;33m\u001b[0m\u001b[0m\n",
      "\u001b[1;32m~\\AppData\\Local\\Programs\\Python\\Python37\\lib\\site-packages\\tensorflow\\python\\util\\traceback_utils.py\u001b[0m in \u001b[0;36merror_handler\u001b[1;34m(*args, **kwargs)\u001b[0m\n\u001b[0;32m    148\u001b[0m     \u001b[0mfiltered_tb\u001b[0m \u001b[1;33m=\u001b[0m \u001b[1;32mNone\u001b[0m\u001b[1;33m\u001b[0m\u001b[1;33m\u001b[0m\u001b[0m\n\u001b[0;32m    149\u001b[0m     \u001b[1;32mtry\u001b[0m\u001b[1;33m:\u001b[0m\u001b[1;33m\u001b[0m\u001b[1;33m\u001b[0m\u001b[0m\n\u001b[1;32m--> 150\u001b[1;33m       \u001b[1;32mreturn\u001b[0m \u001b[0mfn\u001b[0m\u001b[1;33m(\u001b[0m\u001b[1;33m*\u001b[0m\u001b[0margs\u001b[0m\u001b[1;33m,\u001b[0m \u001b[1;33m**\u001b[0m\u001b[0mkwargs\u001b[0m\u001b[1;33m)\u001b[0m\u001b[1;33m\u001b[0m\u001b[1;33m\u001b[0m\u001b[0m\n\u001b[0m\u001b[0;32m    151\u001b[0m     \u001b[1;32mexcept\u001b[0m \u001b[0mException\u001b[0m \u001b[1;32mas\u001b[0m \u001b[0me\u001b[0m\u001b[1;33m:\u001b[0m\u001b[1;33m\u001b[0m\u001b[1;33m\u001b[0m\u001b[0m\n\u001b[0;32m    152\u001b[0m       \u001b[0mfiltered_tb\u001b[0m \u001b[1;33m=\u001b[0m \u001b[0m_process_traceback_frames\u001b[0m\u001b[1;33m(\u001b[0m\u001b[0me\u001b[0m\u001b[1;33m.\u001b[0m\u001b[0m__traceback__\u001b[0m\u001b[1;33m)\u001b[0m\u001b[1;33m\u001b[0m\u001b[1;33m\u001b[0m\u001b[0m\n",
      "\u001b[1;32m~\\AppData\\Local\\Programs\\Python\\Python37\\lib\\site-packages\\tensorflow\\python\\eager\\def_function.py\u001b[0m in \u001b[0;36m__call__\u001b[1;34m(self, *args, **kwds)\u001b[0m\n\u001b[0;32m    908\u001b[0m \u001b[1;33m\u001b[0m\u001b[0m\n\u001b[0;32m    909\u001b[0m       \u001b[1;32mwith\u001b[0m \u001b[0mOptionalXlaContext\u001b[0m\u001b[1;33m(\u001b[0m\u001b[0mself\u001b[0m\u001b[1;33m.\u001b[0m\u001b[0m_jit_compile\u001b[0m\u001b[1;33m)\u001b[0m\u001b[1;33m:\u001b[0m\u001b[1;33m\u001b[0m\u001b[1;33m\u001b[0m\u001b[0m\n\u001b[1;32m--> 910\u001b[1;33m         \u001b[0mresult\u001b[0m \u001b[1;33m=\u001b[0m \u001b[0mself\u001b[0m\u001b[1;33m.\u001b[0m\u001b[0m_call\u001b[0m\u001b[1;33m(\u001b[0m\u001b[1;33m*\u001b[0m\u001b[0margs\u001b[0m\u001b[1;33m,\u001b[0m \u001b[1;33m**\u001b[0m\u001b[0mkwds\u001b[0m\u001b[1;33m)\u001b[0m\u001b[1;33m\u001b[0m\u001b[1;33m\u001b[0m\u001b[0m\n\u001b[0m\u001b[0;32m    911\u001b[0m \u001b[1;33m\u001b[0m\u001b[0m\n\u001b[0;32m    912\u001b[0m       \u001b[0mnew_tracing_count\u001b[0m \u001b[1;33m=\u001b[0m \u001b[0mself\u001b[0m\u001b[1;33m.\u001b[0m\u001b[0mexperimental_get_tracing_count\u001b[0m\u001b[1;33m(\u001b[0m\u001b[1;33m)\u001b[0m\u001b[1;33m\u001b[0m\u001b[1;33m\u001b[0m\u001b[0m\n",
      "\u001b[1;32m~\\AppData\\Local\\Programs\\Python\\Python37\\lib\\site-packages\\tensorflow\\python\\eager\\def_function.py\u001b[0m in \u001b[0;36m_call\u001b[1;34m(self, *args, **kwds)\u001b[0m\n\u001b[0;32m    947\u001b[0m       \u001b[1;31m# In this case we have not created variables on the first call. So we can\u001b[0m\u001b[1;33m\u001b[0m\u001b[1;33m\u001b[0m\u001b[1;33m\u001b[0m\u001b[0m\n\u001b[0;32m    948\u001b[0m       \u001b[1;31m# run the first trace but we should fail if variables are created.\u001b[0m\u001b[1;33m\u001b[0m\u001b[1;33m\u001b[0m\u001b[1;33m\u001b[0m\u001b[0m\n\u001b[1;32m--> 949\u001b[1;33m       \u001b[0mresults\u001b[0m \u001b[1;33m=\u001b[0m \u001b[0mself\u001b[0m\u001b[1;33m.\u001b[0m\u001b[0m_stateful_fn\u001b[0m\u001b[1;33m(\u001b[0m\u001b[1;33m*\u001b[0m\u001b[0margs\u001b[0m\u001b[1;33m,\u001b[0m \u001b[1;33m**\u001b[0m\u001b[0mkwds\u001b[0m\u001b[1;33m)\u001b[0m\u001b[1;33m\u001b[0m\u001b[1;33m\u001b[0m\u001b[0m\n\u001b[0m\u001b[0;32m    950\u001b[0m       \u001b[1;32mif\u001b[0m \u001b[0mself\u001b[0m\u001b[1;33m.\u001b[0m\u001b[0m_created_variables\u001b[0m \u001b[1;32mand\u001b[0m \u001b[1;32mnot\u001b[0m \u001b[0mALLOW_DYNAMIC_VARIABLE_CREATION\u001b[0m\u001b[1;33m:\u001b[0m\u001b[1;33m\u001b[0m\u001b[1;33m\u001b[0m\u001b[0m\n\u001b[0;32m    951\u001b[0m         raise ValueError(\"Creating variables on a non-first call to a function\"\n",
      "\u001b[1;32m~\\AppData\\Local\\Programs\\Python\\Python37\\lib\\site-packages\\tensorflow\\python\\eager\\function.py\u001b[0m in \u001b[0;36m__call__\u001b[1;34m(self, *args, **kwargs)\u001b[0m\n\u001b[0;32m   3129\u001b[0m        filtered_flat_args) = self._maybe_define_function(args, kwargs)\n\u001b[0;32m   3130\u001b[0m     return graph_function._call_flat(\n\u001b[1;32m-> 3131\u001b[1;33m         filtered_flat_args, captured_inputs=graph_function.captured_inputs)  # pylint: disable=protected-access\n\u001b[0m\u001b[0;32m   3132\u001b[0m \u001b[1;33m\u001b[0m\u001b[0m\n\u001b[0;32m   3133\u001b[0m   \u001b[1;33m@\u001b[0m\u001b[0mproperty\u001b[0m\u001b[1;33m\u001b[0m\u001b[1;33m\u001b[0m\u001b[0m\n",
      "\u001b[1;32m~\\AppData\\Local\\Programs\\Python\\Python37\\lib\\site-packages\\tensorflow\\python\\eager\\function.py\u001b[0m in \u001b[0;36m_call_flat\u001b[1;34m(self, args, captured_inputs, cancellation_manager)\u001b[0m\n\u001b[0;32m   1958\u001b[0m       \u001b[1;31m# No tape is watching; skip to running the function.\u001b[0m\u001b[1;33m\u001b[0m\u001b[1;33m\u001b[0m\u001b[1;33m\u001b[0m\u001b[0m\n\u001b[0;32m   1959\u001b[0m       return self._build_call_outputs(self._inference_function.call(\n\u001b[1;32m-> 1960\u001b[1;33m           ctx, args, cancellation_manager=cancellation_manager))\n\u001b[0m\u001b[0;32m   1961\u001b[0m     forward_backward = self._select_forward_and_backward_functions(\n\u001b[0;32m   1962\u001b[0m         \u001b[0margs\u001b[0m\u001b[1;33m,\u001b[0m\u001b[1;33m\u001b[0m\u001b[1;33m\u001b[0m\u001b[0m\n",
      "\u001b[1;32m~\\AppData\\Local\\Programs\\Python\\Python37\\lib\\site-packages\\tensorflow\\python\\eager\\function.py\u001b[0m in \u001b[0;36mcall\u001b[1;34m(self, ctx, args, cancellation_manager)\u001b[0m\n\u001b[0;32m    601\u001b[0m               \u001b[0minputs\u001b[0m\u001b[1;33m=\u001b[0m\u001b[0margs\u001b[0m\u001b[1;33m,\u001b[0m\u001b[1;33m\u001b[0m\u001b[1;33m\u001b[0m\u001b[0m\n\u001b[0;32m    602\u001b[0m               \u001b[0mattrs\u001b[0m\u001b[1;33m=\u001b[0m\u001b[0mattrs\u001b[0m\u001b[1;33m,\u001b[0m\u001b[1;33m\u001b[0m\u001b[1;33m\u001b[0m\u001b[0m\n\u001b[1;32m--> 603\u001b[1;33m               ctx=ctx)\n\u001b[0m\u001b[0;32m    604\u001b[0m         \u001b[1;32melse\u001b[0m\u001b[1;33m:\u001b[0m\u001b[1;33m\u001b[0m\u001b[1;33m\u001b[0m\u001b[0m\n\u001b[0;32m    605\u001b[0m           outputs = execute.execute_with_cancellation(\n",
      "\u001b[1;32m~\\AppData\\Local\\Programs\\Python\\Python37\\lib\\site-packages\\tensorflow\\python\\eager\\execute.py\u001b[0m in \u001b[0;36mquick_execute\u001b[1;34m(op_name, num_outputs, inputs, attrs, ctx, name)\u001b[0m\n\u001b[0;32m     57\u001b[0m     \u001b[0mctx\u001b[0m\u001b[1;33m.\u001b[0m\u001b[0mensure_initialized\u001b[0m\u001b[1;33m(\u001b[0m\u001b[1;33m)\u001b[0m\u001b[1;33m\u001b[0m\u001b[1;33m\u001b[0m\u001b[0m\n\u001b[0;32m     58\u001b[0m     tensors = pywrap_tfe.TFE_Py_Execute(ctx._handle, device_name, op_name,\n\u001b[1;32m---> 59\u001b[1;33m                                         inputs, attrs, num_outputs)\n\u001b[0m\u001b[0;32m     60\u001b[0m   \u001b[1;32mexcept\u001b[0m \u001b[0mcore\u001b[0m\u001b[1;33m.\u001b[0m\u001b[0m_NotOkStatusException\u001b[0m \u001b[1;32mas\u001b[0m \u001b[0me\u001b[0m\u001b[1;33m:\u001b[0m\u001b[1;33m\u001b[0m\u001b[1;33m\u001b[0m\u001b[0m\n\u001b[0;32m     61\u001b[0m     \u001b[1;32mif\u001b[0m \u001b[0mname\u001b[0m \u001b[1;32mis\u001b[0m \u001b[1;32mnot\u001b[0m \u001b[1;32mNone\u001b[0m\u001b[1;33m:\u001b[0m\u001b[1;33m\u001b[0m\u001b[1;33m\u001b[0m\u001b[0m\n",
      "\u001b[1;31mKeyboardInterrupt\u001b[0m: "
     ]
    }
   ],
   "source": [
    "np.random.seed(123)\n",
    "history2=model.fit(x_train,y_train,batch_size=500,epochs=29,validation_split=0.2)"
   ]
  },
  {
   "cell_type": "code",
   "execution_count": 30,
   "metadata": {},
   "outputs": [
    {
     "name": "stdout",
     "output_type": "stream",
     "text": [
      "Epoch 1/24\n",
      "301/301 [==============================] - 27s 89ms/step - loss: 1.9775 - accuracy: 0.4955 - val_loss: 1.9768 - val_accuracy: 0.4991\n",
      "Epoch 2/24\n",
      "301/301 [==============================] - 28s 93ms/step - loss: 1.9767 - accuracy: 0.4951 - val_loss: 1.9725 - val_accuracy: 0.5012\n",
      "Epoch 3/24\n",
      "301/301 [==============================] - 28s 93ms/step - loss: 1.9658 - accuracy: 0.4974 - val_loss: 1.9882 - val_accuracy: 0.4948\n",
      "Epoch 4/24\n",
      "301/301 [==============================] - 29s 95ms/step - loss: 1.9607 - accuracy: 0.4993 - val_loss: 1.9687 - val_accuracy: 0.4941\n",
      "Epoch 5/24\n",
      "301/301 [==============================] - 29s 97ms/step - loss: 1.9592 - accuracy: 0.4984 - val_loss: 1.9597 - val_accuracy: 0.5003\n",
      "Epoch 6/24\n",
      "301/301 [==============================] - 27s 91ms/step - loss: 1.9560 - accuracy: 0.4997 - val_loss: 1.9525 - val_accuracy: 0.5038\n",
      "Epoch 7/24\n",
      "301/301 [==============================] - 28s 92ms/step - loss: 1.9491 - accuracy: 0.5017 - val_loss: 1.9571 - val_accuracy: 0.5011\n",
      "Epoch 8/24\n",
      "301/301 [==============================] - 28s 93ms/step - loss: 1.9479 - accuracy: 0.5022 - val_loss: 1.9546 - val_accuracy: 0.4979\n",
      "Epoch 9/24\n",
      "301/301 [==============================] - 27s 91ms/step - loss: 1.9448 - accuracy: 0.5026 - val_loss: 1.9562 - val_accuracy: 0.4980\n",
      "Epoch 10/24\n",
      "301/301 [==============================] - 30s 98ms/step - loss: 1.9374 - accuracy: 0.5044 - val_loss: 1.9346 - val_accuracy: 0.5049\n",
      "Epoch 11/24\n",
      "301/301 [==============================] - 31s 105ms/step - loss: 1.9365 - accuracy: 0.5037 - val_loss: 1.9363 - val_accuracy: 0.5062\n",
      "Epoch 12/24\n",
      "301/301 [==============================] - 28s 93ms/step - loss: 1.9303 - accuracy: 0.5053 - val_loss: 1.9272 - val_accuracy: 0.5090\n",
      "Epoch 13/24\n",
      "301/301 [==============================] - 28s 92ms/step - loss: 1.9311 - accuracy: 0.5043 - val_loss: 1.9145 - val_accuracy: 0.5094\n",
      "Epoch 14/24\n",
      "301/301 [==============================] - 28s 95ms/step - loss: 1.9239 - accuracy: 0.5063 - val_loss: 1.9313 - val_accuracy: 0.5073\n",
      "Epoch 15/24\n",
      "301/301 [==============================] - 32s 106ms/step - loss: 1.9277 - accuracy: 0.5059 - val_loss: 1.9152 - val_accuracy: 0.5095\n",
      "Epoch 16/24\n",
      "301/301 [==============================] - 31s 102ms/step - loss: 1.9179 - accuracy: 0.5081 - val_loss: 1.9277 - val_accuracy: 0.5070\n",
      "Epoch 17/24\n",
      "301/301 [==============================] - 31s 104ms/step - loss: 1.9165 - accuracy: 0.5090 - val_loss: 1.9095 - val_accuracy: 0.5066\n",
      "Epoch 18/24\n",
      "301/301 [==============================] - 31s 102ms/step - loss: 1.9142 - accuracy: 0.5091 - val_loss: 1.9119 - val_accuracy: 0.5096\n",
      "Epoch 19/24\n",
      "301/301 [==============================] - 34s 112ms/step - loss: 1.9101 - accuracy: 0.5095 - val_loss: 1.9174 - val_accuracy: 0.5075\n",
      "Epoch 20/24\n",
      "301/301 [==============================] - 29s 96ms/step - loss: 1.9093 - accuracy: 0.5091 - val_loss: 1.9127 - val_accuracy: 0.5061\n",
      "Epoch 21/24\n",
      "301/301 [==============================] - 28s 94ms/step - loss: 1.9057 - accuracy: 0.5099 - val_loss: 1.9132 - val_accuracy: 0.5082\n",
      "Epoch 22/24\n",
      "301/301 [==============================] - 29s 95ms/step - loss: 1.9036 - accuracy: 0.5102 - val_loss: 1.8930 - val_accuracy: 0.5118\n",
      "Epoch 23/24\n",
      "301/301 [==============================] - 29s 95ms/step - loss: 1.9018 - accuracy: 0.5106 - val_loss: 1.9108 - val_accuracy: 0.5080\n",
      "Epoch 24/24\n",
      "301/301 [==============================] - 30s 101ms/step - loss: 1.8973 - accuracy: 0.5117 - val_loss: 1.9191 - val_accuracy: 0.5052\n"
     ]
    }
   ],
   "source": [
    "np.random.seed(123)\n",
    "history2=model.fit(x_train,y_train,batch_size=500,epochs=24,validation_split=0.2)"
   ]
  },
  {
   "cell_type": "code",
   "execution_count": 31,
   "metadata": {},
   "outputs": [
    {
     "name": "stdout",
     "output_type": "stream",
     "text": [
      "Epoch 1/10\n",
      "301/301 [==============================] - 28s 94ms/step - loss: 1.9002 - accuracy: 0.5115 - val_loss: 1.8869 - val_accuracy: 0.5139\n",
      "Epoch 2/10\n",
      "301/301 [==============================] - 27s 89ms/step - loss: 1.8941 - accuracy: 0.5123 - val_loss: 1.8910 - val_accuracy: 0.5136\n",
      "Epoch 3/10\n",
      "301/301 [==============================] - 28s 93ms/step - loss: 1.8907 - accuracy: 0.5130 - val_loss: 1.8866 - val_accuracy: 0.5156\n",
      "Epoch 4/10\n",
      "301/301 [==============================] - 28s 94ms/step - loss: 1.8867 - accuracy: 0.5136 - val_loss: 1.8844 - val_accuracy: 0.5164\n",
      "Epoch 5/10\n",
      "301/301 [==============================] - 31s 103ms/step - loss: 1.8855 - accuracy: 0.5138 - val_loss: 1.8909 - val_accuracy: 0.5132\n",
      "Epoch 6/10\n",
      "301/301 [==============================] - 34s 113ms/step - loss: 1.8865 - accuracy: 0.5142 - val_loss: 1.8792 - val_accuracy: 0.5152\n",
      "Epoch 7/10\n",
      "301/301 [==============================] - 30s 100ms/step - loss: 1.8807 - accuracy: 0.5160 - val_loss: 1.8802 - val_accuracy: 0.5174\n",
      "Epoch 8/10\n",
      "301/301 [==============================] - 30s 100ms/step - loss: 1.8781 - accuracy: 0.5154 - val_loss: 1.8843 - val_accuracy: 0.5176\n",
      "Epoch 9/10\n",
      "301/301 [==============================] - 30s 100ms/step - loss: 1.8761 - accuracy: 0.5165 - val_loss: 1.8717 - val_accuracy: 0.5187\n",
      "Epoch 10/10\n",
      "301/301 [==============================] - 30s 101ms/step - loss: 1.8719 - accuracy: 0.5165 - val_loss: 1.8768 - val_accuracy: 0.5165\n"
     ]
    }
   ],
   "source": [
    "history3=model.fit(x_train,y_train,batch_size=500,epochs=10,validation_split=0.2)"
   ]
  },
  {
   "cell_type": "code",
   "execution_count": 39,
   "metadata": {},
   "outputs": [
    {
     "data": {
      "image/png": "[encoded data removed]",
      "text/plain": [
       "<Figure size 864x576 with 1 Axes>"
      ]
     },
     "metadata": {
      "needs_background": "dark"
     },
     "output_type": "display_data"
    }
   ],
   "source": [
    "accuracy_array=np.hstack((history2.history['accuracy'],history3.history['accuracy']))\n",
    "val_accuracy_array=np.hstack((history2.history['val_accuracy'],history3.history['val_accuracy']))\n",
    "\n",
    "plt.figure(figsize=(12,8))\n",
    "plt.plot(accuracy_array)\n",
    "plt.plot(val_accuracy_array)\n",
    "plt.tick_params(axis='both',color='white')\n",
    "plt.xticks(color='white')\n",
    "plt.yticks(color='white')\n",
    "plt.show()"
   ]
  },
  {
   "cell_type": "code",
   "execution_count": 40,
   "metadata": {},
   "outputs": [
    {
     "name": "stdout",
     "output_type": "stream",
     "text": [
      "588/588 [==============================] - 6s 11ms/step - loss: 1.8722 - accuracy: 0.5178\n"
     ]
    }
   ],
   "source": [
    "test_model=model.evaluate(x_test,y_test)"
   ]
  },
  {
   "cell_type": "markdown",
   "metadata": {},
   "source": [
    "# Taking all data avaible from the small samples"
   ]
  },
  {
   "cell_type": "code",
   "execution_count": 32,
   "metadata": {},
   "outputs": [
    {
     "data": {
      "image/png": "[encoded data removed]",
      "text/plain": [
       "<Figure size 864x576 with 1 Axes>"
      ]
     },
     "metadata": {
      "needs_background": "light"
     },
     "output_type": "display_data"
    }
   ],
   "source": [
    "plt.figure(figsize=(12,8))\n",
    "df.groupby('code_symbol').count()['path'].hist(bins=83)\n",
    "plt.xscale('log')"
   ]
  },
  {
   "cell_type": "code",
   "execution_count": 20,
   "metadata": {},
   "outputs": [
    {
     "data": {
      "text/plain": [
       "code_symbol\n",
       "38       21\n",
       "40       45\n",
       "46       47\n",
       "52      109\n",
       "19      137\n",
       "      ...  \n",
       "3     25112\n",
       "8     26141\n",
       "7     26520\n",
       "27    26594\n",
       "5     33997\n",
       "Name: path, Length: 82, dtype: int64"
      ]
     },
     "execution_count": 20,
     "metadata": {},
     "output_type": "execute_result"
    }
   ],
   "source": [
    "df.groupby('code_symbol').count()['path'].sort_values()\n"
   ]
  },
  {
   "cell_type": "code",
   "execution_count": 24,
   "metadata": {},
   "outputs": [],
   "source": [
    "sample_size=df.groupby('code_symbol').count()['path'].rename('sample_size')\n"
   ]
  },
  {
   "cell_type": "code",
   "execution_count": 25,
   "metadata": {},
   "outputs": [
    {
     "data": {
      "text/plain": [
       "array([2, 3, 1, 0], dtype=int8)"
      ]
     },
     "execution_count": 25,
     "metadata": {},
     "output_type": "execute_result"
    }
   ],
   "source": [
    "df=df.merge(sample_size,on='code_symbol',how='inner')\n",
    "df['sample_size_cat']=pd.cut(df['sample_size'],bins=[0,100,1000,1e4,1e10],labels=['extremely small','small','ok','nice'])\n",
    "df['sample_size_cat']=df.sample_size_cat.cat.codes\n",
    "df.sample_size_cat.unique()"
   ]
  },
  {
   "cell_type": "code",
   "execution_count": 26,
   "metadata": {},
   "outputs": [
    {
     "data": {
      "text/html": [
       "<div>\n",
       "<style scoped>\n",
       "    .dataframe tbody tr th:only-of-type {\n",
       "        vertical-align: middle;\n",
       "    }\n",
       "\n",
       "    .dataframe tbody tr th {\n",
       "        vertical-align: top;\n",
       "    }\n",
       "\n",
       "    .dataframe thead th {\n",
       "        text-align: right;\n",
       "    }\n",
       "</style>\n",
       "<table border=\"1\" class=\"dataframe\">\n",
       "  <thead>\n",
       "    <tr style=\"text-align: right;\">\n",
       "      <th></th>\n",
       "      <th>path</th>\n",
       "      <th>symbol</th>\n",
       "      <th>code_symbol</th>\n",
       "      <th>sample_size_x</th>\n",
       "      <th>sample_size_cat</th>\n",
       "      <th>sample_size_y</th>\n",
       "      <th>sample_size</th>\n",
       "    </tr>\n",
       "  </thead>\n",
       "  <tbody>\n",
       "    <tr>\n",
       "      <th>236684</th>\n",
       "      <td>C:\\Users\\estevan.amazonas\\Desktop\\EAAM (1)\\pro...</td>\n",
       "      <td>d</td>\n",
       "      <td>35</td>\n",
       "      <td>4852</td>\n",
       "      <td>2</td>\n",
       "      <td>4852</td>\n",
       "      <td>4852</td>\n",
       "    </tr>\n",
       "    <tr>\n",
       "      <th>126658</th>\n",
       "      <td>C:\\Users\\estevan.amazonas\\Desktop\\EAAM (1)\\pro...</td>\n",
       "      <td>2</td>\n",
       "      <td>8</td>\n",
       "      <td>26141</td>\n",
       "      <td>3</td>\n",
       "      <td>26141</td>\n",
       "      <td>26141</td>\n",
       "    </tr>\n",
       "    <tr>\n",
       "      <th>104660</th>\n",
       "      <td>C:\\Users\\estevan.amazonas\\Desktop\\EAAM (1)\\pro...</td>\n",
       "      <td>1</td>\n",
       "      <td>7</td>\n",
       "      <td>26520</td>\n",
       "      <td>3</td>\n",
       "      <td>26520</td>\n",
       "      <td>26520</td>\n",
       "    </tr>\n",
       "    <tr>\n",
       "      <th>355580</th>\n",
       "      <td>C:\\Users\\estevan.amazonas\\Desktop\\EAAM (1)\\pro...</td>\n",
       "      <td>X</td>\n",
       "      <td>27</td>\n",
       "      <td>26594</td>\n",
       "      <td>3</td>\n",
       "      <td>26594</td>\n",
       "      <td>26594</td>\n",
       "    </tr>\n",
       "    <tr>\n",
       "      <th>12491</th>\n",
       "      <td>C:\\Users\\estevan.amazonas\\Desktop\\EAAM (1)\\pro...</td>\n",
       "      <td>(</td>\n",
       "      <td>1</td>\n",
       "      <td>14294</td>\n",
       "      <td>3</td>\n",
       "      <td>14294</td>\n",
       "      <td>14294</td>\n",
       "    </tr>\n",
       "  </tbody>\n",
       "</table>\n",
       "</div>"
      ],
      "text/plain": [
       "                                                     path symbol  code_symbol  \\\n",
       "236684  C:\\Users\\estevan.amazonas\\Desktop\\EAAM (1)\\pro...      d           35   \n",
       "126658  C:\\Users\\estevan.amazonas\\Desktop\\EAAM (1)\\pro...      2            8   \n",
       "104660  C:\\Users\\estevan.amazonas\\Desktop\\EAAM (1)\\pro...      1            7   \n",
       "355580  C:\\Users\\estevan.amazonas\\Desktop\\EAAM (1)\\pro...      X           27   \n",
       "12491   C:\\Users\\estevan.amazonas\\Desktop\\EAAM (1)\\pro...      (            1   \n",
       "\n",
       "        sample_size_x  sample_size_cat  sample_size_y  sample_size  \n",
       "236684           4852                2           4852         4852  \n",
       "126658          26141                3          26141        26141  \n",
       "104660          26520                3          26520        26520  \n",
       "355580          26594                3          26594        26594  \n",
       "12491           14294                3          14294        14294  "
      ]
     },
     "execution_count": 26,
     "metadata": {},
     "output_type": "execute_result"
    }
   ],
   "source": [
    "df.sample(5)"
   ]
  },
  {
   "cell_type": "code",
   "execution_count": null,
   "metadata": {},
   "outputs": [],
   "source": [
    "np.random.seed(123)"
   ]
  },
  {
   "cell_type": "code",
   "execution_count": 167,
   "metadata": {},
   "outputs": [],
   "source": [
    "train_test=[train_test_split(df[df.sample_size_cat==i].index.values,df[df.sample_size_cat==i]['code_symbol'],train_size=j,test_size=k) for i,j,k in zip([0,1,2,3], [0.9,0.9,0.7,0.7],[0.1,0.1,0.3,0.1])]\n",
    "train_test=np.array(train_test)"
   ]
  },
  {
   "cell_type": "code",
   "execution_count": 169,
   "metadata": {},
   "outputs": [],
   "source": [
    "x_train_index,x_test_index,y_train,y_test=np.concatenate(train_test[:,0]).ravel(),np.concatenate(train_test[:,1]).ravel(),np.concatenate(train_test[:,2]).ravel(),np.concatenate(train_test[:,3]).ravel()"
   ]
  },
  {
   "cell_type": "code",
   "execution_count": 170,
   "metadata": {},
   "outputs": [],
   "source": [
    "x_train=preprocessing(x_train_index)\n",
    "x_test=preprocessing(x_test_index)"
   ]
  },
  {
   "cell_type": "code",
   "execution_count": 171,
   "metadata": {},
   "outputs": [
    {
     "name": "stdout",
     "output_type": "stream",
     "text": [
      "Model: \"hand_writing\"\n",
      "_________________________________________________________________\n",
      " Layer (type)                Output Shape              Param #   \n",
      "=================================================================\n",
      " images (KerasLayer)         (None, 10)                0         \n",
      "                                                                 \n",
      " dense_4 (Dense)             (None, 20)                220       \n",
      "                                                                 \n",
      " dense_5 (Dense)             (None, 82)                1722      \n",
      "                                                                 \n",
      "=================================================================\n",
      "Total params: 1,942\n",
      "Trainable params: 1,942\n",
      "Non-trainable params: 0\n",
      "_________________________________________________________________\n",
      "None\n"
     ]
    }
   ],
   "source": [
    "hub_url='https://tfhub.dev/tensorflow/tfgan/eval/mnist/logits/1'\n",
    "model_layers=[hub.KerasLayer( handle=hub_url,input_shape=[28, 28, 1], trainable=False, name='images'), \n",
    "layers.Dense(20, activation='relu'),\n",
    "layers.Dense(82, activation='softmax')]\n",
    "\n",
    "\n",
    "\n",
    "model=keras.Sequential(model_layers,name='hand_writing')\n",
    "\n",
    "model.compile(loss='sparse_categorical_crossentropy',optimizer='adam',metrics=['accuracy'])\n",
    "print(model.summary())\n"
   ]
  },
  {
   "cell_type": "code",
   "execution_count": 172,
   "metadata": {},
   "outputs": [
    {
     "data": {
      "text/plain": [
       "(28, 28)"
      ]
     },
     "execution_count": 172,
     "metadata": {},
     "output_type": "execute_result"
    }
   ],
   "source": [
    "x_train[0].shape"
   ]
  },
  {
   "cell_type": "code",
   "execution_count": 173,
   "metadata": {},
   "outputs": [
    {
     "name": "stdout",
     "output_type": "stream",
     "text": [
      "Epoch 1/50\n",
      "425/425 [==============================] - 41s 95ms/step - loss: 32.5678 - accuracy: 0.1588 - val_loss: 3.5572 - val_accuracy: 0.4500\n",
      "Epoch 2/50\n",
      "425/425 [==============================] - 40s 95ms/step - loss: 3.8954 - accuracy: 0.3249 - val_loss: 1.7897 - val_accuracy: 0.5555\n",
      "Epoch 3/50\n",
      "425/425 [==============================] - 39s 92ms/step - loss: 2.7681 - accuracy: 0.3713 - val_loss: 1.6462 - val_accuracy: 0.5733\n",
      "Epoch 4/50\n",
      "425/425 [==============================] - 40s 95ms/step - loss: 2.5987 - accuracy: 0.3798 - val_loss: 1.6507 - val_accuracy: 0.5537\n",
      "Epoch 5/50\n",
      "425/425 [==============================] - 40s 94ms/step - loss: 2.5214 - accuracy: 0.3871 - val_loss: 1.4858 - val_accuracy: 0.6146\n",
      "Epoch 6/50\n",
      "425/425 [==============================] - 39s 93ms/step - loss: 2.4916 - accuracy: 0.3902 - val_loss: 1.5410 - val_accuracy: 0.5988\n",
      "Epoch 7/50\n",
      "425/425 [==============================] - 39s 91ms/step - loss: 2.4700 - accuracy: 0.3926 - val_loss: 1.6608 - val_accuracy: 0.5867\n",
      "Epoch 8/50\n",
      "425/425 [==============================] - 39s 92ms/step - loss: 2.4563 - accuracy: 0.3951 - val_loss: 1.5587 - val_accuracy: 0.6011\n",
      "Epoch 9/50\n",
      "425/425 [==============================] - 39s 92ms/step - loss: 2.4479 - accuracy: 0.3974 - val_loss: 1.4686 - val_accuracy: 0.6389\n",
      "Epoch 10/50\n",
      "425/425 [==============================] - 40s 93ms/step - loss: 2.4317 - accuracy: 0.3988 - val_loss: 1.4755 - val_accuracy: 0.6194\n",
      "Epoch 11/50\n",
      "425/425 [==============================] - 39s 93ms/step - loss: 2.4177 - accuracy: 0.4025 - val_loss: 1.6861 - val_accuracy: 0.5780\n",
      "Epoch 12/50\n",
      "425/425 [==============================] - 40s 95ms/step - loss: 2.4150 - accuracy: 0.4023 - val_loss: 1.4169 - val_accuracy: 0.6290\n",
      "Epoch 13/50\n",
      "425/425 [==============================] - 39s 92ms/step - loss: 2.4054 - accuracy: 0.4043 - val_loss: 1.5073 - val_accuracy: 0.6139\n",
      "Epoch 14/50\n",
      "425/425 [==============================] - 37s 88ms/step - loss: 2.3924 - accuracy: 0.4075 - val_loss: 1.5150 - val_accuracy: 0.6251\n",
      "Epoch 15/50\n",
      "425/425 [==============================] - 37s 87ms/step - loss: 2.3839 - accuracy: 0.4084 - val_loss: 1.5910 - val_accuracy: 0.5906\n",
      "Epoch 16/50\n",
      "425/425 [==============================] - 39s 92ms/step - loss: 2.3678 - accuracy: 0.4115 - val_loss: 1.5507 - val_accuracy: 0.6068\n",
      "Epoch 17/50\n",
      "425/425 [==============================] - 41s 97ms/step - loss: 2.3616 - accuracy: 0.4128 - val_loss: 1.4951 - val_accuracy: 0.6341\n",
      "Epoch 18/50\n",
      "425/425 [==============================] - 41s 96ms/step - loss: 2.3569 - accuracy: 0.4134 - val_loss: 1.5458 - val_accuracy: 0.6109\n",
      "Epoch 19/50\n",
      "425/425 [==============================] - 37s 88ms/step - loss: 2.3485 - accuracy: 0.4144 - val_loss: 1.4641 - val_accuracy: 0.6277\n",
      "Epoch 20/50\n",
      "425/425 [==============================] - 38s 90ms/step - loss: 2.3354 - accuracy: 0.4182 - val_loss: 1.5540 - val_accuracy: 0.6102\n",
      "Epoch 21/50\n",
      "425/425 [==============================] - 39s 93ms/step - loss: 2.3310 - accuracy: 0.4187 - val_loss: 1.4304 - val_accuracy: 0.6382\n",
      "Epoch 22/50\n",
      "425/425 [==============================] - 41s 96ms/step - loss: 2.3181 - accuracy: 0.4218 - val_loss: 1.4317 - val_accuracy: 0.6413\n",
      "Epoch 23/50\n",
      "425/425 [==============================] - 39s 91ms/step - loss: 2.3120 - accuracy: 0.4218 - val_loss: 1.5508 - val_accuracy: 0.5906\n",
      "Epoch 24/50\n",
      "425/425 [==============================] - 38s 89ms/step - loss: 2.3052 - accuracy: 0.4243 - val_loss: 1.5229 - val_accuracy: 0.6094\n",
      "Epoch 25/50\n",
      "425/425 [==============================] - 38s 88ms/step - loss: 2.3062 - accuracy: 0.4234 - val_loss: 1.4278 - val_accuracy: 0.6329\n",
      "Epoch 26/50\n",
      "425/425 [==============================] - 39s 91ms/step - loss: 2.2959 - accuracy: 0.4245 - val_loss: 1.6018 - val_accuracy: 0.5855\n",
      "Epoch 27/50\n",
      "425/425 [==============================] - 40s 95ms/step - loss: 2.2945 - accuracy: 0.4241 - val_loss: 1.5241 - val_accuracy: 0.6220\n",
      "Epoch 28/50\n",
      "425/425 [==============================] - 40s 95ms/step - loss: 2.2788 - accuracy: 0.4279 - val_loss: 1.4377 - val_accuracy: 0.6377\n",
      "Epoch 29/50\n",
      "425/425 [==============================] - 44s 103ms/step - loss: 2.2798 - accuracy: 0.4280 - val_loss: 1.3745 - val_accuracy: 0.6489\n",
      "Epoch 30/50\n",
      "425/425 [==============================] - 42s 99ms/step - loss: 2.2710 - accuracy: 0.4291 - val_loss: 1.3686 - val_accuracy: 0.6617\n",
      "Epoch 31/50\n",
      "425/425 [==============================] - 42s 98ms/step - loss: 2.2667 - accuracy: 0.4301 - val_loss: 1.4817 - val_accuracy: 0.6270\n",
      "Epoch 32/50\n",
      "425/425 [==============================] - 40s 94ms/step - loss: 2.2584 - accuracy: 0.4319 - val_loss: 1.3971 - val_accuracy: 0.6430\n",
      "Epoch 33/50\n",
      "425/425 [==============================] - 40s 94ms/step - loss: 2.2512 - accuracy: 0.4332 - val_loss: 1.4635 - val_accuracy: 0.6312\n",
      "Epoch 34/50\n",
      "425/425 [==============================] - 37s 88ms/step - loss: 2.2498 - accuracy: 0.4332 - val_loss: 1.4433 - val_accuracy: 0.6321\n",
      "Epoch 35/50\n",
      "425/425 [==============================] - 40s 94ms/step - loss: 2.2415 - accuracy: 0.4346 - val_loss: 1.4668 - val_accuracy: 0.6221\n",
      "Epoch 36/50\n",
      "425/425 [==============================] - 40s 93ms/step - loss: 2.2408 - accuracy: 0.4338 - val_loss: 1.4149 - val_accuracy: 0.6568\n",
      "Epoch 37/50\n",
      "425/425 [==============================] - 40s 94ms/step - loss: 2.2303 - accuracy: 0.4373 - val_loss: 1.4403 - val_accuracy: 0.6375\n",
      "Epoch 38/50\n",
      "425/425 [==============================] - 41s 96ms/step - loss: 2.2256 - accuracy: 0.4379 - val_loss: 1.4148 - val_accuracy: 0.6279\n",
      "Epoch 39/50\n",
      "425/425 [==============================] - 40s 94ms/step - loss: 2.2241 - accuracy: 0.4371 - val_loss: 1.3619 - val_accuracy: 0.6571\n",
      "Epoch 40/50\n",
      "425/425 [==============================] - 40s 94ms/step - loss: 2.2181 - accuracy: 0.4391 - val_loss: 1.5175 - val_accuracy: 0.6323\n",
      "Epoch 41/50\n",
      "425/425 [==============================] - 40s 95ms/step - loss: 2.2095 - accuracy: 0.4408 - val_loss: 1.5242 - val_accuracy: 0.6156\n",
      "Epoch 42/50\n",
      "425/425 [==============================] - 40s 94ms/step - loss: 2.2079 - accuracy: 0.4403 - val_loss: 1.4346 - val_accuracy: 0.6384\n",
      "Epoch 43/50\n",
      "425/425 [==============================] - 41s 96ms/step - loss: 2.1990 - accuracy: 0.4411 - val_loss: 1.3339 - val_accuracy: 0.6580\n",
      "Epoch 44/50\n",
      "425/425 [==============================] - 40s 93ms/step - loss: 2.1960 - accuracy: 0.4429 - val_loss: 1.3706 - val_accuracy: 0.6517\n",
      "Epoch 45/50\n",
      "425/425 [==============================] - 40s 93ms/step - loss: 2.1868 - accuracy: 0.4437 - val_loss: 1.3789 - val_accuracy: 0.6498\n",
      "Epoch 46/50\n",
      "425/425 [==============================] - 39s 93ms/step - loss: 2.1813 - accuracy: 0.4450 - val_loss: 1.4076 - val_accuracy: 0.6396\n",
      "Epoch 47/50\n",
      "425/425 [==============================] - 40s 95ms/step - loss: 2.1779 - accuracy: 0.4457 - val_loss: 1.4358 - val_accuracy: 0.6385\n",
      "Epoch 48/50\n",
      "425/425 [==============================] - 39s 92ms/step - loss: 2.1733 - accuracy: 0.4459 - val_loss: 1.3842 - val_accuracy: 0.6540\n",
      "Epoch 49/50\n",
      "425/425 [==============================] - 41s 97ms/step - loss: 2.1649 - accuracy: 0.4483 - val_loss: 1.4178 - val_accuracy: 0.6422\n",
      "Epoch 50/50\n",
      "425/425 [==============================] - 41s 96ms/step - loss: 2.1571 - accuracy: 0.4503 - val_loss: 1.3261 - val_accuracy: 0.6634\n"
     ]
    }
   ],
   "source": [
    "np.random.seed(123)\n",
    "history=model.fit(x_train,y_train,batch_size=500,epochs=50,validation_split=0.2)"
   ]
  },
  {
   "cell_type": "code",
   "execution_count": 178,
   "metadata": {},
   "outputs": [
    {
     "data": {
      "text/plain": [
       "{'loss': [32.56782531738281,\n",
       "  3.8954150676727295,\n",
       "  2.768068552017212,\n",
       "  2.598670721054077,\n",
       "  2.5214130878448486,\n",
       "  2.491563320159912,\n",
       "  2.4699578285217285,\n",
       "  2.4562723636627197,\n",
       "  2.4479384422302246,\n",
       "  2.4316906929016113,\n",
       "  2.417717218399048,\n",
       "  2.415045738220215,\n",
       "  2.4054455757141113,\n",
       "  2.392354965209961,\n",
       "  2.3839304447174072,\n",
       "  2.3677709102630615,\n",
       "  2.361632823944092,\n",
       "  2.356900215148926,\n",
       "  2.348527669906616,\n",
       "  2.3354475498199463,\n",
       "  2.3309924602508545,\n",
       "  2.3181159496307373,\n",
       "  2.3120267391204834,\n",
       "  2.3051528930664062,\n",
       "  2.306166887283325,\n",
       "  2.295942783355713,\n",
       "  2.294515371322632,\n",
       "  2.278796434402466,\n",
       "  2.2797787189483643,\n",
       "  2.2709598541259766,\n",
       "  2.266723871231079,\n",
       "  2.2583813667297363,\n",
       "  2.251159191131592,\n",
       "  2.249847650527954,\n",
       "  2.2414767742156982,\n",
       "  2.2408030033111572,\n",
       "  2.230313301086426,\n",
       "  2.2256019115448,\n",
       "  2.2241344451904297,\n",
       "  2.2181248664855957,\n",
       "  2.209496259689331,\n",
       "  2.2078850269317627,\n",
       "  2.1990339756011963,\n",
       "  2.1959917545318604,\n",
       "  2.186763048171997,\n",
       "  2.1813125610351562,\n",
       "  2.1779353618621826,\n",
       "  2.1733031272888184,\n",
       "  2.164858818054199,\n",
       "  2.1571269035339355],\n",
       " 'accuracy': [0.15883658826351166,\n",
       "  0.32490092515945435,\n",
       "  0.3713113069534302,\n",
       "  0.37984421849250793,\n",
       "  0.38705316185951233,\n",
       "  0.39016759395599365,\n",
       "  0.39261767268180847,\n",
       "  0.3950771987438202,\n",
       "  0.39738595485687256,\n",
       "  0.3987947404384613,\n",
       "  0.40248873829841614,\n",
       "  0.40229082107543945,\n",
       "  0.40433570742607117,\n",
       "  0.40747371315956116,\n",
       "  0.4084113538265228,\n",
       "  0.4114880859851837,\n",
       "  0.4128167927265167,\n",
       "  0.41336336731910706,\n",
       "  0.414390504360199,\n",
       "  0.41822585463523865,\n",
       "  0.41867345571517944,\n",
       "  0.42181146144866943,\n",
       "  0.42182087898254395,\n",
       "  0.42432281374931335,\n",
       "  0.42339929938316345,\n",
       "  0.4245395362377167,\n",
       "  0.42406365275382996,\n",
       "  0.4279225468635559,\n",
       "  0.42803093791007996,\n",
       "  0.4291287660598755,\n",
       "  0.4300616681575775,\n",
       "  0.43191808462142944,\n",
       "  0.4331996738910675,\n",
       "  0.4331996738910675,\n",
       "  0.4346367418766022,\n",
       "  0.43384990096092224,\n",
       "  0.43727532029151917,\n",
       "  0.4379490911960602,\n",
       "  0.43711039423942566,\n",
       "  0.43912702798843384,\n",
       "  0.44083264470100403,\n",
       "  0.4402860999107361,\n",
       "  0.44114363193511963,\n",
       "  0.4428586959838867,\n",
       "  0.4437021017074585,\n",
       "  0.44495540857315063,\n",
       "  0.4456668794155121,\n",
       "  0.44587889313697815,\n",
       "  0.448263019323349,\n",
       "  0.45031261444091797],\n",
       " 'val_loss': [3.557234764099121,\n",
       "  1.7896780967712402,\n",
       "  1.6462150812149048,\n",
       "  1.650662899017334,\n",
       "  1.4857910871505737,\n",
       "  1.5410137176513672,\n",
       "  1.6608117818832397,\n",
       "  1.5586769580841064,\n",
       "  1.468593955039978,\n",
       "  1.4755254983901978,\n",
       "  1.686083436012268,\n",
       "  1.4169284105300903,\n",
       "  1.507311463356018,\n",
       "  1.5150415897369385,\n",
       "  1.591040849685669,\n",
       "  1.5507140159606934,\n",
       "  1.4950960874557495,\n",
       "  1.5458256006240845,\n",
       "  1.4640508890151978,\n",
       "  1.5540207624435425,\n",
       "  1.4303548336029053,\n",
       "  1.4317200183868408,\n",
       "  1.5508030652999878,\n",
       "  1.5228875875473022,\n",
       "  1.4278450012207031,\n",
       "  1.6018131971359253,\n",
       "  1.5241265296936035,\n",
       "  1.4377012252807617,\n",
       "  1.3745267391204834,\n",
       "  1.3686394691467285,\n",
       "  1.4817456007003784,\n",
       "  1.397106409072876,\n",
       "  1.4635494947433472,\n",
       "  1.4433207511901855,\n",
       "  1.4667882919311523,\n",
       "  1.4148765802383423,\n",
       "  1.440280556678772,\n",
       "  1.414772629737854,\n",
       "  1.3619354963302612,\n",
       "  1.5175341367721558,\n",
       "  1.5241862535476685,\n",
       "  1.4345600605010986,\n",
       "  1.333923578262329,\n",
       "  1.370550274848938,\n",
       "  1.3788799047470093,\n",
       "  1.4076364040374756,\n",
       "  1.4357889890670776,\n",
       "  1.3842345476150513,\n",
       "  1.4177751541137695,\n",
       "  1.3260828256607056],\n",
       " 'val_accuracy': [0.4500376880168915,\n",
       "  0.5554655194282532,\n",
       "  0.5733320713043213,\n",
       "  0.5536562204360962,\n",
       "  0.6146060824394226,\n",
       "  0.5987749695777893,\n",
       "  0.586732029914856,\n",
       "  0.6010742783546448,\n",
       "  0.6388804912567139,\n",
       "  0.6194496750831604,\n",
       "  0.5780248641967773,\n",
       "  0.6290237307548523,\n",
       "  0.6139464974403381,\n",
       "  0.6251036524772644,\n",
       "  0.590557873249054,\n",
       "  0.6068224906921387,\n",
       "  0.6341122984886169,\n",
       "  0.6108556389808655,\n",
       "  0.6276856660842896,\n",
       "  0.6102148294448853,\n",
       "  0.6382397413253784,\n",
       "  0.6413305401802063,\n",
       "  0.590614378452301,\n",
       "  0.609366774559021,\n",
       "  0.6328684687614441,\n",
       "  0.5855069756507874,\n",
       "  0.6219562888145447,\n",
       "  0.6376931667327881,\n",
       "  0.6489068865776062,\n",
       "  0.6616660356521606,\n",
       "  0.6270448565483093,\n",
       "  0.6430456042289734,\n",
       "  0.631153404712677,\n",
       "  0.6320957541465759,\n",
       "  0.6221259236335754,\n",
       "  0.6567847728729248,\n",
       "  0.6375424265861511,\n",
       "  0.6278929710388184,\n",
       "  0.6570674777030945,\n",
       "  0.6323407292366028,\n",
       "  0.6156049966812134,\n",
       "  0.6384470462799072,\n",
       "  0.6579532623291016,\n",
       "  0.6517338752746582,\n",
       "  0.6498304009437561,\n",
       "  0.639596700668335,\n",
       "  0.6384847164154053,\n",
       "  0.6540331840515137,\n",
       "  0.6421598196029663,\n",
       "  0.6634187698364258]}"
      ]
     },
     "execution_count": 178,
     "metadata": {},
     "output_type": "execute_result"
    }
   ],
   "source": [
    "history.history"
   ]
  },
  {
   "cell_type": "code",
   "execution_count": 179,
   "metadata": {},
   "outputs": [
    {
     "name": "stdout",
     "output_type": "stream",
     "text": [
      "Epoch 1/50\n",
      "425/425 [==============================] - 40s 93ms/step - loss: 2.1425 - accuracy: 0.4526 - val_loss: 1.3970 - val_accuracy: 0.6446\n",
      "Epoch 2/50\n",
      "425/425 [==============================] - 39s 92ms/step - loss: 2.1299 - accuracy: 0.4537 - val_loss: 1.3483 - val_accuracy: 0.6636\n",
      "Epoch 3/50\n",
      "425/425 [==============================] - 39s 91ms/step - loss: 2.1192 - accuracy: 0.4558 - val_loss: 1.2984 - val_accuracy: 0.6643\n",
      "Epoch 4/50\n",
      "425/425 [==============================] - 39s 91ms/step - loss: 2.1119 - accuracy: 0.4579 - val_loss: 1.2993 - val_accuracy: 0.6725\n",
      "Epoch 5/50\n",
      "425/425 [==============================] - 39s 91ms/step - loss: 2.1019 - accuracy: 0.4592 - val_loss: 1.3831 - val_accuracy: 0.6493\n",
      "Epoch 6/50\n",
      "425/425 [==============================] - 39s 92ms/step - loss: 2.0936 - accuracy: 0.4614 - val_loss: 1.3195 - val_accuracy: 0.6713\n",
      "Epoch 7/50\n",
      "425/425 [==============================] - 202s 476ms/step - loss: 2.0871 - accuracy: 0.4626 - val_loss: 1.3215 - val_accuracy: 0.6634\n",
      "Epoch 8/50\n",
      "425/425 [==============================] - 40s 94ms/step - loss: 2.0814 - accuracy: 0.4643 - val_loss: 1.3285 - val_accuracy: 0.6624\n",
      "Epoch 9/50\n",
      "425/425 [==============================] - 40s 94ms/step - loss: 2.0724 - accuracy: 0.4654 - val_loss: 1.2878 - val_accuracy: 0.6790\n",
      "Epoch 10/50\n",
      "425/425 [==============================] - 40s 94ms/step - loss: 2.0685 - accuracy: 0.4663 - val_loss: 1.3624 - val_accuracy: 0.6662\n",
      "Epoch 11/50\n",
      "425/425 [==============================] - 39s 91ms/step - loss: 2.0658 - accuracy: 0.4665 - val_loss: 1.2936 - val_accuracy: 0.6799\n",
      "Epoch 12/50\n",
      "425/425 [==============================] - 39s 93ms/step - loss: 2.0598 - accuracy: 0.4675 - val_loss: 1.4429 - val_accuracy: 0.6299\n",
      "Epoch 13/50\n",
      "425/425 [==============================] - 39s 92ms/step - loss: 2.0538 - accuracy: 0.4694 - val_loss: 1.3462 - val_accuracy: 0.6662\n",
      "Epoch 14/50\n",
      "425/425 [==============================] - 38s 88ms/step - loss: 2.0487 - accuracy: 0.4699 - val_loss: 1.3107 - val_accuracy: 0.6692\n",
      "Epoch 15/50\n",
      "425/425 [==============================] - 38s 89ms/step - loss: 2.0463 - accuracy: 0.4700 - val_loss: 1.2933 - val_accuracy: 0.6789\n",
      "Epoch 16/50\n",
      "425/425 [==============================] - 37s 88ms/step - loss: 2.0415 - accuracy: 0.4706 - val_loss: 1.2395 - val_accuracy: 0.6867\n",
      "Epoch 17/50\n",
      "425/425 [==============================] - 37s 86ms/step - loss: 2.0346 - accuracy: 0.4719 - val_loss: 1.2750 - val_accuracy: 0.6831\n",
      "Epoch 18/50\n",
      "425/425 [==============================] - 37s 87ms/step - loss: 2.0311 - accuracy: 0.4733 - val_loss: 1.3186 - val_accuracy: 0.6663\n",
      "Epoch 19/50\n",
      "425/425 [==============================] - 37s 87ms/step - loss: 2.0273 - accuracy: 0.4736 - val_loss: 1.2395 - val_accuracy: 0.6853\n",
      "Epoch 20/50\n",
      "425/425 [==============================] - 37s 88ms/step - loss: 2.0239 - accuracy: 0.4741 - val_loss: 1.3426 - val_accuracy: 0.6683\n",
      "Epoch 21/50\n",
      "425/425 [==============================] - 37s 86ms/step - loss: 2.0183 - accuracy: 0.4753 - val_loss: 1.2477 - val_accuracy: 0.6860\n",
      "Epoch 22/50\n",
      "425/425 [==============================] - 441s 1s/step - loss: 2.0124 - accuracy: 0.4773 - val_loss: 1.2628 - val_accuracy: 0.6758\n",
      "Epoch 23/50\n",
      "425/425 [==============================] - 45s 105ms/step - loss: 2.0091 - accuracy: 0.4769 - val_loss: 1.2228 - val_accuracy: 0.6880\n",
      "Epoch 24/50\n",
      "425/425 [==============================] - 38s 90ms/step - loss: 2.0036 - accuracy: 0.4775 - val_loss: 1.1956 - val_accuracy: 0.6972\n",
      "Epoch 25/50\n",
      "425/425 [==============================] - 37s 87ms/step - loss: 1.9998 - accuracy: 0.4790 - val_loss: 1.2702 - val_accuracy: 0.6752\n",
      "Epoch 26/50\n",
      "425/425 [==============================] - 37s 87ms/step - loss: 1.9944 - accuracy: 0.4808 - val_loss: 1.2062 - val_accuracy: 0.6988\n",
      "Epoch 27/50\n",
      "425/425 [==============================] - 38s 90ms/step - loss: 1.9909 - accuracy: 0.4811 - val_loss: 1.2824 - val_accuracy: 0.6703\n",
      "Epoch 28/50\n",
      "425/425 [==============================] - 38s 89ms/step - loss: 1.9855 - accuracy: 0.4817 - val_loss: 1.1939 - val_accuracy: 0.6972\n",
      "Epoch 29/50\n",
      "425/425 [==============================] - 38s 89ms/step - loss: 1.9830 - accuracy: 0.4823 - val_loss: 1.2907 - val_accuracy: 0.6697\n",
      "Epoch 30/50\n",
      "425/425 [==============================] - 38s 88ms/step - loss: 1.9767 - accuracy: 0.4844 - val_loss: 1.2901 - val_accuracy: 0.6701\n",
      "Epoch 31/50\n",
      "425/425 [==============================] - 38s 89ms/step - loss: 1.9727 - accuracy: 0.4855 - val_loss: 1.2465 - val_accuracy: 0.6822\n",
      "Epoch 32/50\n",
      "425/425 [==============================] - 37s 88ms/step - loss: 1.9683 - accuracy: 0.4857 - val_loss: 1.2736 - val_accuracy: 0.6761\n",
      "Epoch 33/50\n",
      "425/425 [==============================] - 38s 89ms/step - loss: 1.9616 - accuracy: 0.4871 - val_loss: 1.2627 - val_accuracy: 0.6778\n",
      "Epoch 34/50\n",
      "425/425 [==============================] - 38s 89ms/step - loss: 1.9564 - accuracy: 0.4884 - val_loss: 1.1994 - val_accuracy: 0.6963\n",
      "Epoch 35/50\n",
      "425/425 [==============================] - 38s 89ms/step - loss: 1.9521 - accuracy: 0.4897 - val_loss: 1.2110 - val_accuracy: 0.6944\n",
      "Epoch 36/50\n",
      "425/425 [==============================] - 37s 88ms/step - loss: 1.9480 - accuracy: 0.4901 - val_loss: 1.1911 - val_accuracy: 0.6901\n",
      "Epoch 37/50\n",
      "425/425 [==============================] - 37s 88ms/step - loss: 1.9451 - accuracy: 0.4914 - val_loss: 1.2351 - val_accuracy: 0.6861\n",
      "Epoch 38/50\n",
      "425/425 [==============================] - 38s 88ms/step - loss: 1.9405 - accuracy: 0.4917 - val_loss: 1.2454 - val_accuracy: 0.6789\n",
      "Epoch 39/50\n",
      "425/425 [==============================] - 37s 88ms/step - loss: 1.9388 - accuracy: 0.4915 - val_loss: 1.1988 - val_accuracy: 0.6929\n",
      "Epoch 40/50\n",
      "425/425 [==============================] - 38s 89ms/step - loss: 1.9352 - accuracy: 0.4931 - val_loss: 1.1723 - val_accuracy: 0.7007\n",
      "Epoch 41/50\n",
      "425/425 [==============================] - 38s 88ms/step - loss: 1.9340 - accuracy: 0.4948 - val_loss: 1.1678 - val_accuracy: 0.7078\n",
      "Epoch 42/50\n",
      "425/425 [==============================] - 38s 88ms/step - loss: 1.9311 - accuracy: 0.4946 - val_loss: 1.2722 - val_accuracy: 0.6709\n",
      "Epoch 43/50\n",
      "425/425 [==============================] - 37s 87ms/step - loss: 1.9306 - accuracy: 0.4949 - val_loss: 1.2376 - val_accuracy: 0.6870\n",
      "Epoch 44/50\n",
      "425/425 [==============================] - 39s 91ms/step - loss: 1.9275 - accuracy: 0.4946 - val_loss: 1.1689 - val_accuracy: 0.7000\n",
      "Epoch 45/50\n",
      "425/425 [==============================] - 44s 103ms/step - loss: 1.9264 - accuracy: 0.4947 - val_loss: 1.2445 - val_accuracy: 0.6759\n",
      "Epoch 46/50\n",
      "425/425 [==============================] - 44s 105ms/step - loss: 1.9251 - accuracy: 0.4952 - val_loss: 1.2312 - val_accuracy: 0.6792\n",
      "Epoch 47/50\n",
      "425/425 [==============================] - 47s 110ms/step - loss: 1.9230 - accuracy: 0.4954 - val_loss: 1.2223 - val_accuracy: 0.6873\n",
      "Epoch 48/50\n",
      "425/425 [==============================] - 46s 107ms/step - loss: 1.9212 - accuracy: 0.4964 - val_loss: 1.2062 - val_accuracy: 0.6960\n",
      "Epoch 49/50\n",
      "425/425 [==============================] - 47s 111ms/step - loss: 1.9197 - accuracy: 0.4972 - val_loss: 1.1986 - val_accuracy: 0.6900\n",
      "Epoch 50/50\n",
      "425/425 [==============================] - 1111s 3s/step - loss: 1.9188 - accuracy: 0.4962 - val_loss: 1.2121 - val_accuracy: 0.6891\n"
     ]
    }
   ],
   "source": [
    "history2=model.fit(x_train,y_train,batch_size=500,epochs=50,validation_split=0.2)"
   ]
  },
  {
   "cell_type": "code",
   "execution_count": 180,
   "metadata": {},
   "outputs": [
    {
     "name": "stdout",
     "output_type": "stream",
     "text": [
      "136/136 [==============================] - 13s 96ms/step - loss: 2.0725 - accuracy: 0.4516\n"
     ]
    },
    {
     "data": {
      "text/plain": [
       "[2.0725064277648926, 0.451596736907959]"
      ]
     },
     "execution_count": 180,
     "metadata": {},
     "output_type": "execute_result"
    }
   ],
   "source": [
    "model.evaluate(x_test,y_test,batch_size=500)"
   ]
  },
  {
   "cell_type": "code",
   "execution_count": 181,
   "metadata": {},
   "outputs": [
    {
     "data": {
      "image/png": "[encoded data removed]",
      "text/plain": [
       "<Figure size 864x576 with 1 Axes>"
      ]
     },
     "metadata": {
      "needs_background": "dark"
     },
     "output_type": "display_data"
    }
   ],
   "source": [
    "accuracy_array=np.hstack((history.history['accuracy'],history2.history['accuracy']))\n",
    "val_accuracy_array=np.hstack((history.history['val_accuracy'],history2.history['val_accuracy']))\n",
    "\n",
    "plt.figure(figsize=(12,8))\n",
    "plt.plot(accuracy_array)\n",
    "plt.plot(val_accuracy_array)\n",
    "plt.tick_params(axis='both',color='white')\n",
    "plt.xticks(color='white')\n",
    "plt.yticks(color='white')\n",
    "plt.show()"
   ]
  },
  {
   "cell_type": "markdown",
   "metadata": {},
   "source": [
    "# trying to Fine tunning the model"
   ]
  },
  {
   "cell_type": "code",
   "execution_count": 28,
   "metadata": {},
   "outputs": [
    {
     "name": "stderr",
     "output_type": "stream",
     "text": [
      "C:\\Users\\estevan.amazonas\\AppData\\Local\\Programs\\Python\\Python37\\lib\\site-packages\\ipykernel_launcher.py:2: VisibleDeprecationWarning: Creating an ndarray from ragged nested sequences (which is a list-or-tuple of lists-or-tuples-or ndarrays with different lengths or shapes) is deprecated. If you meant to do this, you must specify 'dtype=object' when creating the ndarray.\n",
      "  \n"
     ]
    }
   ],
   "source": [
    "train_test=[train_test_split(df[df.sample_size_cat==i].index.values,df[df.sample_size_cat==i]['code_symbol'],train_size=j,test_size=k) for i,j,k in zip([0,1,2,3], [0.9,0.9,0.7,0.7],[0.1,0.1,0.3,0.1])]\n",
    "train_test=np.array(train_test)\n",
    "x_train_index,x_test_index,y_train,y_test=np.concatenate(train_test[:,0]).ravel(),np.concatenate(train_test[:,1]).ravel(),np.concatenate(train_test[:,2]).ravel(),np.concatenate(train_test[:,3]).ravel()"
   ]
  },
  {
   "cell_type": "code",
   "execution_count": null,
   "metadata": {},
   "outputs": [],
   "source": [
    "x_train=preprocessing(x_train_index)\n",
    "x_test=preprocessing(x_test_index)"
   ]
  },
  {
   "cell_type": "code",
   "execution_count": 30,
   "metadata": {},
   "outputs": [
    {
     "name": "stderr",
     "output_type": "stream",
     "text": [
      "ERROR:absl:hub.KerasLayer is trainable but has zero trainable weights.\n"
     ]
    },
    {
     "name": "stdout",
     "output_type": "stream",
     "text": [
      "Model: \"hand_writing\"\n",
      "_________________________________________________________________\n",
      " Layer (type)                Output Shape              Param #   \n",
      "=================================================================\n",
      " images (KerasLayer)         (None, 10)                0         \n",
      "                                                                 \n",
      " dense_2 (Dense)             (None, 20)                220       \n",
      "                                                                 \n",
      " dense_3 (Dense)             (None, 82)                1722      \n",
      "                                                                 \n",
      "=================================================================\n",
      "Total params: 1,942\n",
      "Trainable params: 1,942\n",
      "Non-trainable params: 0\n",
      "_________________________________________________________________\n",
      "None\n"
     ]
    }
   ],
   "source": [
    "hub_url='https://tfhub.dev/tensorflow/tfgan/eval/mnist/logits/1'\n",
    "model_layers=[hub.KerasLayer( handle=hub_url,input_shape=[28, 28, 1], trainable=True, name='images'), \n",
    "layers.Dense(20, activation='relu'),\n",
    "layers.Dense(82, activation='softmax')]\n",
    "\n",
    "\n",
    "\n",
    "model=keras.Sequential(model_layers,name='hand_writing')\n",
    "\n",
    "\n",
    "\n",
    "opt=keras.optimizers.Adam(learning_rate=0.01)\n",
    "\n",
    "\n",
    "optimizers_set = [\n",
    "    keras.optimizers.Adam(learning_rate=1e-4),\n",
    "    keras.optimizers.Adam(learning_rate=1e-2)\n",
    "]\n",
    "optimizers_and_layers = [(optimizers_set[0], model.layers[0]), (optimizers_set[1], model.layers[1:])]\n",
    "opt = optimizers.MultiOptimizer(optimizers_and_layers)\n",
    "\n",
    "model.compile(loss='sparse_categorical_crossentropy',optimizer=opt,metrics=['accuracy'])\n",
    "print(model.summary())\n"
   ]
  },
  {
   "cell_type": "code",
   "execution_count": 195,
   "metadata": {},
   "outputs": [
    {
     "name": "stdout",
     "output_type": "stream",
     "text": [
      "Epoch 1/50\n",
      "425/425 [==============================] - 41s 95ms/step - loss: 7.2485 - accuracy: 0.0696 - val_loss: 3.0989 - val_accuracy: 0.1606\n",
      "Epoch 2/50\n",
      "425/425 [==============================] - 40s 93ms/step - loss: 3.7684 - accuracy: 0.0972 - val_loss: 2.6908 - val_accuracy: 0.3055\n",
      "Epoch 3/50\n",
      "425/425 [==============================] - 41s 96ms/step - loss: 3.2067 - accuracy: 0.2149 - val_loss: 1.9650 - val_accuracy: 0.5003\n",
      "Epoch 4/50\n",
      "425/425 [==============================] - 43s 102ms/step - loss: 2.9202 - accuracy: 0.2723 - val_loss: 1.9001 - val_accuracy: 0.5000\n",
      "Epoch 5/50\n",
      "425/425 [==============================] - 43s 101ms/step - loss: 2.8782 - accuracy: 0.2794 - val_loss: 1.9059 - val_accuracy: 0.5281\n",
      "Epoch 6/50\n",
      "425/425 [==============================] - 40s 94ms/step - loss: 2.8640 - accuracy: 0.2822 - val_loss: 1.8911 - val_accuracy: 0.5138\n",
      "Epoch 7/50\n",
      "425/425 [==============================] - 41s 97ms/step - loss: 2.8541 - accuracy: 0.2833 - val_loss: 1.9254 - val_accuracy: 0.5111\n",
      "Epoch 8/50\n",
      "425/425 [==============================] - 39s 92ms/step - loss: 2.8522 - accuracy: 0.2847 - val_loss: 1.9422 - val_accuracy: 0.4975\n",
      "Epoch 9/50\n",
      "425/425 [==============================] - 40s 95ms/step - loss: 2.8447 - accuracy: 0.2848 - val_loss: 1.9463 - val_accuracy: 0.5001\n",
      "Epoch 10/50\n",
      "258/425 [=================>............] - ETA: 13s - loss: 2.8409 - accuracy: 0.2847"
     ]
    },
    {
     "ename": "KeyboardInterrupt",
     "evalue": "",
     "output_type": "error",
     "traceback": [
      "\u001b[1;31m---------------------------------------------------------------------------\u001b[0m",
      "\u001b[1;31mKeyboardInterrupt\u001b[0m                         Traceback (most recent call last)",
      "\u001b[1;32mC:\\Users\\ESTEVA~1.AMA\\AppData\\Local\\Temp/ipykernel_15968/3367156072.py\u001b[0m in \u001b[0;36m<module>\u001b[1;34m\u001b[0m\n\u001b[0;32m      1\u001b[0m \u001b[0mnp\u001b[0m\u001b[1;33m.\u001b[0m\u001b[0mrandom\u001b[0m\u001b[1;33m.\u001b[0m\u001b[0mseed\u001b[0m\u001b[1;33m(\u001b[0m\u001b[1;36m123\u001b[0m\u001b[1;33m)\u001b[0m\u001b[1;33m\u001b[0m\u001b[1;33m\u001b[0m\u001b[0m\n\u001b[1;32m----> 2\u001b[1;33m \u001b[0mhistory\u001b[0m\u001b[1;33m=\u001b[0m\u001b[0mmodel\u001b[0m\u001b[1;33m.\u001b[0m\u001b[0mfit\u001b[0m\u001b[1;33m(\u001b[0m\u001b[0mx_train\u001b[0m\u001b[1;33m,\u001b[0m\u001b[0my_train\u001b[0m\u001b[1;33m,\u001b[0m\u001b[0mbatch_size\u001b[0m\u001b[1;33m=\u001b[0m\u001b[1;36m500\u001b[0m\u001b[1;33m,\u001b[0m\u001b[0mepochs\u001b[0m\u001b[1;33m=\u001b[0m\u001b[1;36m50\u001b[0m\u001b[1;33m,\u001b[0m\u001b[0mvalidation_split\u001b[0m\u001b[1;33m=\u001b[0m\u001b[1;36m0.2\u001b[0m\u001b[1;33m)\u001b[0m\u001b[1;33m\u001b[0m\u001b[1;33m\u001b[0m\u001b[0m\n\u001b[0m",
      "\u001b[1;32m~\\AppData\\Local\\Programs\\Python\\Python37\\lib\\site-packages\\keras\\utils\\traceback_utils.py\u001b[0m in \u001b[0;36merror_handler\u001b[1;34m(*args, **kwargs)\u001b[0m\n\u001b[0;32m     62\u001b[0m     \u001b[0mfiltered_tb\u001b[0m \u001b[1;33m=\u001b[0m \u001b[1;32mNone\u001b[0m\u001b[1;33m\u001b[0m\u001b[1;33m\u001b[0m\u001b[0m\n\u001b[0;32m     63\u001b[0m     \u001b[1;32mtry\u001b[0m\u001b[1;33m:\u001b[0m\u001b[1;33m\u001b[0m\u001b[1;33m\u001b[0m\u001b[0m\n\u001b[1;32m---> 64\u001b[1;33m       \u001b[1;32mreturn\u001b[0m \u001b[0mfn\u001b[0m\u001b[1;33m(\u001b[0m\u001b[1;33m*\u001b[0m\u001b[0margs\u001b[0m\u001b[1;33m,\u001b[0m \u001b[1;33m**\u001b[0m\u001b[0mkwargs\u001b[0m\u001b[1;33m)\u001b[0m\u001b[1;33m\u001b[0m\u001b[1;33m\u001b[0m\u001b[0m\n\u001b[0m\u001b[0;32m     65\u001b[0m     \u001b[1;32mexcept\u001b[0m \u001b[0mException\u001b[0m \u001b[1;32mas\u001b[0m \u001b[0me\u001b[0m\u001b[1;33m:\u001b[0m  \u001b[1;31m# pylint: disable=broad-except\u001b[0m\u001b[1;33m\u001b[0m\u001b[1;33m\u001b[0m\u001b[0m\n\u001b[0;32m     66\u001b[0m       \u001b[0mfiltered_tb\u001b[0m \u001b[1;33m=\u001b[0m \u001b[0m_process_traceback_frames\u001b[0m\u001b[1;33m(\u001b[0m\u001b[0me\u001b[0m\u001b[1;33m.\u001b[0m\u001b[0m__traceback__\u001b[0m\u001b[1;33m)\u001b[0m\u001b[1;33m\u001b[0m\u001b[1;33m\u001b[0m\u001b[0m\n",
      "\u001b[1;32m~\\AppData\\Local\\Programs\\Python\\Python37\\lib\\site-packages\\keras\\engine\\training.py\u001b[0m in \u001b[0;36mfit\u001b[1;34m(self, x, y, batch_size, epochs, verbose, callbacks, validation_split, validation_data, shuffle, class_weight, sample_weight, initial_epoch, steps_per_epoch, validation_steps, validation_batch_size, validation_freq, max_queue_size, workers, use_multiprocessing)\u001b[0m\n\u001b[0;32m   1214\u001b[0m                 _r=1):\n\u001b[0;32m   1215\u001b[0m               \u001b[0mcallbacks\u001b[0m\u001b[1;33m.\u001b[0m\u001b[0mon_train_batch_begin\u001b[0m\u001b[1;33m(\u001b[0m\u001b[0mstep\u001b[0m\u001b[1;33m)\u001b[0m\u001b[1;33m\u001b[0m\u001b[1;33m\u001b[0m\u001b[0m\n\u001b[1;32m-> 1216\u001b[1;33m               \u001b[0mtmp_logs\u001b[0m \u001b[1;33m=\u001b[0m \u001b[0mself\u001b[0m\u001b[1;33m.\u001b[0m\u001b[0mtrain_function\u001b[0m\u001b[1;33m(\u001b[0m\u001b[0miterator\u001b[0m\u001b[1;33m)\u001b[0m\u001b[1;33m\u001b[0m\u001b[1;33m\u001b[0m\u001b[0m\n\u001b[0m\u001b[0;32m   1217\u001b[0m               \u001b[1;32mif\u001b[0m \u001b[0mdata_handler\u001b[0m\u001b[1;33m.\u001b[0m\u001b[0mshould_sync\u001b[0m\u001b[1;33m:\u001b[0m\u001b[1;33m\u001b[0m\u001b[1;33m\u001b[0m\u001b[0m\n\u001b[0;32m   1218\u001b[0m                 \u001b[0mcontext\u001b[0m\u001b[1;33m.\u001b[0m\u001b[0masync_wait\u001b[0m\u001b[1;33m(\u001b[0m\u001b[1;33m)\u001b[0m\u001b[1;33m\u001b[0m\u001b[1;33m\u001b[0m\u001b[0m\n",
      "\u001b[1;32m~\\AppData\\Local\\Programs\\Python\\Python37\\lib\\site-packages\\tensorflow\\python\\util\\traceback_utils.py\u001b[0m in \u001b[0;36merror_handler\u001b[1;34m(*args, **kwargs)\u001b[0m\n\u001b[0;32m    148\u001b[0m     \u001b[0mfiltered_tb\u001b[0m \u001b[1;33m=\u001b[0m \u001b[1;32mNone\u001b[0m\u001b[1;33m\u001b[0m\u001b[1;33m\u001b[0m\u001b[0m\n\u001b[0;32m    149\u001b[0m     \u001b[1;32mtry\u001b[0m\u001b[1;33m:\u001b[0m\u001b[1;33m\u001b[0m\u001b[1;33m\u001b[0m\u001b[0m\n\u001b[1;32m--> 150\u001b[1;33m       \u001b[1;32mreturn\u001b[0m \u001b[0mfn\u001b[0m\u001b[1;33m(\u001b[0m\u001b[1;33m*\u001b[0m\u001b[0margs\u001b[0m\u001b[1;33m,\u001b[0m \u001b[1;33m**\u001b[0m\u001b[0mkwargs\u001b[0m\u001b[1;33m)\u001b[0m\u001b[1;33m\u001b[0m\u001b[1;33m\u001b[0m\u001b[0m\n\u001b[0m\u001b[0;32m    151\u001b[0m     \u001b[1;32mexcept\u001b[0m \u001b[0mException\u001b[0m \u001b[1;32mas\u001b[0m \u001b[0me\u001b[0m\u001b[1;33m:\u001b[0m\u001b[1;33m\u001b[0m\u001b[1;33m\u001b[0m\u001b[0m\n\u001b[0;32m    152\u001b[0m       \u001b[0mfiltered_tb\u001b[0m \u001b[1;33m=\u001b[0m \u001b[0m_process_traceback_frames\u001b[0m\u001b[1;33m(\u001b[0m\u001b[0me\u001b[0m\u001b[1;33m.\u001b[0m\u001b[0m__traceback__\u001b[0m\u001b[1;33m)\u001b[0m\u001b[1;33m\u001b[0m\u001b[1;33m\u001b[0m\u001b[0m\n",
      "\u001b[1;32m~\\AppData\\Local\\Programs\\Python\\Python37\\lib\\site-packages\\tensorflow\\python\\eager\\def_function.py\u001b[0m in \u001b[0;36m__call__\u001b[1;34m(self, *args, **kwds)\u001b[0m\n\u001b[0;32m    908\u001b[0m \u001b[1;33m\u001b[0m\u001b[0m\n\u001b[0;32m    909\u001b[0m       \u001b[1;32mwith\u001b[0m \u001b[0mOptionalXlaContext\u001b[0m\u001b[1;33m(\u001b[0m\u001b[0mself\u001b[0m\u001b[1;33m.\u001b[0m\u001b[0m_jit_compile\u001b[0m\u001b[1;33m)\u001b[0m\u001b[1;33m:\u001b[0m\u001b[1;33m\u001b[0m\u001b[1;33m\u001b[0m\u001b[0m\n\u001b[1;32m--> 910\u001b[1;33m         \u001b[0mresult\u001b[0m \u001b[1;33m=\u001b[0m \u001b[0mself\u001b[0m\u001b[1;33m.\u001b[0m\u001b[0m_call\u001b[0m\u001b[1;33m(\u001b[0m\u001b[1;33m*\u001b[0m\u001b[0margs\u001b[0m\u001b[1;33m,\u001b[0m \u001b[1;33m**\u001b[0m\u001b[0mkwds\u001b[0m\u001b[1;33m)\u001b[0m\u001b[1;33m\u001b[0m\u001b[1;33m\u001b[0m\u001b[0m\n\u001b[0m\u001b[0;32m    911\u001b[0m \u001b[1;33m\u001b[0m\u001b[0m\n\u001b[0;32m    912\u001b[0m       \u001b[0mnew_tracing_count\u001b[0m \u001b[1;33m=\u001b[0m \u001b[0mself\u001b[0m\u001b[1;33m.\u001b[0m\u001b[0mexperimental_get_tracing_count\u001b[0m\u001b[1;33m(\u001b[0m\u001b[1;33m)\u001b[0m\u001b[1;33m\u001b[0m\u001b[1;33m\u001b[0m\u001b[0m\n",
      "\u001b[1;32m~\\AppData\\Local\\Programs\\Python\\Python37\\lib\\site-packages\\tensorflow\\python\\eager\\def_function.py\u001b[0m in \u001b[0;36m_call\u001b[1;34m(self, *args, **kwds)\u001b[0m\n\u001b[0;32m    940\u001b[0m       \u001b[1;31m# In this case we have created variables on the first call, so we run the\u001b[0m\u001b[1;33m\u001b[0m\u001b[1;33m\u001b[0m\u001b[1;33m\u001b[0m\u001b[0m\n\u001b[0;32m    941\u001b[0m       \u001b[1;31m# defunned version which is guaranteed to never create variables.\u001b[0m\u001b[1;33m\u001b[0m\u001b[1;33m\u001b[0m\u001b[1;33m\u001b[0m\u001b[0m\n\u001b[1;32m--> 942\u001b[1;33m       \u001b[1;32mreturn\u001b[0m \u001b[0mself\u001b[0m\u001b[1;33m.\u001b[0m\u001b[0m_stateless_fn\u001b[0m\u001b[1;33m(\u001b[0m\u001b[1;33m*\u001b[0m\u001b[0margs\u001b[0m\u001b[1;33m,\u001b[0m \u001b[1;33m**\u001b[0m\u001b[0mkwds\u001b[0m\u001b[1;33m)\u001b[0m  \u001b[1;31m# pylint: disable=not-callable\u001b[0m\u001b[1;33m\u001b[0m\u001b[1;33m\u001b[0m\u001b[0m\n\u001b[0m\u001b[0;32m    943\u001b[0m     \u001b[1;32melif\u001b[0m \u001b[0mself\u001b[0m\u001b[1;33m.\u001b[0m\u001b[0m_stateful_fn\u001b[0m \u001b[1;32mis\u001b[0m \u001b[1;32mnot\u001b[0m \u001b[1;32mNone\u001b[0m\u001b[1;33m:\u001b[0m\u001b[1;33m\u001b[0m\u001b[1;33m\u001b[0m\u001b[0m\n\u001b[0;32m    944\u001b[0m       \u001b[1;31m# Release the lock early so that multiple threads can perform the call\u001b[0m\u001b[1;33m\u001b[0m\u001b[1;33m\u001b[0m\u001b[1;33m\u001b[0m\u001b[0m\n",
      "\u001b[1;32m~\\AppData\\Local\\Programs\\Python\\Python37\\lib\\site-packages\\tensorflow\\python\\eager\\function.py\u001b[0m in \u001b[0;36m__call__\u001b[1;34m(self, *args, **kwargs)\u001b[0m\n\u001b[0;32m   3129\u001b[0m        filtered_flat_args) = self._maybe_define_function(args, kwargs)\n\u001b[0;32m   3130\u001b[0m     return graph_function._call_flat(\n\u001b[1;32m-> 3131\u001b[1;33m         filtered_flat_args, captured_inputs=graph_function.captured_inputs)  # pylint: disable=protected-access\n\u001b[0m\u001b[0;32m   3132\u001b[0m \u001b[1;33m\u001b[0m\u001b[0m\n\u001b[0;32m   3133\u001b[0m   \u001b[1;33m@\u001b[0m\u001b[0mproperty\u001b[0m\u001b[1;33m\u001b[0m\u001b[1;33m\u001b[0m\u001b[0m\n",
      "\u001b[1;32m~\\AppData\\Local\\Programs\\Python\\Python37\\lib\\site-packages\\tensorflow\\python\\eager\\function.py\u001b[0m in \u001b[0;36m_call_flat\u001b[1;34m(self, args, captured_inputs, cancellation_manager)\u001b[0m\n\u001b[0;32m   1958\u001b[0m       \u001b[1;31m# No tape is watching; skip to running the function.\u001b[0m\u001b[1;33m\u001b[0m\u001b[1;33m\u001b[0m\u001b[1;33m\u001b[0m\u001b[0m\n\u001b[0;32m   1959\u001b[0m       return self._build_call_outputs(self._inference_function.call(\n\u001b[1;32m-> 1960\u001b[1;33m           ctx, args, cancellation_manager=cancellation_manager))\n\u001b[0m\u001b[0;32m   1961\u001b[0m     forward_backward = self._select_forward_and_backward_functions(\n\u001b[0;32m   1962\u001b[0m         \u001b[0margs\u001b[0m\u001b[1;33m,\u001b[0m\u001b[1;33m\u001b[0m\u001b[1;33m\u001b[0m\u001b[0m\n",
      "\u001b[1;32m~\\AppData\\Local\\Programs\\Python\\Python37\\lib\\site-packages\\tensorflow\\python\\eager\\function.py\u001b[0m in \u001b[0;36mcall\u001b[1;34m(self, ctx, args, cancellation_manager)\u001b[0m\n\u001b[0;32m    601\u001b[0m               \u001b[0minputs\u001b[0m\u001b[1;33m=\u001b[0m\u001b[0margs\u001b[0m\u001b[1;33m,\u001b[0m\u001b[1;33m\u001b[0m\u001b[1;33m\u001b[0m\u001b[0m\n\u001b[0;32m    602\u001b[0m               \u001b[0mattrs\u001b[0m\u001b[1;33m=\u001b[0m\u001b[0mattrs\u001b[0m\u001b[1;33m,\u001b[0m\u001b[1;33m\u001b[0m\u001b[1;33m\u001b[0m\u001b[0m\n\u001b[1;32m--> 603\u001b[1;33m               ctx=ctx)\n\u001b[0m\u001b[0;32m    604\u001b[0m         \u001b[1;32melse\u001b[0m\u001b[1;33m:\u001b[0m\u001b[1;33m\u001b[0m\u001b[1;33m\u001b[0m\u001b[0m\n\u001b[0;32m    605\u001b[0m           outputs = execute.execute_with_cancellation(\n",
      "\u001b[1;32m~\\AppData\\Local\\Programs\\Python\\Python37\\lib\\site-packages\\tensorflow\\python\\eager\\execute.py\u001b[0m in \u001b[0;36mquick_execute\u001b[1;34m(op_name, num_outputs, inputs, attrs, ctx, name)\u001b[0m\n\u001b[0;32m     57\u001b[0m     \u001b[0mctx\u001b[0m\u001b[1;33m.\u001b[0m\u001b[0mensure_initialized\u001b[0m\u001b[1;33m(\u001b[0m\u001b[1;33m)\u001b[0m\u001b[1;33m\u001b[0m\u001b[1;33m\u001b[0m\u001b[0m\n\u001b[0;32m     58\u001b[0m     tensors = pywrap_tfe.TFE_Py_Execute(ctx._handle, device_name, op_name,\n\u001b[1;32m---> 59\u001b[1;33m                                         inputs, attrs, num_outputs)\n\u001b[0m\u001b[0;32m     60\u001b[0m   \u001b[1;32mexcept\u001b[0m \u001b[0mcore\u001b[0m\u001b[1;33m.\u001b[0m\u001b[0m_NotOkStatusException\u001b[0m \u001b[1;32mas\u001b[0m \u001b[0me\u001b[0m\u001b[1;33m:\u001b[0m\u001b[1;33m\u001b[0m\u001b[1;33m\u001b[0m\u001b[0m\n\u001b[0;32m     61\u001b[0m     \u001b[1;32mif\u001b[0m \u001b[0mname\u001b[0m \u001b[1;32mis\u001b[0m \u001b[1;32mnot\u001b[0m \u001b[1;32mNone\u001b[0m\u001b[1;33m:\u001b[0m\u001b[1;33m\u001b[0m\u001b[1;33m\u001b[0m\u001b[0m\n",
      "\u001b[1;31mKeyboardInterrupt\u001b[0m: "
     ]
    }
   ],
   "source": [
    "np.random.seed(123)\n",
    "history=model.fit(x_train,y_train,batch_size=500,epochs=50,validation_split=0.2)"
   ]
  },
  {
   "cell_type": "code",
   "execution_count": null,
   "metadata": {},
   "outputs": [],
   "source": []
  }
 ],
 "metadata": {
  "interpreter": {
   "hash": "9adc28363fb55f58b9f81c0e9bf0ae82c66dedd6094e94fb540897376d035013"
  },
  "kernelspec": {
   "display_name": "Python 3.7.9 64-bit (windows store)",
   "language": "python",
   "name": "python3"
  },
  "language_info": {
   "codemirror_mode": {
    "name": "ipython",
    "version": 3
   },
   "file_extension": ".py",
   "mimetype": "text/x-python",
   "name": "python",
   "nbconvert_exporter": "python",
   "pygments_lexer": "ipython3",
   "version": "3.7.8"
  },
  "orig_nbformat": 4
 },
 "nbformat": 4,
 "nbformat_minor": 2
}
